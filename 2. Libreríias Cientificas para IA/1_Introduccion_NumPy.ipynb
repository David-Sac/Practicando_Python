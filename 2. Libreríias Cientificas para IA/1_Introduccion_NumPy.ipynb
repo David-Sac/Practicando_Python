{
 "cells": [
  {
   "cell_type": "markdown",
   "id": "b8725dc3",
   "metadata": {},
   "source": [
    "# Intriducción a NumPy\n",
    "\n",
    "NumPy (Numerical Python) es la libreria más usada para trabajar con matrices y calculos numéricos en Python"
   ]
  },
  {
   "cell_type": "markdown",
   "id": "96ee94c0",
   "metadata": {},
   "source": [
    "## Instalación\n",
    "pip install numpy"
   ]
  },
  {
   "cell_type": "markdown",
   "id": "11d1f5d9",
   "metadata": {},
   "source": [
    "## Crear arrays"
   ]
  },
  {
   "cell_type": "code",
   "execution_count": 3,
   "id": "d7db5c0a",
   "metadata": {},
   "outputs": [
    {
     "name": "stdout",
     "output_type": "stream",
     "text": [
      "[1 2 3 4]\n",
      "[[1 2 3]\n",
      " [4 5 6]]\n"
     ]
    }
   ],
   "source": [
    "import numpy as np\n",
    "# array 1D\n",
    "arr = np.array([1, 2, 3, 4])\n",
    "print(arr)\n",
    "\n",
    "# array 2D\n",
    "matriz = np.array([[1,2,3], [4,5,6]])\n",
    "print(matriz)"
   ]
  },
  {
   "cell_type": "markdown",
   "id": "dbed4c4e",
   "metadata": {},
   "source": [
    "## Propiedades de un array"
   ]
  },
  {
   "cell_type": "code",
   "execution_count": null,
   "id": "6405c7e7",
   "metadata": {},
   "outputs": [
    {
     "name": "stdout",
     "output_type": "stream",
     "text": [
      "(4,)\n",
      "1\n",
      "4\n",
      "int32\n"
     ]
    }
   ],
   "source": [
    "print(arr.shape) # dimensiones\n",
    "print(arr.ndim) # muestra el número de dimensiones en el array\n",
    "print(arr.size) # cantidad ded elementos\n",
    "print(arr.dtype) # tipo de dato"
   ]
  },
  {
   "cell_type": "markdown",
   "id": "c8c5f7bb",
   "metadata": {},
   "source": [
    "## Operaciones matematicas \n",
    "\n",
    "NumPy permite operaciones matematicas sin necesidad del uso de bucles"
   ]
  },
  {
   "cell_type": "code",
   "execution_count": 6,
   "id": "195fb1af",
   "metadata": {},
   "outputs": [
    {
     "name": "stdout",
     "output_type": "stream",
     "text": [
      "[5 7 9]\n",
      "[ 4 10 18]\n",
      "[1 4 9]\n"
     ]
    }
   ],
   "source": [
    "a = np.array([1,2,3])\n",
    "b = np.array([4,5,6])\n",
    "\n",
    "print(a + b)\n",
    "print(a * b)\n",
    "print(a ** 2)"
   ]
  },
  {
   "cell_type": "markdown",
   "id": "5bc58d31",
   "metadata": {},
   "source": [
    "## Funciones útiles"
   ]
  },
  {
   "cell_type": "code",
   "execution_count": 9,
   "id": "26e06188",
   "metadata": {},
   "outputs": [
    {
     "name": "stdout",
     "output_type": "stream",
     "text": [
      "[[0. 0.]\n",
      " [0. 0.]]\n",
      "[[1. 1. 1.]\n",
      " [1. 1. 1.]\n",
      " [1. 1. 1.]]\n",
      "[0 2 4 6 8]\n",
      "[0.   0.25 0.5  0.75 1.  ]\n"
     ]
    }
   ],
   "source": [
    "print(np.zeros((2,2)))\n",
    "print(np.ones((3,3)))\n",
    "print(np.arange(0,10,2)) #crea array seleccionando inicio, final y pasos\n",
    "print(np.linspace(0,1,5)) # puedes hacer un array seleccionando el numero de intervalos"
   ]
  },
  {
   "cell_type": "markdown",
   "id": "5c65341f",
   "metadata": {},
   "source": [
    "## Indexación y slicing"
   ]
  },
  {
   "cell_type": "code",
   "execution_count": 15,
   "id": "f9fef9a5",
   "metadata": {},
   "outputs": [
    {
     "name": "stdout",
     "output_type": "stream",
     "text": [
      "10\n",
      "[20 30 40]\n",
      "1\n",
      "[2 5 8]\n",
      "[4 5 6]\n"
     ]
    }
   ],
   "source": [
    "arr = np.array([10, 20, 30, 40, 50])\n",
    "print(arr[0]) # 10\n",
    "print(arr[1:4]) # [20 30 40]\n",
    "\n",
    "mat = np.array([[1,2,3,],[4,5,6],[7,8,9]])\n",
    "print(mat[0,0]) # 1\n",
    "print(mat[:,1]) # Columna 1\n",
    "print(mat[1,:]) # Fila 1"
   ]
  },
  {
   "cell_type": "code",
   "execution_count": 2,
   "id": "a9bc6c8c",
   "metadata": {},
   "outputs": [
    {
     "name": "stdout",
     "output_type": "stream",
     "text": [
      "[[1 2 3]\n",
      " [4 5 6]\n",
      " [7 8 9]]\n",
      "Elemento (0,1): 2\n",
      "Primera fila: [1 2 3]\n",
      "Columna 2: [2 5 8]\n"
     ]
    }
   ],
   "source": [
    "import numpy as np\n",
    "matriz = np.array([[1,2,3],[4,5,6],[7,8,9]])\n",
    "print(matriz)\n",
    "\n",
    "print(\"Elemento (0,1):\", matriz[0,1])  # 2\n",
    "print(\"Primera fila:\", matriz[0])      # [1 2 3]\n",
    "print(\"Columna 2:\", matriz[:,1])       # [2 5 8]\n"
   ]
  },
  {
   "cell_type": "code",
   "execution_count": 3,
   "id": "4a3b086c",
   "metadata": {},
   "outputs": [
    {
     "name": "stdout",
     "output_type": "stream",
     "text": [
      "[11 12 13 14]\n",
      "[2 4 6 8]\n",
      "[ 1  4  9 16]\n"
     ]
    }
   ],
   "source": [
    "arr = np.array([1, 2, 3, 4])\n",
    "\n",
    "print(arr + 10)   # [11 12 13 14]\n",
    "print(arr * 2)    # [2 4 6 8]\n",
    "print(arr ** 2)   # [1 4 9 16]\n"
   ]
  },
  {
   "cell_type": "code",
   "execution_count": 4,
   "id": "0eda2c46",
   "metadata": {},
   "outputs": [
    {
     "name": "stdout",
     "output_type": "stream",
     "text": [
      "Suma: 15\n",
      "Promedio: 3.0\n",
      "Desviación estándar: 1.4142135623730951\n",
      "Mínimo: 1\n",
      "Máximo: 5\n"
     ]
    }
   ],
   "source": [
    "arr = np.array([1, 2, 3, 4, 5])\n",
    "\n",
    "print(\"Suma:\", np.sum(arr))           # 15\n",
    "print(\"Promedio:\", np.mean(arr))      # 3.0\n",
    "print(\"Desviación estándar:\", np.std(arr))  # 1.4142...\n",
    "print(\"Mínimo:\", np.min(arr))         # 1\n",
    "print(\"Máximo:\", np.max(arr))         # 5\n"
   ]
  },
  {
   "cell_type": "code",
   "execution_count": 5,
   "id": "314caa1c",
   "metadata": {},
   "outputs": [
    {
     "name": "stdout",
     "output_type": "stream",
     "text": [
      "Producto matricial:\n",
      " [[19 22]\n",
      " [43 50]]\n"
     ]
    }
   ],
   "source": [
    "# Multiplicacion de matrices\n",
    "A = np.array([[1,2],[3,4]])\n",
    "B = np.array([[5,6],[7,8]])\n",
    "\n",
    "print(\"Producto matricial:\\n\", np.matmul(A,B))\n"
   ]
  },
  {
   "cell_type": "code",
   "execution_count": 22,
   "id": "087d8400",
   "metadata": {},
   "outputs": [
    {
     "name": "stdout",
     "output_type": "stream",
     "text": [
      "[ 1  2  3  4  5  6  7  8  9 10]\n",
      "3\n",
      "5\n",
      "7\n"
     ]
    }
   ],
   "source": [
    "# 1. Crea un array con los números del 1 al 10 y muestra el 3er, 5to y 7mo elemento\n",
    "\n",
    "arr = np.arange(1,11,1)\n",
    "print(arr)\n",
    "\n",
    "print(arr[2])\n",
    "print(arr[4])\n",
    "print(arr[6])"
   ]
  },
  {
   "cell_type": "code",
   "execution_count": 26,
   "id": "9e947a7f",
   "metadata": {},
   "outputs": [
    {
     "name": "stdout",
     "output_type": "stream",
     "text": [
      "[[1 2 3]\n",
      " [4 5 6]\n",
      " [7 8 9]]\n",
      "[1 5 9]\n"
     ]
    }
   ],
   "source": [
    "# 2. Crea una matriz 3x3 con los valores del 1 al 9 y muestra su diagonal\n",
    "\n",
    "arr = np.array([[1,2,3],[4,5,6],[7,8,9]])\n",
    "print(arr)\n",
    "\n",
    "print(arr.diagonal())"
   ]
  },
  {
   "cell_type": "code",
   "execution_count": 28,
   "id": "6bfed8cf",
   "metadata": {},
   "outputs": [
    {
     "name": "stdout",
     "output_type": "stream",
     "text": [
      "[  0.           5.26315789  10.52631579  15.78947368  21.05263158\n",
      "  26.31578947  31.57894737  36.84210526  42.10526316  47.36842105\n",
      "  52.63157895  57.89473684  63.15789474  68.42105263  73.68421053\n",
      "  78.94736842  84.21052632  89.47368421  94.73684211 100.        ]\n"
     ]
    }
   ],
   "source": [
    "# 3. Genera un array con 20 números del 0 al 100 usando linspace\n",
    "\n",
    "arr = np.linspace(0,100,20)\n",
    "print(arr)"
   ]
  },
  {
   "cell_type": "code",
   "execution_count": 30,
   "id": "5ffda09d",
   "metadata": {},
   "outputs": [
    {
     "name": "stdout",
     "output_type": "stream",
     "text": [
      "[ 4 16 36 64]\n"
     ]
    }
   ],
   "source": [
    "# 4. Calcula el cuadrado de cada número en [2, 4, 6, 8]\n",
    "\n",
    "arr = np.arange(2,9,2)\n",
    "print(arr**2)\n"
   ]
  },
  {
   "cell_type": "code",
   "execution_count": 31,
   "id": "d90b93be",
   "metadata": {},
   "outputs": [
    {
     "name": "stdout",
     "output_type": "stream",
     "text": [
      "[ 6 15 24]\n"
     ]
    }
   ],
   "source": [
    "# 5. Suma todas las filas de la matriz:\n",
    "\n",
    "arr = np.array([[1,2,3],[4,5,6],[7,8,9]])\n",
    "suma = arr.sum(axis=1)\n",
    "print(suma)"
   ]
  },
  {
   "cell_type": "code",
   "execution_count": 32,
   "id": "0e459f1c",
   "metadata": {},
   "outputs": [
    {
     "name": "stdout",
     "output_type": "stream",
     "text": [
      "[[1. 1. 1.]\n",
      " [1. 1. 1.]\n",
      " [1. 1. 1.]]\n"
     ]
    }
   ],
   "source": [
    "arr = np.ones((3,3))\n",
    "print(arr)"
   ]
  },
  {
   "cell_type": "code",
   "execution_count": 6,
   "id": "621594b0",
   "metadata": {},
   "outputs": [
    {
     "name": "stdout",
     "output_type": "stream",
     "text": [
      "[[1. 0. 0. 0.]\n",
      " [0. 1. 0. 0.]\n",
      " [0. 0. 1. 0.]\n",
      " [0. 0. 0. 1.]]\n"
     ]
    }
   ],
   "source": [
    "print(np.identity(4))"
   ]
  },
  {
   "cell_type": "code",
   "execution_count": 7,
   "id": "3c3b87d0",
   "metadata": {},
   "outputs": [
    {
     "name": "stdout",
     "output_type": "stream",
     "text": [
      "[ 2.71828183  7.3890561  20.08553692]\n"
     ]
    }
   ],
   "source": [
    "print(np.exp([1,2,3]))"
   ]
  },
  {
   "cell_type": "code",
   "execution_count": null,
   "id": "4e7791b7",
   "metadata": {},
   "outputs": [],
   "source": []
  }
 ],
 "metadata": {
  "kernelspec": {
   "display_name": "base",
   "language": "python",
   "name": "python3"
  },
  "language_info": {
   "codemirror_mode": {
    "name": "ipython",
    "version": 3
   },
   "file_extension": ".py",
   "mimetype": "text/x-python",
   "name": "python",
   "nbconvert_exporter": "python",
   "pygments_lexer": "ipython3",
   "version": "3.12.7"
  }
 },
 "nbformat": 4,
 "nbformat_minor": 5
}
