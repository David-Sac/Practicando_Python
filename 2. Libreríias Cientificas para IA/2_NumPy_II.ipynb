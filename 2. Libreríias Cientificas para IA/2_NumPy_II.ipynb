{
 "cells": [
  {
   "cell_type": "markdown",
   "id": "a45036e7",
   "metadata": {},
   "source": [
    "# NumPy II\n",
    "\n",
    "- Array = coleccion de datos homogéneos y optimizados para cálculos\n",
    "- Se pueden hacer operaciones vectorizadas sin bucles"
   ]
  },
  {
   "cell_type": "code",
   "execution_count": 3,
   "id": "7a34fce1",
   "metadata": {},
   "outputs": [
    {
     "name": "stdout",
     "output_type": "stream",
     "text": [
      "15\n",
      "120\n",
      "1\n",
      "5\n",
      "[1.         1.41421356 1.73205081 2.         2.23606798]\n",
      "[  2.71828183   7.3890561   20.08553692  54.59815003 148.4131591 ]\n",
      "[0.         0.69314718 1.09861229 1.38629436 1.60943791]\n"
     ]
    }
   ],
   "source": [
    "import numpy as np\n",
    "\n",
    "arr = np.array([1,2,3,4,5])\n",
    "\n",
    "print(np.sum(arr)) # suma\n",
    "print(np.prod(arr)) # multiplicar\n",
    "print(np.min(arr)) # muestra el numero mas bajo\n",
    "print(np.max(arr)) # muestra el nimero mas alto\n",
    "print(np.sqrt(arr)) # raiz cuadrada de cada elemento\n",
    "print(np.exp(arr)) # e^x para cada elemento\n",
    "print(np.log(arr)) # logaritmo natural"
   ]
  },
  {
   "cell_type": "markdown",
   "id": "ea31690b",
   "metadata": {},
   "source": [
    "## Funciones estadisticas"
   ]
  },
  {
   "cell_type": "code",
   "execution_count": null,
   "id": "dd429348",
   "metadata": {},
   "outputs": [
    {
     "name": "stdout",
     "output_type": "stream",
     "text": [
      "30.0\n",
      "30.0\n",
      "14.142135623730951\n",
      "200.0\n",
      "30.0\n"
     ]
    }
   ],
   "source": [
    "import numpy as np\n",
    "\n",
    "arr = np.array([10,20,30,40,50])\n",
    "\n",
    "print(np.mean(arr)) # media: 30\n",
    "print(np.median(arr)) # mediana: 30\n",
    "print(np.std(arr)) # desviacion estandar\n",
    "print(np.var(arr)) # varianza\n",
    "print(np.percentile(arr, 50))\n",
    "\n"
   ]
  },
  {
   "cell_type": "markdown",
   "id": "73b2e808",
   "metadata": {},
   "source": [
    "## Operaciones con matrices"
   ]
  },
  {
   "cell_type": "code",
   "execution_count": 4,
   "id": "be6cfa13",
   "metadata": {},
   "outputs": [
    {
     "name": "stdout",
     "output_type": "stream",
     "text": [
      "[[ 6  8]\n",
      " [ 9 11]]\n",
      "[[-4 -4]\n",
      " [-5 -5]]\n",
      "[[ 5 12]\n",
      " [14 24]]\n",
      "[[19 22]\n",
      " [31 36]]\n",
      "[[1 2]\n",
      " [2 3]]\n"
     ]
    }
   ],
   "source": [
    "A = np.array([[1,2], [2,3]])\n",
    "B = np.array([[5,6], [7,8]])\n",
    "\n",
    "print(A + B)\n",
    "print(A - B)\n",
    "print(A * B) # Multiplicacion elemento a elemento\n",
    "print(np.dot(A, B)) # Multiplicacion matricial\n",
    "print(A.T) # Transpuesta"
   ]
  },
  {
   "cell_type": "markdown",
   "id": "9296e0cd",
   "metadata": {},
   "source": [
    "## Eje (axis)"
   ]
  },
  {
   "cell_type": "code",
   "execution_count": 2,
   "id": "7904d134",
   "metadata": {},
   "outputs": [
    {
     "name": "stdout",
     "output_type": "stream",
     "text": [
      "[12 15 18]\n",
      "[ 6 15 24]\n"
     ]
    }
   ],
   "source": [
    "import numpy as np\n",
    "\n",
    "x = np.array([[1,2,3],\n",
    "              [4,5,6],\n",
    "              [7,8,9]])\n",
    "\n",
    "print(np.sum(x, axis=0)) #Trabaja con las columnas\n",
    "print(np.sum(x, axis=1)) # Trabaja con las filas"
   ]
  },
  {
   "cell_type": "markdown",
   "id": "aa43f1e5",
   "metadata": {},
   "source": []
  },
  {
   "cell_type": "markdown",
   "id": "095a3765",
   "metadata": {},
   "source": [
    "## uFuncs (Funciones vectorizadas)"
   ]
  },
  {
   "cell_type": "code",
   "execution_count": null,
   "id": "5f5e4f64",
   "metadata": {},
   "outputs": [
    {
     "name": "stdout",
     "output_type": "stream",
     "text": [
      "[1. 2. 3.]\n",
      "[0.         1.38629436 2.19722458]\n",
      "[2.71828183e+00 5.45981500e+01 8.10308393e+03]\n",
      "[ 0.84147098 -0.7568025   0.41211849]\n",
      "[1. 4. 9.]\n"
     ]
    }
   ],
   "source": [
    "arr = np.array([1.,4.,9.])\n",
    "print(np.sqrt(arr)) # Raiz cuadrada\n",
    "print(np.log(arr)) # Logaritmo\n",
    "print(np.exp(arr)) # e^x\n",
    "print(np.sin(arr)) # trigonometria\n",
    "print(np.abs(arr))\n"
   ]
  },
  {
   "cell_type": "markdown",
   "id": "2f1afa14",
   "metadata": {},
   "source": [
    "## Broadcasting\n",
    "\n",
    "Permite operar arrays de distinta forma/shape si sus dimensiones son compatibles"
   ]
  },
  {
   "cell_type": "code",
   "execution_count": 7,
   "id": "601fb44e",
   "metadata": {},
   "outputs": [
    {
     "name": "stdout",
     "output_type": "stream",
     "text": [
      "[[11 22 33]\n",
      " [14 25 36]\n",
      " [17 28 39]]\n"
     ]
    }
   ],
   "source": [
    "A = np.array([[1,2,3],\n",
    "              [4,5,6],\n",
    "              [7,8,9]])\n",
    "B = np.array([10,20,30])\n",
    "print(A + B)"
   ]
  },
  {
   "cell_type": "markdown",
   "id": "55839249",
   "metadata": {},
   "source": [
    "## Estadistica\n",
    "\n",
    "- Desviacion estandar. medida estadistica que cuantifica la dispersion o variacion de un conjunto de datos con respecto a su media\n",
    "\n",
    "$$ \\sigma = \\sqrt{\\frac{\\sum_{i=1}^{N}(x_i - \\mu)^2}{N}} $$"
   ]
  },
  {
   "cell_type": "code",
   "execution_count": 13,
   "id": "a1d0e997",
   "metadata": {},
   "outputs": [
    {
     "name": "stdout",
     "output_type": "stream",
     "text": [
      "nan\n",
      "3.0\n",
      "1.5811388300841898\n",
      "3.0\n",
      "3.0\n"
     ]
    }
   ],
   "source": [
    "x = np.array([1,2, np.nan, 4,5])\n",
    "print(np.mean(x)) # nos da la media, si hay un nan dentro se infecta\n",
    "print(np.nanmean(x)) # ignora nan\n",
    "print(np.nanstd(x)) # desviacion estandar ignorando nan\n",
    "print(np.median(x[~np.isnan(x)])) # mediana ignorando NaN, manualmente\n",
    "print(np.percentile([1,3,5,7,9], 25))"
   ]
  },
  {
   "cell_type": "markdown",
   "id": "a72c1170",
   "metadata": {},
   "source": [
    "- Normalizaciones"
   ]
  },
  {
   "cell_type": "code",
   "execution_count": 16,
   "id": "a6ed9581",
   "metadata": {},
   "outputs": [
    {
     "name": "stdout",
     "output_type": "stream",
     "text": [
      "[2. 4. 6. 8.]\n",
      "[0.         0.33333333 0.66666667 1.        ]\n"
     ]
    }
   ],
   "source": [
    "z = (x-np.nanmean(x)) / np.nanstd(x)\n",
    "\n",
    "a = np.array([2.,4.,6.,8.])\n",
    "norm = (a-a.min())/(a.max()-a.min())\n",
    "\n",
    "print(a)\n",
    "print(norm)"
   ]
  },
  {
   "cell_type": "markdown",
   "id": "aea19a76",
   "metadata": {},
   "source": [
    "## Algebra lineal"
   ]
  },
  {
   "cell_type": "code",
   "execution_count": 20,
   "id": "cc2bee8a",
   "metadata": {},
   "outputs": [
    {
     "name": "stdout",
     "output_type": "stream",
     "text": [
      "[[19. 22.]\n",
      " [43. 50.]]\n",
      "[[1. 3.]\n",
      " [2. 4.]]\n",
      "-2.0000000000000004\n",
      "[[-2.   1. ]\n",
      " [ 1.5 -0.5]]\n",
      "[0.  0.5]\n",
      "5.477225575051661\n",
      "5.0\n"
     ]
    }
   ],
   "source": [
    "A = np.array([[1.,2.],[3.,4.]])\n",
    "B = np.array([[5.,6.],[7.,8.]])\n",
    "\n",
    "print(A @ B)       # producto matricial (= np.matmul(A,B)) = np.dot(A,B) para 2D)\n",
    "print(A.T)         # transpuesta\n",
    "print(np.linalg.det(A))   # determinante (-2, 0)\n",
    "print(np.linalg.inv(A)) # inversa\n",
    "b = np.array([1.,2.])\n",
    "print(np.linalg.solve(A,b))  # Resuelve Ax=b de forma establ\n",
    "vals, vecs = np.linalg.eig(A) # autovalores y autovectores\n",
    "print(np.linalg.norm(A)) # norma (por defecto Frobenius para matrices)\n",
    "print(np.trace(A)) # traza"
   ]
  },
  {
   "cell_type": "markdown",
   "id": "56242d14",
   "metadata": {},
   "source": [
    "## Máscaras booleanas"
   ]
  },
  {
   "cell_type": "code",
   "execution_count": 26,
   "id": "59ff6860",
   "metadata": {},
   "outputs": [
    {
     "name": "stdout",
     "output_type": "stream",
     "text": [
      "[ 5 13  8]\n",
      "[ 5  0  0 13  8]\n",
      "['impar' 'par' 'par' 'impar' 'par']\n",
      "True False\n"
     ]
    }
   ],
   "source": [
    "arr = np.array([5,-2,0,13,8])\n",
    "mask = arr>4\n",
    "print(arr[mask])\n",
    "arr[arr < 0] = 0\n",
    "print(arr)\n",
    "print(np.where(arr % 2 == 0, \"par\",\"impar\")) # if/else vectorizado\n",
    "print((arr>3).any(), (arr>3).all())"
   ]
  },
  {
   "cell_type": "markdown",
   "id": "48d7e57d",
   "metadata": {},
   "source": [
    "## Reshape, stacking y tiling"
   ]
  },
  {
   "cell_type": "code",
   "execution_count": 38,
   "id": "7b946216",
   "metadata": {},
   "outputs": [
    {
     "name": "stdout",
     "output_type": "stream",
     "text": [
      "[ 0  1  2  3  4  5  6  7  8  9 10 11]\n",
      "[[ 0  1  2  3]\n",
      " [ 4  5  6  7]\n",
      " [ 8  9 10 11]]\n",
      "[ 0  1  2  3  4  5  6  7  8  9 10 11]\n",
      "[1 2 3 4]\n",
      "[[1 2]\n",
      " [3 4]]\n",
      "[1 2 1 2 1 2]\n"
     ]
    }
   ],
   "source": [
    "v = np.arange(12) # crea una lista desde a hasta b-1\n",
    "print(v)\n",
    "M = v.reshape(3,4) #(3x4)\n",
    "print(M)\n",
    "print(np.ravel(M)) #aplana\n",
    "print(np.hstack([[1,2],[3,4]])) # une arrays horizontalmente\n",
    "print(np.vstack([[1,2],[3,4]])) # apila arrays en fila verticalmente\n",
    "print(np.tile([1,2],3)) # repite el array n vece"
   ]
  },
  {
   "cell_type": "markdown",
   "id": "e2014139",
   "metadata": {},
   "source": [
    "## Aleatorieddad con numpy"
   ]
  },
  {
   "cell_type": "code",
   "execution_count": 53,
   "id": "e7b9aca3",
   "metadata": {},
   "outputs": [
    {
     "name": "stdout",
     "output_type": "stream",
     "text": [
      "Generator(PCG64)\n",
      "[1 5]\n",
      "[0.43887844 0.85859792 0.69736803 0.09417735 0.97562235]\n",
      "[ 1.27840403e-01 -3.16242592e-01 -1.68011575e-02 -8.53043928e-01\n",
      "  8.79397975e-01  7.77791935e-01  6.60306976e-02  1.12724121e+00\n",
      "  4.67509342e-01 -8.59292463e-01  3.68750784e-01 -9.58882601e-01\n",
      "  8.78450301e-01 -4.99259110e-02 -1.84862364e-01 -6.80929544e-01\n",
      "  1.22254134e+00 -1.54529482e-01 -4.28327822e-01 -3.52133550e-01\n",
      "  5.32309186e-01  3.65444064e-01  4.12732612e-01  4.30821003e-01\n",
      "  2.14164760e+00 -4.06415016e-01 -5.12242729e-01 -8.13772728e-01\n",
      "  6.15979423e-01  1.12897229e+00 -1.13947458e-01 -8.40156477e-01\n",
      " -8.24481216e-01  6.50592788e-01  7.43254171e-01  5.43154268e-01\n",
      " -6.65509707e-01  2.32161323e-01  1.16685809e-01  2.18688597e-01\n",
      "  8.71428778e-01  2.23595549e-01  6.78913563e-01  6.75790695e-02\n",
      "  2.89119399e-01  6.31288226e-01 -1.45715582e+00 -3.19671216e-01\n",
      " -4.70372654e-01 -6.38877848e-01 -2.75142251e-01  1.49494131e+00\n",
      " -8.65831116e-01  9.68278355e-01 -1.68286977e+00 -3.34885030e-01\n",
      "  1.62753065e-01  5.86222331e-01  7.11226580e-01  7.93347235e-01\n",
      " -3.48725072e-01 -4.62351793e-01  8.57975881e-01 -1.91304325e-01\n",
      " -1.27568632e+00 -1.13328721e+00 -9.19452286e-01  4.97160744e-01\n",
      "  1.42425736e-01  6.90485354e-01 -4.27252646e-01  1.58539691e-01\n",
      "  6.25590394e-01 -3.09346540e-01  4.56775238e-01 -6.61925941e-01\n",
      " -3.63053847e-01 -3.81737894e-01 -1.19583965e+00  4.86972481e-01\n",
      " -4.69402340e-01  1.24941187e-02  4.80746659e-01  4.46531176e-01\n",
      "  6.65385109e-01 -9.84854845e-02 -4.23298312e-01 -7.97182109e-02\n",
      " -1.68733443e+00 -1.44711247e+00 -1.32269961e+00 -9.97246828e-01\n",
      "  3.99774227e-01 -9.05479055e-01 -3.78162554e-01  1.29922830e+00\n",
      " -3.56263971e-01  7.37515568e-01 -9.33617680e-01 -2.05437558e-01\n",
      " -9.50022055e-01 -3.39033076e-01  8.40308137e-01 -1.72732042e+00\n",
      "  4.34423644e-01  2.37735602e-01 -5.94149956e-01 -1.44605785e+00\n",
      "  7.21295077e-02 -5.29492709e-01  2.32676211e-01  2.18521455e-02\n",
      "  1.60177889e+00 -2.39355627e-01 -1.02349749e+00  1.79275635e-01\n",
      "  2.19996684e-01  1.35918758e+00  8.35111246e-01  3.56871059e-01\n",
      "  1.46330289e+00 -1.18876305e+00 -6.39751533e-01 -9.26575941e-01\n",
      " -3.89809803e-01 -1.37668615e+00  6.35150947e-01 -2.22222697e-01\n",
      " -1.47080629e+00 -1.01557908e+00  3.13513847e-01  8.38126568e-01\n",
      "  1.99673089e+00  2.91386247e+00  4.14409433e-01 -9.89538120e-01\n",
      " -2.13204628e+00  2.67711462e-01 -8.12941095e-01 -4.15357260e-01\n",
      " -6.12096799e-01 -1.40790886e-01  1.06598023e+00  1.57048567e-01\n",
      " -1.58634837e-01 -1.03565375e+00 -1.67468294e+00 -4.86307909e-01\n",
      " -5.37825508e-02  1.76792991e+00  1.30274521e-01  9.82739511e-01\n",
      " -4.99295599e-01 -1.18494377e+00 -9.65116762e-01 -7.25226065e-01\n",
      "  2.12846973e+00 -8.21386679e-01  8.38489204e-01 -9.02927178e-01\n",
      "  9.31573013e-01  3.84950966e-01 -1.56637898e-01 -4.07625261e-02\n",
      " -6.54787695e-01  4.46072201e-01 -4.54983480e-01 -1.22560576e+00\n",
      " -1.27793757e+00  1.72587918e-01  1.57909126e+00  1.59991614e-01\n",
      " -1.18638326e-01  2.85826140e-01  1.30600174e+00  2.19382501e-01\n",
      " -4.10927231e-01  1.10628871e+00  4.28756438e-01  1.53575599e+00\n",
      "  1.83234437e-01 -1.22446903e+00 -1.36815920e+00  1.65092793e+00\n",
      "  1.72366572e+00 -1.79519213e-01 -3.83187321e-01  1.46144429e+00\n",
      " -1.10704568e+00 -8.94727019e-01  6.43326795e-01 -3.94605123e-01\n",
      " -5.12186672e-03 -1.63442899e-01  3.37574549e-01  1.40748186e+00\n",
      "  9.05849069e-02  6.43938793e-01 -2.05017210e+00 -4.87184019e-02\n",
      " -8.43230270e-01 -1.21881306e+00 -8.78152367e-01 -3.34123441e-01\n",
      "  9.15902542e-01 -1.32639272e+00  3.06314926e-02 -4.84169433e-01\n",
      " -3.27673094e-01  1.00275783e+00  5.38115437e-01  1.33739811e+00\n",
      " -1.54505679e-01 -6.95942612e-01 -2.23858817e-01  2.42496791e-01\n",
      "  1.76573358e-01 -1.08438807e+00  9.04897816e-02  2.28228330e-01\n",
      "  2.51747404e+00  1.87684461e+00 -8.53243351e-01 -2.87383362e-01\n",
      " -1.46344200e+00 -5.90707014e-01  3.15605004e-01  1.20585362e+00\n",
      " -7.29083838e-01 -6.54146440e-01 -2.14728903e+00 -1.62665921e-01\n",
      " -1.06241441e+00 -5.29439427e-01 -8.76860778e-01 -9.42625543e-02\n",
      " -1.75772839e+00 -1.46704525e+00  2.12924711e+00 -1.28742258e+00\n",
      " -1.09678558e+00  1.83691353e+00  2.90506717e+00 -1.17156663e+00\n",
      " -3.68248957e-01  3.41555551e-01  1.72869764e+00 -9.86857078e-01\n",
      " -2.45277846e-01  7.77337576e-01  4.34766074e-01 -3.76156071e-01\n",
      " -1.33822965e-01 -1.37489581e+00 -2.38173744e-01 -2.66387490e-01\n",
      "  2.32169890e-01 -5.55327219e-01  4.71538523e-01  1.01271582e+00\n",
      "  1.55429328e-01  3.51756408e-01  5.31553476e-02  8.43930914e-05\n",
      " -7.21558034e-01  3.16494262e-01 -9.72865984e-02  2.09316831e+00\n",
      "  1.57335490e+00  3.85846553e-01 -7.63057210e-01 -1.11241147e+00\n",
      "  1.19114295e+00  2.62749225e-01  4.80143403e-01 -1.74458599e+00\n",
      "  9.27438482e-01  4.54420338e-01 -1.11043068e+00 -4.71524807e-01\n",
      "  2.63717204e-01  5.24667984e-02 -2.92171186e-01 -1.03488268e-01\n",
      " -2.51977378e-01  1.52562512e-01  1.47149197e+00 -2.56665844e+00\n",
      " -2.36850265e-01  1.76512421e-01  2.95993990e-01 -3.71914581e-01\n",
      " -1.75672178e+00  3.27995484e-01  1.72735021e+00 -1.53386140e+00\n",
      "  8.63828014e-01 -3.28525223e-01 -6.13243458e-02 -1.05289851e+00\n",
      " -3.34456172e-01  1.30004459e+00  5.82655242e-01  1.73231161e+00\n",
      "  1.17741189e+00  4.39086679e-01  1.74393453e+00  4.38993159e-01\n",
      "  8.27988177e-01 -2.96570954e-01  6.65458159e-02 -6.97423823e-01\n",
      "  9.89583935e-01 -1.17830362e+00  7.82350342e-01 -1.90651058e-01\n",
      "  1.17124709e+00  7.50868989e-01  1.82064616e+00  7.30774691e-01\n",
      " -1.57204026e+00 -6.69531729e-02 -1.17200719e+00 -5.18279842e-01\n",
      "  1.51122843e+00  6.37533811e-01 -6.98930429e-01 -1.01371737e+00\n",
      "  3.27820929e-02 -1.21656015e+00 -6.71140277e-01  3.12009472e-01\n",
      "  1.15531204e+00  6.08761472e-01 -2.29128951e+00  3.04366729e-01\n",
      "  7.20335732e-02  4.13890285e-01  1.61620968e+00 -2.06323828e+00\n",
      " -5.91103425e-01  5.90906323e-01 -1.58159440e+00  1.47594905e+00\n",
      "  3.68356613e-01  8.46583986e-01 -5.70943662e-01  8.13763690e-01\n",
      "  1.06847156e+00  2.32878020e-01  2.34400893e-01  2.70343239e-01\n",
      " -8.63345265e-01 -1.47528680e-01 -1.52522532e-01  3.83393864e-01\n",
      "  9.99824247e-01 -1.05853608e+00 -1.25009030e-01  1.48145555e+00\n",
      " -7.43588229e-01 -8.22250017e-01  2.02306192e-01  8.44385190e-01\n",
      "  1.14260556e-02  1.32896059e+00  8.56793983e-01  8.41820067e-01\n",
      "  5.54116501e-01  2.32765310e+00 -2.05161689e-01 -2.00352229e+00\n",
      "  1.60425436e+00 -4.57699431e-01  1.07880444e-01  1.30955068e+00\n",
      " -1.60225954e+00 -1.25164721e+00 -1.60127794e+00 -7.94136290e-01\n",
      "  4.39636606e-01  5.24187843e-01  2.76274179e-01 -1.41276588e+00\n",
      " -2.31010344e+00  5.43535854e-02 -4.71776034e-01  4.59385772e-01\n",
      "  7.01953626e-01  1.38241432e-01  7.60133085e-01  2.29211374e-01\n",
      "  5.30064706e-01 -7.04673263e-01 -1.79611414e-01  1.96776097e-01\n",
      "  8.20528475e-01 -3.93741172e-01  5.21167256e-01 -2.65838792e-01\n",
      " -1.17542167e-01  8.29519042e-01 -1.99306037e+00 -1.29647233e+00\n",
      " -1.48218540e+00 -2.33361612e+00 -6.78264440e-01  7.49433900e-01\n",
      " -2.84884066e-01  1.97790082e-01  1.08921750e+00  1.32768613e+00\n",
      " -6.91379347e-02  1.35358589e+00  9.21266584e-02 -8.37398224e-01\n",
      " -5.94400352e-01 -1.48053651e+00 -8.88133854e-01 -3.58016688e-01\n",
      "  8.03585019e-01  1.72076983e+00 -1.38218152e+00  3.92827468e-01\n",
      " -1.04054394e+00  4.74697088e-01 -1.31086651e-01 -1.83090583e+00\n",
      "  9.28296992e-01 -6.05000713e-01 -5.33900238e-01 -1.06975241e+00\n",
      " -6.54283277e-01  4.27890441e-01 -1.89244341e-01  3.28662002e-01\n",
      "  3.61921854e-01  1.32066166e+00 -3.42786151e-01 -1.47685782e+00\n",
      "  1.06722242e+00 -3.31488172e-01  1.11459244e+00  3.83377113e-01\n",
      " -1.31137530e-01  3.48775894e-01  1.95101256e+00  2.07698053e+00\n",
      "  6.93811351e-02  1.60190593e-01  1.07624016e+00 -8.45661033e-01\n",
      "  3.33070373e-01 -2.58628480e-02  3.13908211e-01 -8.33368806e-01\n",
      " -1.58956749e+00 -2.07298344e+00 -1.11738411e+00 -4.58675285e-01\n",
      " -2.93191587e-01  1.93723116e+00  1.10599337e+00 -9.62091116e-01\n",
      "  3.47708452e-01 -4.07078236e-01 -2.84363838e-01  1.85325649e-01\n",
      "  6.19171117e-01 -3.39258484e-01  1.06385153e+00 -1.14193823e+00\n",
      "  6.33906236e-03  2.59767373e+00  2.23079743e-01  1.43321451e+00\n",
      "  9.15201782e-02  5.80777095e-01 -5.67831944e-02 -1.70407581e-01\n",
      " -7.79482397e-01  4.30301359e-01 -8.51537189e-01  6.65585236e-01\n",
      "  1.08528700e+00  3.66531407e-01 -2.86248734e-01  4.53965579e-01\n",
      " -3.08673056e-01  9.35547125e-01 -1.83140608e+00 -3.35607368e-01\n",
      " -1.99081200e+00 -1.49506083e+00  1.36386223e+00  8.95184982e-01\n",
      " -7.19480233e-01 -1.50250346e+00 -2.96452884e+00 -5.43495508e-01\n",
      "  2.42041501e+00  4.34884271e-01 -5.59572286e-01  4.65080210e-01\n",
      " -1.56095835e+00 -2.97323363e-01  9.94774730e-02 -8.61006518e-02\n",
      "  7.90806122e-01  3.44645226e-01  6.68326018e-01 -6.88372282e-01\n",
      "  8.97815408e-01  1.62893695e+00 -9.70149520e-01 -8.87695656e-01\n",
      "  1.33578434e+00 -1.91343987e-01  1.40382139e+00 -4.42535712e-01\n",
      "  1.45504558e+00  1.31485817e-01  2.58228823e-01  1.56471802e+00\n",
      " -3.61770477e-01 -9.41122096e-01 -4.48564208e-01  4.52333951e-01\n",
      " -1.56575907e+00  6.37470903e-01 -5.38771318e-01  1.14781266e+00\n",
      " -2.39426030e+00 -7.86565775e-01 -1.68646815e+00 -8.26229466e-01\n",
      "  2.47665901e-01 -1.79226625e-01 -2.53377569e-01 -1.59184871e-01\n",
      "  2.03388241e-01 -1.00853604e+00  7.06849641e-01  6.62665970e-01\n",
      "  3.85037938e-01  5.56533443e-01  2.96418001e-01  2.03507330e+00\n",
      " -8.70941711e-02 -3.07083218e-01 -7.53527580e-01 -1.03226267e+00\n",
      " -1.24447179e+00 -8.88797313e-01 -7.06803817e-02  3.34295128e-01\n",
      "  5.11420586e-02 -7.65535277e-01  9.00184564e-01  7.39412672e-01\n",
      " -1.59648307e-01 -6.52916145e-01  5.48427921e-01  1.87973587e-01\n",
      " -1.44812726e+00 -6.79802560e-02  2.62035812e-01 -8.99694786e-01\n",
      "  1.89843393e-01 -1.45482249e+00  1.33618610e+00  1.24794999e+00\n",
      " -2.52517334e-01  3.63454338e-01 -2.40992197e+00 -1.15634766e+00\n",
      " -2.93778920e-01 -1.07213302e+00  7.14396483e-01  1.99729653e+00\n",
      " -1.17661472e+00 -8.37463404e-01  2.35448368e-01  1.61111615e+00\n",
      " -1.22237431e+00  2.49036122e-01  1.82129885e+00 -1.65175915e+00\n",
      " -1.28106921e+00 -4.23606606e-01 -5.20588413e-01  8.12601288e-01\n",
      "  2.41659720e-01 -1.77496206e+00  5.15410403e-01 -5.77538887e-01\n",
      "  1.27444722e+00 -6.27587536e-01 -6.36615283e-01  5.41131611e-01\n",
      "  7.62926482e-01  4.48099364e-01 -1.68559732e+00  5.38034440e-01\n",
      " -1.03430805e+00  2.35276112e-01 -1.42373444e+00  4.46322148e-01\n",
      " -8.06598904e-01 -1.28263465e+00  7.13820136e-01  2.41644522e-01\n",
      " -6.13976801e-01  1.45117885e+00 -4.40652422e-01  3.21076740e-02\n",
      "  2.68913448e-01 -6.19665934e-01  4.71136293e-01 -5.33452347e-01\n",
      " -4.11638322e-01  1.36264264e+00 -1.04058605e+00 -2.41278033e+00\n",
      "  1.61093700e+00  2.54932795e+00 -4.05269265e-01 -1.93683804e+00\n",
      " -3.10483976e-01 -2.86222950e-01 -1.89923841e-01 -1.11338804e+00\n",
      "  5.79561142e-01  5.24507375e-01 -1.49440562e+00  6.99196732e-01\n",
      "  2.05268498e+00  1.71960332e-01 -3.37325162e-01 -1.42003214e-01\n",
      "  6.15256767e-01 -1.73067161e+00  1.64390703e-01 -3.90463949e-01\n",
      "  1.84782501e+00 -1.74172734e-01  1.66788761e+00 -1.10374070e+00\n",
      "  5.87259167e-01  3.19400264e-01 -8.69047248e-01  1.77396115e-01\n",
      "  1.21251884e+00 -3.23791704e-01 -1.69196265e+00 -1.75628265e-02\n",
      " -9.02423095e-01 -3.42340939e-01 -8.15877697e-02 -1.70565222e+00\n",
      " -1.61565834e+00  4.82066836e-01 -5.22718696e-01 -2.56474434e+00\n",
      "  7.84844037e-01  2.72369755e-01 -7.13874824e-01 -1.31683021e+00\n",
      "  8.35807896e-01  3.49350623e-01  2.38260228e+00  4.20188599e-01\n",
      "  3.87703141e-01 -1.66927930e-01  8.16775867e-01  6.25085201e-01\n",
      "  1.25172501e+00 -5.21322919e-01 -4.35407473e-01 -4.79103171e-01\n",
      "  7.90801721e-01  1.49837444e+00 -4.58840493e-01 -4.24773728e-01\n",
      "  3.14077224e-01 -2.45761500e-01  9.52053653e-01 -2.25177729e+00\n",
      " -8.26705047e-01 -7.82416334e-01 -2.32035601e+00 -9.63638444e-01\n",
      " -9.15156116e-01 -2.01104655e-01  1.11296589e+00 -2.45060651e-01\n",
      " -1.03081372e+00 -5.69545412e-02  1.04917362e+00 -9.75958816e-01\n",
      " -9.10574884e-01  5.58548959e-01 -2.21536116e-01  6.47484691e-01\n",
      " -1.36467918e-02  7.01663648e-01 -1.03507811e+00 -1.20846508e-02\n",
      " -2.10690014e-01 -1.21589092e+00 -1.56347795e+00  6.85749035e-01\n",
      " -3.50952382e-01 -1.02228028e+00 -9.61789369e-02  1.12801886e+00\n",
      " -2.28073785e+00 -1.49663869e+00 -9.22886442e-01  1.46117887e+00\n",
      "  2.82586983e-01  7.67317240e-01 -1.14016092e+00 -1.11953588e+00\n",
      "  4.47813717e-01  5.82743309e-02  5.48738819e-01 -1.87670991e-01\n",
      "  2.78143726e-01  1.58119085e-01  7.77767389e-01  8.07008282e-01\n",
      " -1.61987199e+00 -2.24726856e+00  1.00174540e+00  1.18772509e+00\n",
      " -1.02062302e+00 -1.85983541e+00  9.90348210e-02  9.30838226e-01\n",
      "  1.79759452e+00  5.16297572e-01 -3.71716697e-01 -8.93130622e-01\n",
      "  1.14512917e-02 -2.99264704e-01 -1.01506791e+00  2.04875565e+00\n",
      "  1.78516840e+00  1.13604868e+00 -9.20850398e-01  8.55019324e-01\n",
      "  6.39626409e-01  4.42545624e-01  1.24966527e+00  6.35371143e-01\n",
      "  7.40014236e-01  6.36906283e-01  3.40791408e-01 -1.78361113e+00\n",
      "  8.36210774e-02 -5.56191959e-01 -1.27984096e+00  1.68181662e+00\n",
      "  1.72899534e+00  1.35922060e+00  2.55213417e-01  1.35062512e+00\n",
      "  1.20531806e-02  2.02797277e-01 -1.09347137e+00  3.96991304e-01\n",
      "  6.03859284e-02 -1.30265212e+00 -5.11971118e-02 -7.97295639e-02\n",
      "  1.79756117e+00  8.94213329e-01  1.14454391e-02  2.48787310e-01\n",
      "  4.42123781e-02 -2.02913985e-01 -1.08242720e+00 -1.51051878e-01\n",
      " -7.46098257e-01 -1.25031554e+00  5.11221815e-01  3.91264660e-01\n",
      " -1.78670751e+00 -1.22684637e-01  9.95701386e-01  1.05922374e+00\n",
      "  1.02583684e+00  3.89132069e-02 -8.45045328e-01 -1.08369883e+00\n",
      "  3.44604905e-01  3.79280034e-01  1.28733111e+00  1.09997965e+00\n",
      " -1.32228657e-01 -1.24420588e+00 -3.19106597e-01  2.17231195e-01\n",
      " -2.02083245e-01 -5.77894108e-01  2.52884815e-01 -5.03957741e-01\n",
      " -6.28066084e-01  3.11452834e-01 -4.01992580e-01  2.44104389e-01\n",
      "  2.73204023e-01 -1.13942900e+00 -4.81241124e-01  1.43777694e+00\n",
      " -1.16207951e+00 -2.11665445e+00 -1.86184515e+00  2.91099466e-02\n",
      "  3.09172780e-02 -1.17610855e-01  1.21418983e+00 -2.67283443e+00\n",
      "  3.95933874e-01  1.56143820e+00 -1.12778076e+00 -3.79806512e-01\n",
      " -7.52891917e-01 -8.94346046e-01 -3.26262005e-01  1.42748528e+00\n",
      "  1.83738668e+00 -3.35939225e-01  1.90506021e+00  3.55764770e-02\n",
      "  1.75369103e+00 -9.32986497e-02  1.31057826e-01  3.65474473e-01\n",
      "  3.17885368e+00  8.51285575e-01 -7.07264530e-01  9.68997870e-01\n",
      " -3.61832537e-01 -4.89750183e-01  9.08601360e-01  3.10855878e-02\n",
      "  2.78575915e-01  1.39852219e-02  3.36583127e-01  4.24965897e-01\n",
      " -1.93696693e+00  6.66572669e-01 -9.82019420e-01 -1.44229914e+00\n",
      " -5.84112439e-02  8.39810033e-02 -6.93506165e-01  8.31031858e-01\n",
      " -1.34217517e+00 -4.06943749e-01 -5.84874135e-01 -4.65872703e-02\n",
      "  2.78864285e-01 -1.00789295e+00  7.24282677e-01  6.30023683e-02\n",
      " -1.89194625e+00 -1.95859144e+00 -1.23192929e-02 -2.20967318e-01\n",
      " -1.03420114e-01 -2.79824565e-02  2.25559840e-01  9.47649610e-01\n",
      " -1.11110490e+00 -1.17197159e+00 -1.09332386e+00  2.88916667e-01\n",
      "  1.24494738e+00 -4.31339438e-01 -2.50169984e+00 -1.70399286e+00\n",
      " -8.33036723e-01 -5.57728887e-01 -4.08388627e-01  3.85811230e-02\n",
      " -3.11746331e-01  1.04933961e+00 -6.76017306e-01 -8.62317959e-01\n",
      "  4.78875539e-01 -1.53564207e+00  3.89691705e-01  1.02553184e-01\n",
      " -1.47442490e-01  1.58827611e+00 -6.22207445e-01  2.06029817e+00\n",
      " -2.25431449e-01 -1.27701644e+00  6.99195810e-02 -1.07624520e+00\n",
      " -7.51755848e-01  3.97033300e-01  5.55582089e-01 -6.22167700e-01\n",
      "  9.87405145e-01  1.15750776e+00  1.43630176e+00  5.29413407e-01\n",
      "  1.36342871e+00 -1.88079843e+00 -3.17906549e-01 -8.67005256e-01\n",
      "  1.19225861e-01 -5.71449219e-01 -1.66157842e-01  1.88217488e+00\n",
      " -1.69719796e-01  4.13792317e-01 -2.32269330e-01  7.57132880e-02\n",
      "  6.01668044e-03  4.48324066e-01  1.16530754e+00  1.64739400e+00\n",
      "  3.09620082e-01  5.89546886e-01 -1.15086451e+00 -8.78767424e-02\n",
      "  9.40289465e-01  8.65968638e-01  2.11609733e-01  8.86393960e-01\n",
      "  4.90766709e-01  1.20030626e+00  2.89359157e-01 -3.55698316e-01\n",
      "  3.35841257e-01 -2.93059438e+00  3.82885736e-01 -3.64841283e+00\n",
      " -1.72346341e+00  4.51768601e-01  4.77529337e-01 -1.16242878e+00\n",
      " -7.12102042e-01  1.37054099e+00 -4.84030132e-01  2.24292031e+00\n",
      " -1.91985318e-03  4.08036177e-01  1.61687440e+00  1.31027116e-01\n",
      " -1.00234398e+00 -1.09727452e-01 -3.56107362e-02 -1.36474165e+00\n",
      " -2.55832071e-01 -7.42192094e-01  9.24357757e-01  3.46118742e-02\n",
      " -2.82795749e-01 -1.06181931e-01  2.23122018e-01  6.16814200e-01\n",
      " -9.99712229e-01 -1.04158763e+00  1.10467922e+00 -4.12336872e-01\n",
      " -1.41684209e+00  4.43812709e-01  4.63369806e-01 -1.53071526e+00\n",
      "  2.29481715e-01  7.35583092e-01  3.74386452e-01  6.31981484e-01\n",
      " -1.40426910e+00  3.31040155e-01 -3.02619759e-01 -4.82790159e-01\n",
      "  8.70555609e-01  1.47927451e+00  1.79437005e+00  1.31480787e+00\n",
      " -1.09734182e-01  3.52720163e-01  7.66822872e-01  1.21177949e-01\n",
      "  1.30764188e-01  8.23753132e-01 -5.92826460e-02 -7.29286936e-01\n",
      " -4.14473066e-01  6.33910378e-01  2.99329120e-03  3.40209977e-01]\n",
      "['C' 'B' 'A']\n"
     ]
    }
   ],
   "source": [
    "rng = np.random.default_rng(seed=42) # crea un generador de numeros aleatorios, el parametro seed asegura que los resultados sean reproducibles\n",
    "print(rng)\n",
    "print(rng.integers(1,7, size=2)) # simula dos dados\n",
    "print(rng.random(5)) # 5 floats en [0,1)\n",
    "print(rng.normal(loc=0, scale=1, size=1000)) # normal ~ N(0,1)\n",
    "print(rng.choice(['A','B','C'], size=3, replace=False))"
   ]
  },
  {
   "cell_type": "code",
   "execution_count": 54,
   "id": "55c6fbf8",
   "metadata": {},
   "outputs": [
    {
     "data": {
      "image/png": "[encoded data removed]",
      "text/plain": [
       "<Figure size 640x480 with 1 Axes>"
      ]
     },
     "metadata": {},
     "output_type": "display_data"
    }
   ],
   "source": [
    "import matplotlib.pyplot as plt\n",
    "data = rng.normal(0,1,1000)\n",
    "plt.hist(data, bins=30, density=True)\n",
    "plt.show()\n"
   ]
  },
  {
   "cell_type": "markdown",
   "id": "cf4c9322",
   "metadata": {},
   "source": [
    "## Ejemplo"
   ]
  },
  {
   "cell_type": "code",
   "execution_count": 60,
   "id": "4723967d",
   "metadata": {},
   "outputs": [
    {
     "name": "stdout",
     "output_type": "stream",
     "text": [
      "Venta total por fila: [420 378 635]\n",
      "Promedio de ventas por mes: [105.    94.5  158.75]\n",
      "Crecimiento relativo: [[-0.16666667 -0.1         0.22222222]\n",
      " [ 0.1875      0.10526316 -0.06666667]\n",
      " [ 0.06666667 -0.03125     0.09677419]]\n",
      "Normalizacion: [[ 1.34164079 -0.4472136  -1.34164079  0.4472136 ]\n",
      " [-1.58919021  0.05479966  1.15079291  0.38359764]\n",
      " [-1.18321596  0.16903085 -0.50709255  1.52127766]]\n"
     ]
    }
   ],
   "source": [
    "# 3 productos x 4 meses\n",
    "ventas = np.array([[120,100,90,110],\n",
    "                   [80,95,105,98],\n",
    "                   [150, 160,155,170]])\n",
    "# total producto fila\n",
    "# suma los \n",
    "total_fila = ventas.sum(axis=1)\n",
    "print(f'Venta total por fila: {total_fila}')\n",
    "\n",
    "# promedio por mes\n",
    "# Saca el promedio de todos los meses , vertical\n",
    "promedio_mes = ventas.mean(axis=1)\n",
    "print(f'Promedio de ventas por mes: {promedio_mes}')\n",
    "\n",
    "# crecimiento relativo mes a mes (briadcasting)\n",
    "crec = (ventas[:,1:] - ventas[:,:-1]) / ventas[:,:-1]\n",
    "print(f'Crecimiento relativo: {crec}')\n",
    "\n",
    "# normalizacion z-score por producto\n",
    "z = (ventas - ventas.mean(axis=1, keepdims=True)) / ventas.std(axis=1, keepdims=True)\n",
    "print(f'Normalizacion: {z}')"
   ]
  },
  {
   "cell_type": "markdown",
   "id": "83509aa0",
   "metadata": {},
   "source": [
    "## Tareas"
   ]
  },
  {
   "cell_type": "code",
   "execution_count": 5,
   "id": "9945cff9",
   "metadata": {},
   "outputs": [
    {
     "name": "stdout",
     "output_type": "stream",
     "text": [
      "Suma:  75\n",
      "Producto:  375000\n",
      "Minimo:  5\n",
      "Maximo:  25\n"
     ]
    }
   ],
   "source": [
    "# 1. Crea un array con [5, 10, 15, 20,25] y calcula: suma, producto, minimo y maximo\n",
    "import numpy as np\n",
    "\n",
    "arr = np.array([5,10,15,20,25])\n",
    "print(\"Suma: \",np.sum(arr))\n",
    "print(\"Producto: \",np.prod(arr))\n",
    "print(\"Minimo: \", np.min(arr))\n",
    "print(\"Maximo: \", np.max(arr))"
   ]
  },
  {
   "cell_type": "code",
   "execution_count": 8,
   "id": "a29a7a9b",
   "metadata": {},
   "outputs": [
    {
     "name": "stdout",
     "output_type": "stream",
     "text": [
      "Raiz cuadrada:  [1.41421356 2.         2.44948974 2.82842712]\n",
      "e^x:  [   7.3890561    54.59815003  403.42879349 2980.95798704]\n",
      "Logaritmo:  [0.69314718 1.38629436 1.79175947 2.07944154]\n"
     ]
    }
   ],
   "source": [
    "# 2. Crea un array [2,4,6,8] y calcula: raiz cuadrada, e^x, logaritmo\n",
    "\n",
    "import numpy as np\n",
    "\n",
    "arr = np.array([2,4,6,8])\n",
    "print(\"Raiz cuadrada: \", np.sqrt(arr))\n",
    "print(\"e^x: \", np.exp(arr))\n",
    "print(\"Logaritmo: \", np.log(arr))\n"
   ]
  },
  {
   "cell_type": "code",
   "execution_count": null,
   "id": "6aac5cfb",
   "metadata": {},
   "outputs": [
    {
     "name": "stdout",
     "output_type": "stream",
     "text": [
      "Media:  5.0\n",
      "Mediana:  5.0\n",
      "Desviacion estandar:  2.581988897471611\n"
     ]
    }
   ],
   "source": [
    "# 3. Con [1, 2, 3, 4, 5, 6, 7, 8, 9], calcula: media, mediana, desviación estándar.\n",
    "import numpy as np\n",
    "\n",
    "arr = np.array([1,2,3,4,5,6,7,8,9])\n",
    "\n",
    "print(\"Media: \", np.mean(arr))\n",
    "print(\"Mediana: \", np.median(arr))\n",
    "print(\"Desviacion estandar: \", np.std(arr))"
   ]
  },
  {
   "cell_type": "code",
   "execution_count": 18,
   "id": "34c51135",
   "metadata": {},
   "outputs": [
    {
     "name": "stdout",
     "output_type": "stream",
     "text": [
      "Multiplicacion de las matrizes:  [[ 58  64]\n",
      " [139 154]]\n"
     ]
    }
   ],
   "source": [
    "# 4. Multicplica las matrices\n",
    "import numpy as np\n",
    "A = [[1,2,3],[4,5,6]]\n",
    "B = [[7,8],[9,10],[11,12]]\n",
    "\n",
    "print(\"Multiplicacion de las matrizes: \", np.matmul(A,B))"
   ]
  },
  {
   "cell_type": "code",
   "execution_count": 24,
   "id": "56c17b82",
   "metadata": {},
   "outputs": [
    {
     "name": "stdout",
     "output_type": "stream",
     "text": [
      "Pomedio de notas del alumno :  [15.33333333 11.         10.        ]\n"
     ]
    }
   ],
   "source": [
    "# 5. Crea un array 3x3 con notas de alumnos y muestra el promedio de cada alumno y de cada curso.\n",
    "import numpy as np\n",
    "\n",
    "notas = [\n",
    "    [10, 16, 20],\n",
    "    [15, 5, 13],\n",
    "    [6, 11, 13]\n",
    "]\n",
    "print(f\"Pomedio de notas del alumno : \", np.mean(notas, axis=1))"
   ]
  },
  {
   "cell_type": "code",
   "execution_count": 26,
   "id": "126cc769",
   "metadata": {},
   "outputs": [
    {
     "data": {
      "text/plain": [
       "array([ 2.71828183,  7.3890561 , 20.08553692])"
      ]
     },
     "execution_count": 26,
     "metadata": {},
     "output_type": "execute_result"
    }
   ],
   "source": [
    "arr = np.array([1,2,3])\n",
    "np.exp(arr)"
   ]
  },
  {
   "cell_type": "markdown",
   "id": "bf09420f",
   "metadata": {},
   "source": [
    "## Tareas New"
   ]
  },
  {
   "cell_type": "markdown",
   "id": "041d2712",
   "metadata": {},
   "source": [
    "1. Dado `arr = np.array([5, 3, np.nan, 12, 8, np.nan, 0])`:\n",
    "- Calcula media, mediana y desviasion estandar ignorando NaN\n",
    "- Reemplaza NaN por la media calculada"
   ]
  },
  {
   "cell_type": "code",
   "execution_count": 1,
   "id": "05262a4c",
   "metadata": {},
   "outputs": [
    {
     "name": "stdout",
     "output_type": "stream",
     "text": [
      "[ 5.  3. nan 12.  8. nan  0.]\n",
      "Media: 5.6\n",
      "Desviación estandar: 4.127953488110059\n",
      "[ 5.   3.   5.6 12.   8.   5.6  0. ]\n"
     ]
    }
   ],
   "source": [
    "# 1. \n",
    "import numpy as np\n",
    "\n",
    "arr = np.array([5, 3, np.nan, 12, 8, np.nan, 0])\n",
    "print(arr)\n",
    "media = np.nanmean(arr)\n",
    "desviacion_estandar = np.nanstd(arr)\n",
    "print(f'Media: {media}')\n",
    "print(f'Desviación estandar: {desviacion_estandar}')\n",
    "\n",
    "arrnew = np.where(np.isnan(arr),media,arr)\n",
    "print(arrnew)"
   ]
  },
  {
   "cell_type": "markdown",
   "id": "ed847ca3",
   "metadata": {},
   "source": [
    "2. Sea:\n",
    "```\n",
    "    A = np.array([[2.,1.,0.],\n",
    "                  [0.,3.,1.],\n",
    "                  [1.,0.,2.]])\n",
    "    b = np.array([1.,2.,3.,])\n",
    "```\n",
    "- Calcula `det(A)`, verifica si es invertible.\n",
    "- Resuelve el sistema lineal `A x = b` con `np.linalg.solve`."
   ]
  },
  {
   "cell_type": "code",
   "execution_count": 3,
   "id": "c5bf7013",
   "metadata": {},
   "outputs": [
    {
     "name": "stdout",
     "output_type": "stream",
     "text": [
      "La matriz es invertible\n",
      "Inversa:\n",
      " [[ 0.46153846 -0.15384615  0.07692308]\n",
      " [ 0.07692308  0.30769231 -0.15384615]\n",
      " [-0.23076923  0.07692308  0.46153846]]\n",
      "[0.38461538 0.23076923 1.30769231]\n"
     ]
    }
   ],
   "source": [
    "# 2. \n",
    "import numpy as np\n",
    "\n",
    "A = np.array([[2.,1.,0.],\n",
    "              [0.,3.,1.],\n",
    "              [1.,0.,2.]])\n",
    "b = np.array([1.,2.,3.,])\n",
    "\n",
    "# Obtener determinante\n",
    "det = np.linalg.det(A)\n",
    "\n",
    "# Verificar si es invertible\n",
    "\n",
    "if np.isclose(det, 0):\n",
    "    print(\"La matriz NO es invertible (determinante = 0)\")\n",
    "else:\n",
    "    print(\"La matriz es invertible\")\n",
    "    A_inv = np.linalg.inv(A)\n",
    "    print(\"Inversa:\\n\", A_inv)\n",
    "    \n",
    "\n",
    "s_lineal = np.linalg.solve(A,b)\n",
    "print(s_lineal)"
   ]
  },
  {
   "cell_type": "markdown",
   "id": "4597a23d",
   "metadata": {},
   "source": [
    "3. Con `X = np.array([[1,2,3],[4,5,6]]) y w = np.array([0.2,0.5,0.3])`:\n",
    "- Calcula la prediccion lineal `y = X @ w`.\n",
    "- Estandariza `X` por columna (z-score por columna)."
   ]
  },
  {
   "cell_type": "code",
   "execution_count": null,
   "id": "a573eae8",
   "metadata": {},
   "outputs": [
    {
     "name": "stdout",
     "output_type": "stream",
     "text": [
      "Predicción linear:  [2.1 5.1]\n",
      "Normalizacion z-score:  [[-1.22474487  0.          1.22474487]\n",
      " [-1.22474487  0.          1.22474487]]\n"
     ]
    }
   ],
   "source": [
    "# 3.\n",
    "\n",
    "import numpy as np\n",
    "X = np.array([[1,2,3],[4,5,6]])  \n",
    "w = np.array([0.2, 0.5, 0.3])\n",
    "\n",
    "# Calculamos la prediccion lineal\n",
    "y = X @ w\n",
    "print('Predicción linear: ',y)\n",
    "\n",
    "# Normalizamos\n",
    "\n",
    "z = (X - X.mean(axis=1, keepdims=True )) / X.std(axis=1, keepdims=True)\n",
    "print('Normalizacion z-score: ',z)"
   ]
  },
  {
   "cell_type": "markdown",
   "id": "86dabe74",
   "metadata": {},
   "source": [
    "4. Usa *bradcasting*:\n",
    "Dada `M = np.array([[10,20,30],[40,50,60]]) y d = np.array([1,2,3])`, calcula:\n",
    "- `M + d`, `M * d` y explica en una línea porque funcionan."
   ]
  },
  {
   "cell_type": "code",
   "execution_count": null,
   "id": "dad6eefd",
   "metadata": {},
   "outputs": [
    {
     "name": "stdout",
     "output_type": "stream",
     "text": [
      "M + d: \n",
      " [[11 22 33]\n",
      " [41 52 63]]\n",
      "M * d: \n",
      " [[ 10  40  90]\n",
      " [ 40 100 180]]\n",
      "\n",
      "Funciona porque sus tamaños son multiplos y cada elemento puede\n",
      "ejecutarse\n"
     ]
    }
   ],
   "source": [
    "#4. \n",
    "\n",
    "M = np.array([[10,20,30],[40,50,60]])\n",
    "d = np.array([1,2,3])\n",
    "\n",
    "print('M + d: \\n', M+d)\n",
    "print('M * d: \\n', M*d)\n",
    "print('''\n",
    "Funciona porque sus tamaños son multiplos y cada elemento puede\n",
    "ejecutarse''')"
   ]
  },
  {
   "cell_type": "markdown",
   "id": "4edfe0a5",
   "metadata": {},
   "source": [
    "5. Genera datos sintéticos:\n",
    "- Crea `rng = np.random.default_rng(123)`.\n",
    "- Genera 1000 muestras de una N(μ=50, σ=10).\n",
    "- Calcula media, desviacion, y percentiles 5, 50 95.\n",
    "- Normaliza a z-score y verifica que su media ≈ 0 y std ≈ 1"
   ]
  },
  {
   "cell_type": "code",
   "execution_count": 25,
   "id": "9f146d5b",
   "metadata": {},
   "outputs": [
    {
     "name": "stdout",
     "output_type": "stream",
     "text": [
      "Media:  50.2201168672039\n",
      "Desviación estandar:  10.046048736988734\n",
      "Percentiles:\n",
      "- 5 :  33.0331018127721\n",
      "- 50:  50.41918906488635\n",
      "- 95:  65.65366683255155\n",
      "Normalización:\n",
      "Media:  2.9309887850104134e-17\n",
      "Desciación estandar:  1.0\n"
     ]
    }
   ],
   "source": [
    "# 5.\n",
    "rng = np.random.default_rng(seed=123)\n",
    "\n",
    "muestra = rng.normal(loc=50, scale=10, size=1000)\n",
    "\n",
    "print('Media: ', muestra.mean())\n",
    "print('Desviación estandar: ', muestra.std())\n",
    "print('Percentiles:')\n",
    "print('- 5 : ', np.percentile(muestra, 5))\n",
    "print('- 50: ', np.percentile(muestra, 50))\n",
    "print('- 95: ', np.percentile(muestra, 95))\n",
    "\n",
    "z = (muestra - muestra.mean())/muestra.std()\n",
    "print('Normalización:')\n",
    "print('Media: ', z.mean())\n",
    "print('Desciación estandar: ', z.std())"
   ]
  },
  {
   "cell_type": "markdown",
   "id": "f16f6acf",
   "metadata": {},
   "source": []
  }
 ],
 "metadata": {
  "kernelspec": {
   "display_name": "base",
   "language": "python",
   "name": "python3"
  },
  "language_info": {
   "codemirror_mode": {
    "name": "ipython",
    "version": 3
   },
   "file_extension": ".py",
   "mimetype": "text/x-python",
   "name": "python",
   "nbconvert_exporter": "python",
   "pygments_lexer": "ipython3",
   "version": "3.12.7"
  }
 },
 "nbformat": 4,
 "nbformat_minor": 5
}
