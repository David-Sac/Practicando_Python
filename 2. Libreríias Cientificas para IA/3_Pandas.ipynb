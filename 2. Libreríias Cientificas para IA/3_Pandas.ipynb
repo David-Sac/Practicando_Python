{
 "cells": [
  {
   "cell_type": "markdown",
   "id": "69ad9899",
   "metadata": {},
   "source": [
    "# Pandas I\n",
    "\n",
    "Libreria de Python para análisis y manipulacion de datosm construidas sobre NumPy\n",
    "Maneja dos estructuras principales:\n",
    "- Series: Vector unidimensional\n",
    "- Dataframe: Tabla bidimensional\n",
    "\n",
    "Permite:\n",
    "- Leer datos (CSV, Excel, SQL, JSON)\n",
    "- Manipular, filtrar y transformar\n",
    "- Resumir y analizar (estadisicas y agrupaciones)\n",
    "- Limpiar datos con valores faltantes (NaN)\n",
    "\n",
    "Inslatacion: Pip install pandas\n"
   ]
  },
  {
   "cell_type": "markdown",
   "id": "ec663e1d",
   "metadata": {},
   "source": [
    "## Estructuras Principales:"
   ]
  },
  {
   "cell_type": "code",
   "execution_count": 7,
   "id": "87532614",
   "metadata": {},
   "outputs": [
    {
     "name": "stdout",
     "output_type": "stream",
     "text": [
      "Serie en columna:\n",
      " a    10\n",
      "b    20\n",
      "c    30\n",
      "d    40\n",
      "dtype: int64\n",
      "\n",
      "DataFrame\n",
      "   Nombre  Edad    Ciudad\n",
      "0  David    24   Iquitos\n",
      "1    Ana    22      Lima\n",
      "2   Luis    30  Huancayo\n"
     ]
    }
   ],
   "source": [
    "import pandas as pd\n",
    "\n",
    "# Serie (columna)\n",
    "s = pd.Series([10, 20, 30, 40], index=[\"a\", \"b\",\"c\",\"d\"])\n",
    "print('Serie en columna:\\n',s)\n",
    "\n",
    "# DataFrame (tabla)\n",
    "data = {\n",
    "    \"Nombre\": [\"David\", \"Ana\", \"Luis\"],\n",
    "    \"Edad\": [24,22,30],\n",
    "    \"Ciudad\": [\"Iquitos\", \"Lima\", \"Huancayo\"]\n",
    "}\n",
    "df = pd.DataFrame(data)\n",
    "print('\\nDataFrame\\n',df)"
   ]
  },
  {
   "cell_type": "markdown",
   "id": "986a0386",
   "metadata": {},
   "source": [
    "## Cargar Datos"
   ]
  },
  {
   "cell_type": "markdown",
   "id": "9f01e8b1",
   "metadata": {},
   "source": [
    "```python\n",
    "df = pd.read_csv(\"archivo.csv\") #CSV\n",
    "df = pd.read_excel(\"archivo.csv\") # Excel\n",
    "df = pd.read_json(\"archivo.json\") # JSON\n",
    "```\n",
    "Tambien se puede guardar:\n",
    "```python\n",
    "df.to_csv(\"nuevo.csv\", index=False)"
   ]
  },
  {
   "cell_type": "markdown",
   "id": "d313b7b1",
   "metadata": {},
   "source": [
    "## Inspección rápida"
   ]
  },
  {
   "cell_type": "code",
   "execution_count": 20,
   "id": "e042f0df",
   "metadata": {},
   "outputs": [
    {
     "name": "stdout",
     "output_type": "stream",
     "text": [
      "  Nombre  Edad    Ciudad\n",
      "0  David    24   Iquitos\n",
      "1    Ana    22      Lima\n",
      "2   Luis    30  Huancayo\n",
      "==========================\n",
      "  Nombre  Edad    Ciudad\n",
      "0  David    24   Iquitos\n",
      "1    Ana    22      Lima\n",
      "2   Luis    30  Huancayo\n",
      "==========================\n",
      "<class 'pandas.core.frame.DataFrame'>\n",
      "RangeIndex: 3 entries, 0 to 2\n",
      "Data columns (total 3 columns):\n",
      " #   Column  Non-Null Count  Dtype \n",
      "---  ------  --------------  ----- \n",
      " 0   Nombre  3 non-null      object\n",
      " 1   Edad    3 non-null      int64 \n",
      " 2   Ciudad  3 non-null      object\n",
      "dtypes: int64(1), object(2)\n",
      "memory usage: 204.0+ bytes\n",
      "None\n",
      "==========================\n",
      "            Edad\n",
      "count   3.000000\n",
      "mean   25.333333\n",
      "std     4.163332\n",
      "min    22.000000\n",
      "25%    23.000000\n",
      "50%    24.000000\n",
      "75%    27.000000\n",
      "max    30.000000\n"
     ]
    }
   ],
   "source": [
    "print(df.head())        # primeras 5 filas\n",
    "print('==========================')\n",
    "print(df.tail(3))       # ultimas 3 filas\n",
    "print('==========================')\n",
    "print(df.info())        # info general (tiposm nulos)\n",
    "print('==========================')\n",
    "print(df.describe())    # estadisticas básicas"
   ]
  },
  {
   "cell_type": "markdown",
   "id": "93cf9299",
   "metadata": {},
   "source": [
    "## Seleccionar datos"
   ]
  },
  {
   "cell_type": "code",
   "execution_count": 21,
   "id": "c880bddd",
   "metadata": {},
   "outputs": [
    {
     "name": "stdout",
     "output_type": "stream",
     "text": [
      "0    David\n",
      "1      Ana\n",
      "2     Luis\n",
      "Name: Nombre, dtype: object\n",
      "==========================\n",
      "  Nombre  Edad\n",
      "0  David    24\n",
      "1    Ana    22\n",
      "2   Luis    30\n",
      "==========================\n",
      "Nombre      David\n",
      "Edad           24\n",
      "Ciudad    Iquitos\n",
      "Name: 0, dtype: object\n",
      "==========================\n",
      "Nombre      David\n",
      "Edad           24\n",
      "Ciudad    Iquitos\n",
      "Name: 0, dtype: object\n",
      "==========================\n",
      "David\n"
     ]
    }
   ],
   "source": [
    "print(df[\"Nombre\"]) # una columna\n",
    "print('==========================')\n",
    "print(df[[\"Nombre\", \"Edad\"]]) # varias columnas\n",
    "print('==========================')\n",
    "print(df.iloc[0])  # primera fila (por indice numerico)\n",
    "print('==========================')\n",
    "print(df.loc[0])   # primera fila (por etiqueta)\n",
    "print('==========================')\n",
    "print(df.loc[0, \"Nombre\"])  # Valor especifico"
   ]
  },
  {
   "cell_type": "markdown",
   "id": "5f2f8c0d",
   "metadata": {},
   "source": [
    "## Filtrado"
   ]
  },
  {
   "cell_type": "code",
   "execution_count": 23,
   "id": "ab954353",
   "metadata": {},
   "outputs": [
    {
     "name": "stdout",
     "output_type": "stream",
     "text": [
      "  Nombre  Edad    Ciudad\n",
      "0  David    24   Iquitos\n",
      "2   Luis    30  Huancayo\n",
      "==========================\n",
      "  Nombre  Edad Ciudad\n",
      "1    Ana    22   Lima\n"
     ]
    }
   ],
   "source": [
    "print(df[df[\"Edad\"]> 23])   # filas con Edad > 23\n",
    "print('==========================')\n",
    "print(df[df[\"Ciudad\"] == \"Lima\"])"
   ]
  },
  {
   "cell_type": "markdown",
   "id": "cfb12ae3",
   "metadata": {},
   "source": [
    "## Operaciones comunes"
   ]
  },
  {
   "cell_type": "code",
   "execution_count": 24,
   "id": "7f7733a4",
   "metadata": {},
   "outputs": [
    {
     "name": "stdout",
     "output_type": "stream",
     "text": [
      "  Nombre  Edad  Nueva\n",
      "1    Ana    22     44\n",
      "2   Luis    30     60\n",
      "26.0\n"
     ]
    }
   ],
   "source": [
    "df[\"Nueva\"] = df[\"Edad\"] * 2        # nueva columna\n",
    "df = df.drop(\"Ciudad\", axis=1)      # elimina columna\n",
    "df = df.drop(0,axis=0)              # elimina fila\n",
    "print(df.sort_values(\"Edad\"))       # ordenar por edad\n",
    "print(df[\"Edad\"].mean())            # promedio de edad"
   ]
  },
  {
   "cell_type": "markdown",
   "id": "aefbfef0",
   "metadata": {},
   "source": [
    "## Valores faltantes"
   ]
  },
  {
   "cell_type": "code",
   "execution_count": 25,
   "id": "754f2b5f",
   "metadata": {},
   "outputs": [
    {
     "name": "stdout",
     "output_type": "stream",
     "text": [
      "       A      B\n",
      "0  False  False\n",
      "1  False   True\n",
      "2   True  False\n",
      "     A    B\n",
      "0  1.0  4.0\n",
      "     A    B\n",
      "0  1.0  4.0\n",
      "1  2.0  0.0\n",
      "2  0.0  6.0\n"
     ]
    }
   ],
   "source": [
    "df = pd.DataFrame({\"A\": [1,2,None], \"B\":[4,None,6]})\n",
    "print(df.isnull())      # detecta NaN\n",
    "print(df.dropna())      # elimina filas con NaN\n",
    "print(df.fillna(0))     # reemplaza NaN con 0"
   ]
  },
  {
   "cell_type": "markdown",
   "id": "828b5f0b",
   "metadata": {},
   "source": [
    "## Agrupación y estadísticas"
   ]
  },
  {
   "cell_type": "code",
   "execution_count": 27,
   "id": "ce945f0a",
   "metadata": {},
   "outputs": [
    {
     "name": "stdout",
     "output_type": "stream",
     "text": [
      "Ciudad\n",
      "Cusco    300.0\n",
      "Lima     100.0\n",
      "lima     200.0\n",
      "Name: Ventas, dtype: float64\n",
      "        Ciudad  Ventas\n",
      "Mes                   \n",
      "Ene  LimaCusco     400\n",
      "Feb       lima     200\n"
     ]
    }
   ],
   "source": [
    "df = pd.DataFrame({\n",
    "    \"Ciudad\":[\"Lima\", \"lima\", \"Cusco\"],\n",
    "    \"Ventas\":[100,200,300],\n",
    "    \"Mes\":[\"Ene\",\"Feb\",\"Ene\"]\n",
    "})\n",
    "print(df.groupby(\"Ciudad\")[\"Ventas\"].mean())        # Promedio por ciudad\n",
    "print(df.groupby(\"Mes\").sum())                      # Suma por mes"
   ]
  },
  {
   "cell_type": "markdown",
   "id": "76bef9cb",
   "metadata": {},
   "source": [
    "## Mini proyecto\n",
    "\n",
    "Análisis de notas de alumnos"
   ]
  },
  {
   "cell_type": "code",
   "execution_count": 31,
   "id": "2996b872",
   "metadata": {},
   "outputs": [
    {
     "name": "stdout",
     "output_type": "stream",
     "text": [
      "Promedio general:  15.4\n",
      "Promedio por curso\n",
      "Curso\n",
      "Historia       13.0\n",
      "Matematicas    17.0\n",
      "Name: Nota, dtype: float64\n",
      "Alumnos aprobados: \n",
      "  Alumno        Curso  Nota\n",
      "0  David  Matematicas    18\n",
      "1    Ana  Matematicas    15\n",
      "2   Luis     Historia    12\n",
      "3  Carla     Historia    14\n",
      "4   Juan  Matematicas    18\n"
     ]
    }
   ],
   "source": [
    "data = {\n",
    "    \"Alumno\": [\"David\", \"Ana\",\"Luis\",\"Carla\",\"Juan\"],\n",
    "    \"Curso\":  [\"Matematicas\",\"Matematicas\", \"Historia\",\"Historia\",\"Matematicas\"],\n",
    "    \"Nota\":   [18,15,12,14,18]\n",
    "}\n",
    "\n",
    "df = pd.DataFrame(data)\n",
    "\n",
    "print(\"Promedio general: \", df[\"Nota\"].mean())\n",
    "print(\"Promedio por curso\")\n",
    "print(df.groupby(\"Curso\")[\"Nota\"].mean())\n",
    "print(\"Alumnos aprobados: \")\n",
    "print(df[df[\"Nota\"]>= 11])"
   ]
  },
  {
   "cell_type": "markdown",
   "id": "56ef15e6",
   "metadata": {},
   "source": [
    "## Tarea"
   ]
  },
  {
   "cell_type": "markdown",
   "id": "9cd0860c",
   "metadata": {},
   "source": [
    "1. Crea un Dataframe con columnas: Producto, Precio, Cantidad.\n",
    "- Calcula el total del producto (Precio * Cantidad)"
   ]
  },
  {
   "cell_type": "code",
   "execution_count": 48,
   "id": "6e0c7abd",
   "metadata": {},
   "outputs": [
    {
     "name": "stdout",
     "output_type": "stream",
     "text": [
      "El total del producto es:\n",
      "0     40.0\n",
      "1    280.0\n",
      "2    480.0\n",
      "dtype: float64\n"
     ]
    }
   ],
   "source": [
    "# 1. \n",
    "\n",
    "import pandas as pd\n",
    "\n",
    "df = pd.DataFrame({\n",
    "    \"Producto\": [\"Arroz\", \"Azucar\", \"Papa\"],\n",
    "    \"Precio\": [10., 20., 30.],\n",
    "    \"Cantidad\": [4,14,16]\n",
    "})\n",
    "\n",
    "total = df[\"Precio\"] * df[\"Cantidad\"]\n",
    "print('El total del producto es:')\n",
    "print(total)\n"
   ]
  },
  {
   "cell_type": "markdown",
   "id": "c8c8c545",
   "metadata": {},
   "source": [
    "2. Agrega una nueva fila con un producto extra"
   ]
  },
  {
   "cell_type": "code",
   "execution_count": 49,
   "id": "d755e4f5",
   "metadata": {},
   "outputs": [
    {
     "name": "stdout",
     "output_type": "stream",
     "text": [
      "  Producto  Precio  Cantidad\n",
      "0    Arroz    10.0         4\n",
      "1   Azucar    20.0        14\n",
      "2     Papa    30.0        16\n",
      "3  Cebolla    15.0        10\n"
     ]
    }
   ],
   "source": [
    "# 2.\n",
    "new = pd.DataFrame([{\n",
    "    \"Producto\": \"Cebolla\",\n",
    "    \"Precio\": 15,\n",
    "    \"Cantidad\": 10 \n",
    "}])\n",
    "df = pd.concat([df, new], ignore_index=True)\n",
    "print(df)"
   ]
  },
  {
   "cell_type": "markdown",
   "id": "24a64a2e",
   "metadata": {},
   "source": [
    "3. Ordena el DataFrame por Precio de mayor a menor."
   ]
  },
  {
   "cell_type": "code",
   "execution_count": 54,
   "id": "94e18668",
   "metadata": {},
   "outputs": [
    {
     "name": "stdout",
     "output_type": "stream",
     "text": [
      "  Producto  Precio  Cantidad\n",
      "2     Papa    30.0        16\n",
      "1   Azucar    20.0        14\n",
      "3  Cebolla    15.0        10\n",
      "0    Arroz    10.0         4\n"
     ]
    }
   ],
   "source": [
    "# 3. \n",
    "print(df.sort_values(by=\"Precio\", ascending=False))"
   ]
  },
  {
   "cell_type": "markdown",
   "id": "e1d49e26",
   "metadata": {},
   "source": [
    "4. Calcula el promedio de los precios"
   ]
  },
  {
   "cell_type": "code",
   "execution_count": 55,
   "id": "1dc017f7",
   "metadata": {},
   "outputs": [
    {
     "name": "stdout",
     "output_type": "stream",
     "text": [
      "Promedio de los precios:  18.75\n"
     ]
    }
   ],
   "source": [
    "# 4. \n",
    "print('Promedio de los precios: ', df[\"Precio\"].mean())"
   ]
  },
  {
   "cell_type": "markdown",
   "id": "7bdc4caa",
   "metadata": {},
   "source": [
    "5. Filtra los productos con Cantidad > 10"
   ]
  },
  {
   "cell_type": "code",
   "execution_count": null,
   "id": "20b618bf",
   "metadata": {},
   "outputs": [
    {
     "name": "stdout",
     "output_type": "stream",
     "text": [
      "  Producto  Precio  Cantidad\n",
      "0    Arroz    10.0         4\n",
      "1   Azucar    20.0        14\n",
      "2     Papa    30.0        16\n",
      "3  Cebolla    15.0        10\n",
      "Productos con mas de 10:\n",
      "  Producto  Precio  Cantidad\n",
      "1   Azucar    20.0        14\n",
      "2     Papa    30.0        16\n"
     ]
    }
   ],
   "source": [
    "# 5.\n",
    "print(df)\n",
    "\n",
    "print('Productos con mas de 10:')\n",
    "print(df[df[\"Cantidad\"]>10])"
   ]
  },
  {
   "cell_type": "markdown",
   "id": "99f28160",
   "metadata": {},
   "source": []
  }
 ],
 "metadata": {
  "kernelspec": {
   "display_name": "base",
   "language": "python",
   "name": "python3"
  },
  "language_info": {
   "codemirror_mode": {
    "name": "ipython",
    "version": 3
   },
   "file_extension": ".py",
   "mimetype": "text/x-python",
   "name": "python",
   "nbconvert_exporter": "python",
   "pygments_lexer": "ipython3",
   "version": "3.12.7"
  }
 },
 "nbformat": 4,
 "nbformat_minor": 5
}
