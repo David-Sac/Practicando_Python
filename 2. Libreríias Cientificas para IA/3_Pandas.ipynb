{
 "cells": [
  {
   "cell_type": "markdown",
   "id": "69ad9899",
   "metadata": {},
   "source": [
    "# Pandas I\n",
    "\n",
    "Libreria de Python para análisis y manipulacion de datos\n",
    "\n",
    "construidas sobre NumPy\n",
    "Maneja dos estructuras principales:\n",
    "- Series: Vector unidimensional\n",
    "- Dataframe: Tabla bidimensional\n",
    "\n",
    "Inslatacion: Pip install pandas\n"
   ]
  },
  {
   "cell_type": "markdown",
   "id": "ec663e1d",
   "metadata": {},
   "source": [
    "## Crear una serie"
   ]
  },
  {
   "cell_type": "code",
   "execution_count": null,
   "id": "87532614",
   "metadata": {},
   "outputs": [],
   "source": [
    "import pandas as pd\n",
    "\n",
    "# Serie desde lista\n",
    "\n",
    "s = pd.Series([10, 20, 30, 40], index=[\"a\", \"b\",\"c\",\"d\"])\n"
   ]
  },
  {
   "cell_type": "markdown",
   "id": "986a0386",
   "metadata": {},
   "source": []
  }
 ],
 "metadata": {
  "language_info": {
   "name": "python"
  }
 },
 "nbformat": 4,
 "nbformat_minor": 5
}
