{
 "cells": [
  {
   "cell_type": "markdown",
   "id": "b8725dc3",
   "metadata": {},
   "source": [
    "# Intriducción a NumPy\n",
    "\n",
    "NumPy (Numerical Python) es la libreria más usada para trabajar con matrices y calculos numéricos en Python"
   ]
  },
  {
   "cell_type": "markdown",
   "id": "96ee94c0",
   "metadata": {},
   "source": [
    "## Instalación\n",
    "pip install numpy"
   ]
  },
  {
   "cell_type": "markdown",
   "id": "11d1f5d9",
   "metadata": {},
   "source": [
    "## Crear arrays"
   ]
  },
  {
   "cell_type": "code",
   "execution_count": 3,
   "id": "d7db5c0a",
   "metadata": {},
   "outputs": [
    {
     "name": "stdout",
     "output_type": "stream",
     "text": [
      "[1 2 3 4]\n",
      "[[1 2 3]\n",
      " [4 5 6]]\n"
     ]
    }
   ],
   "source": [
    "import numpy as np\n",
    "# array 1D\n",
    "arr = np.array([1, 2, 3, 4])\n",
    "print(arr)\n",
    "\n",
    "# array 2D\n",
    "matriz = np.array([[1,2,3], [4,5,6]])\n",
    "print(matriz)"
   ]
  },
  {
   "cell_type": "markdown",
   "id": "dbed4c4e",
   "metadata": {},
   "source": [
    "## Propiedades de un array"
   ]
  },
  {
   "cell_type": "code",
   "execution_count": null,
   "id": "6405c7e7",
   "metadata": {},
   "outputs": [
    {
     "name": "stdout",
     "output_type": "stream",
     "text": [
      "(4,)\n",
      "1\n",
      "4\n",
      "int32\n"
     ]
    }
   ],
   "source": [
    "print(arr.shape) # dimensiones\n",
    "print(arr.ndim) # muestra el número de dimensiones en el array\n",
    "print(arr.size) # cantidad ded elementos\n",
    "print(arr.dtype) # tipo de dato"
   ]
  },
  {
   "cell_type": "markdown",
   "id": "c8c5f7bb",
   "metadata": {},
   "source": [
    "## Operaciones matematicas \n",
    "\n",
    "NumPy permite operaciones matematicas sin necesidad del uso de bucles"
   ]
  },
  {
   "cell_type": "code",
   "execution_count": 6,
   "id": "195fb1af",
   "metadata": {},
   "outputs": [
    {
     "name": "stdout",
     "output_type": "stream",
     "text": [
      "[5 7 9]\n",
      "[ 4 10 18]\n",
      "[1 4 9]\n"
     ]
    }
   ],
   "source": [
    "a = np.array([1,2,3])\n",
    "b = np.array([4,5,6])\n",
    "\n",
    "print(a + b)\n",
    "print(a * b)\n",
    "print(a ** 2)"
   ]
  },
  {
   "cell_type": "markdown",
   "id": "5bc58d31",
   "metadata": {},
   "source": [
    "## Funciones útiles"
   ]
  },
  {
   "cell_type": "code",
   "execution_count": 8,
   "id": "26e06188",
   "metadata": {},
   "outputs": [
    {
     "name": "stdout",
     "output_type": "stream",
     "text": [
      "[[0. 0.]\n",
      " [0. 0.]]\n",
      "[[1. 1. 1.]\n",
      " [1. 1. 1.]\n",
      " [1. 1. 1.]]\n",
      "[0 2 4 6 8]\n",
      "[0.   0.25 0.5  0.75 1.  ]\n"
     ]
    }
   ],
   "source": [
    "print(np.zeros((2,2)))\n",
    "print(np.ones((3,3)))\n",
    "print(np.arange(0,10,2))\n",
    "print(np.linspace(0,1,5))"
   ]
  },
  {
   "cell_type": "markdown",
   "id": "5c65341f",
   "metadata": {},
   "source": []
  }
 ],
 "metadata": {
  "kernelspec": {
   "display_name": "base",
   "language": "python",
   "name": "python3"
  },
  "language_info": {
   "codemirror_mode": {
    "name": "ipython",
    "version": 3
   },
   "file_extension": ".py",
   "mimetype": "text/x-python",
   "name": "python",
   "nbconvert_exporter": "python",
   "pygments_lexer": "ipython3",
   "version": "3.12.7"
  }
 },
 "nbformat": 4,
 "nbformat_minor": 5
}
