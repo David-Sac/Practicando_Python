{
 "cells": [
  {
   "cell_type": "markdown",
   "id": "a45036e7",
   "metadata": {},
   "source": [
    "# NumPy II\n",
    "\n",
    "- Array = coleccion de datos homogéneos y optimizados para cálculos\n",
    "- Se pueden hacer operaciones vectorizadas sin bucles"
   ]
  },
  {
   "cell_type": "code",
   "execution_count": 3,
   "id": "7a34fce1",
   "metadata": {},
   "outputs": [
    {
     "name": "stdout",
     "output_type": "stream",
     "text": [
      "15\n",
      "120\n",
      "1\n",
      "5\n",
      "[1.         1.41421356 1.73205081 2.         2.23606798]\n",
      "[  2.71828183   7.3890561   20.08553692  54.59815003 148.4131591 ]\n",
      "[0.         0.69314718 1.09861229 1.38629436 1.60943791]\n"
     ]
    }
   ],
   "source": [
    "import numpy as np\n",
    "\n",
    "arr = np.array([1,2,3,4,5])\n",
    "\n",
    "print(np.sum(arr)) # suma\n",
    "print(np.prod(arr)) # multiplicar\n",
    "print(np.min(arr)) # muestra el numero mas bajo\n",
    "print(np.max(arr)) # muestra el nimero mas alto\n",
    "print(np.sqrt(arr)) # raiz cuadrada de cada elemento\n",
    "print(np.exp(arr)) # e^x para cada elemento\n",
    "print(np.log(arr)) # logaritmo natural"
   ]
  },
  {
   "cell_type": "markdown",
   "id": "ea31690b",
   "metadata": {},
   "source": [
    "## Funciones estadisticas"
   ]
  },
  {
   "cell_type": "code",
   "execution_count": null,
   "id": "dd429348",
   "metadata": {},
   "outputs": [
    {
     "name": "stdout",
     "output_type": "stream",
     "text": [
      "30.0\n",
      "30.0\n",
      "14.142135623730951\n",
      "200.0\n",
      "30.0\n"
     ]
    }
   ],
   "source": [
    "import numpy as np\n",
    "\n",
    "arr = np.array([10,20,30,40,50])\n",
    "\n",
    "print(np.mean(arr)) # media: 30\n",
    "print(np.median(arr)) # mediana: 30\n",
    "print(np.std(arr)) # desviacion estandar\n",
    "print(np.var(arr)) # varianza\n",
    "print(np.percentile(arr, 50))\n",
    "\n"
   ]
  },
  {
   "cell_type": "markdown",
   "id": "73b2e808",
   "metadata": {},
   "source": [
    "## Operaciones con matrices"
   ]
  },
  {
   "cell_type": "code",
   "execution_count": 4,
   "id": "be6cfa13",
   "metadata": {},
   "outputs": [
    {
     "name": "stdout",
     "output_type": "stream",
     "text": [
      "[[ 6  8]\n",
      " [ 9 11]]\n",
      "[[-4 -4]\n",
      " [-5 -5]]\n",
      "[[ 5 12]\n",
      " [14 24]]\n",
      "[[19 22]\n",
      " [31 36]]\n",
      "[[1 2]\n",
      " [2 3]]\n"
     ]
    }
   ],
   "source": [
    "A = np.array([[1,2], [2,3]])\n",
    "B = np.array([[5,6], [7,8]])\n",
    "\n",
    "print(A + B)\n",
    "print(A - B)\n",
    "print(A * B) # Multiplicacion elemento a elemento\n",
    "print(np.dot(A, B)) # Multiplicacion matricial\n",
    "print(A.T) # Transpuesta"
   ]
  },
  {
   "cell_type": "code",
   "execution_count": null,
   "id": "dd633272",
   "metadata": {},
   "outputs": [
    {
     "name": "stdout",
     "output_type": "stream",
     "text": [
      "Promedio por alumno:  [15.         13.33333333 18.66666667]\n",
      "Promedio por curso:  [15. 15. 17.]\n"
     ]
    }
   ],
   "source": [
    "import numpy as np\n",
    "\n",
    "notas = np.array([\n",
    "    [15,12,18],\n",
    "    [10,14,16],\n",
    "    [20,19,17]\n",
    "])\n",
    "\n",
    "print(\"Promedio por alumno: \", np.mean(notas, axis=1)) # FILA\n",
    "print(\"Promedio por curso: \", np.mean(notas, axis=0)) # COLUMNA"
   ]
  },
  {
   "cell_type": "markdown",
   "id": "83509aa0",
   "metadata": {},
   "source": []
  },
  {
   "cell_type": "code",
   "execution_count": 5,
   "id": "9945cff9",
   "metadata": {},
   "outputs": [
    {
     "name": "stdout",
     "output_type": "stream",
     "text": [
      "Suma:  75\n",
      "Producto:  375000\n",
      "Minimo:  5\n",
      "Maximo:  25\n"
     ]
    }
   ],
   "source": [
    "# 1. Crea un array con [5, 10, 15, 20,25] y calcula: suma, producto, minimo y maximo\n",
    "import numpy as np\n",
    "\n",
    "arr = np.array([5,10,15,20,25])\n",
    "print(\"Suma: \",np.sum(arr))\n",
    "print(\"Producto: \",np.prod(arr))\n",
    "print(\"Minimo: \", np.min(arr))\n",
    "print(\"Maximo: \", np.max(arr))"
   ]
  },
  {
   "cell_type": "code",
   "execution_count": 8,
   "id": "a29a7a9b",
   "metadata": {},
   "outputs": [
    {
     "name": "stdout",
     "output_type": "stream",
     "text": [
      "Raiz cuadrada:  [1.41421356 2.         2.44948974 2.82842712]\n",
      "e^x:  [   7.3890561    54.59815003  403.42879349 2980.95798704]\n",
      "Logaritmo:  [0.69314718 1.38629436 1.79175947 2.07944154]\n"
     ]
    }
   ],
   "source": [
    "# 2. Crea un array [2,4,6,8] y calcula: raiz cuadrada, e^x, logaritmo\n",
    "\n",
    "import numpy as np\n",
    "\n",
    "arr = np.array([2,4,6,8])\n",
    "print(\"Raiz cuadrada: \", np.sqrt(arr))\n",
    "print(\"e^x: \", np.exp(arr))\n",
    "print(\"Logaritmo: \", np.log(arr))\n"
   ]
  },
  {
   "cell_type": "code",
   "execution_count": null,
   "id": "6aac5cfb",
   "metadata": {},
   "outputs": [
    {
     "name": "stdout",
     "output_type": "stream",
     "text": [
      "Media:  5.0\n",
      "Mediana:  5.0\n",
      "Desviacion estandar:  2.581988897471611\n"
     ]
    }
   ],
   "source": [
    "# 3. Con [1, 2, 3, 4, 5, 6, 7, 8, 9], calcula: media, mediana, desviación estándar.\n",
    "import numpy as np\n",
    "\n",
    "arr = np.array([1,2,3,4,5,6,7,8,9])\n",
    "\n",
    "print(\"Media: \", np.mean(arr))\n",
    "print(\"Mediana: \", np.median(arr))\n",
    "print(\"Desviacion estandar: \", np.std(arr))"
   ]
  },
  {
   "cell_type": "code",
   "execution_count": 18,
   "id": "34c51135",
   "metadata": {},
   "outputs": [
    {
     "name": "stdout",
     "output_type": "stream",
     "text": [
      "Multiplicacion de las matrizes:  [[ 58  64]\n",
      " [139 154]]\n"
     ]
    }
   ],
   "source": [
    "# 4. Multicplica las matrices\n",
    "import numpy as np\n",
    "A = [[1,2,3],[4,5,6]]\n",
    "B = [[7,8],[9,10],[11,12]]\n",
    "\n",
    "print(\"Multiplicacion de las matrizes: \", np.matmul(A,B))"
   ]
  },
  {
   "cell_type": "code",
   "execution_count": 24,
   "id": "56c17b82",
   "metadata": {},
   "outputs": [
    {
     "name": "stdout",
     "output_type": "stream",
     "text": [
      "Pomedio de notas del alumno :  [15.33333333 11.         10.        ]\n"
     ]
    }
   ],
   "source": [
    "# 5. Crea un array 3x3 con notas de alumnos y muestra el promedio de cada alumno y de cada curso.\n",
    "import numpy as np\n",
    "\n",
    "notas = [\n",
    "    [10, 16, 20],\n",
    "    [15, 5, 13],\n",
    "    [6, 11, 13]\n",
    "]\n",
    "print(f\"Pomedio de notas del alumno : \", np.mean(notas, axis=1))"
   ]
  },
  {
   "cell_type": "code",
   "execution_count": 25,
   "id": "126cc769",
   "metadata": {},
   "outputs": [
    {
     "ename": "TypeError",
     "evalue": "'float' object is not callable",
     "output_type": "error",
     "traceback": [
      "\u001b[1;31m---------------------------------------------------------------------------\u001b[0m",
      "\u001b[1;31mTypeError\u001b[0m                                 Traceback (most recent call last)",
      "Cell \u001b[1;32mIn[25], line 3\u001b[0m\n\u001b[0;32m      1\u001b[0m \u001b[38;5;28;01mimport\u001b[39;00m \u001b[38;5;21;01mmath\u001b[39;00m\n\u001b[1;32m----> 3\u001b[0m \u001b[38;5;28mprint\u001b[39m(math\u001b[38;5;241m.\u001b[39me(\u001b[38;5;241m1\u001b[39m))\n",
      "\u001b[1;31mTypeError\u001b[0m: 'float' object is not callable"
     ]
    }
   ],
   "source": [
    "import math\n",
    "\n",
    "print(math.e(1))"
   ]
  },
  {
   "cell_type": "code",
   "execution_count": null,
   "id": "1418c09c",
   "metadata": {},
   "outputs": [],
   "source": []
  }
 ],
 "metadata": {
  "kernelspec": {
   "display_name": "base",
   "language": "python",
   "name": "python3"
  },
  "language_info": {
   "codemirror_mode": {
    "name": "ipython",
    "version": 3
   },
   "file_extension": ".py",
   "mimetype": "text/x-python",
   "name": "python",
   "nbconvert_exporter": "python",
   "pygments_lexer": "ipython3",
   "version": "3.12.7"
  }
 },
 "nbformat": 4,
 "nbformat_minor": 5
}
