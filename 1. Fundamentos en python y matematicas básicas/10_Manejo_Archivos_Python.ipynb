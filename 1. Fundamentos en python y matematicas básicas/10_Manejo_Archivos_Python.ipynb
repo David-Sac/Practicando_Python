{
 "cells": [
  {
   "cell_type": "markdown",
   "id": "599cf2cb",
   "metadata": {},
   "source": [
    "# Manejo de Archivos en Python\n",
    "\n",
    "Python permite trabajar con archivos externos (.txt, .csv, .json) para guardar o leer informacion. Escencial para IA y proyectos de datos"
   ]
  },
  {
   "cell_type": "markdown",
   "id": "59a1c75d",
   "metadata": {},
   "source": [
    "## Apertura de datos"
   ]
  },
  {
   "cell_type": "code",
   "execution_count": 1,
   "id": "ce5e0793",
   "metadata": {},
   "outputs": [],
   "source": [
    "# Modo: \"r\" = leer, \"w\" = escribir, \"a\" = añadir\n",
    "f = open(\"ejemplo.txt\", \"w\")\n",
    "f.write(\"Hola mundo\\n\")\n",
    "f.close()"
   ]
  },
  {
   "cell_type": "markdown",
   "id": "85462620",
   "metadata": {},
   "source": [
    "## Lectura de archivos"
   ]
  },
  {
   "cell_type": "code",
   "execution_count": 5,
   "id": "a8f026f0",
   "metadata": {},
   "outputs": [
    {
     "name": "stdout",
     "output_type": "stream",
     "text": [
      "Hola mundo\n",
      "\n"
     ]
    }
   ],
   "source": [
    "f = open(\"ejemplo.txt\", \"r\")\n",
    "print(f.read())\n",
    "f.close()"
   ]
  },
  {
   "cell_type": "code",
   "execution_count": 6,
   "id": "ec741a4b",
   "metadata": {},
   "outputs": [
    {
     "name": "stdout",
     "output_type": "stream",
     "text": [
      "Hola mundo\n",
      "\n"
     ]
    }
   ],
   "source": [
    "# Uso recomendado con with(se cierra solo)\n",
    "with open(\"ejemplo.txt\", \"r\") as f:\n",
    "    contenido = f.read()\n",
    "    print(contenido)"
   ]
  },
  {
   "cell_type": "markdown",
   "id": "8e725534",
   "metadata": {},
   "source": [
    "## Lectura linea por linea"
   ]
  },
  {
   "cell_type": "code",
   "execution_count": 7,
   "id": "87c70b0a",
   "metadata": {},
   "outputs": [
    {
     "name": "stdout",
     "output_type": "stream",
     "text": [
      "Hola mundo\n"
     ]
    }
   ],
   "source": [
    "with open(\"ejemplo.txt\", \"r\") as f:\n",
    "    for linea in f:\n",
    "        print(linea.strip())"
   ]
  },
  {
   "cell_type": "markdown",
   "id": "7d5489b8",
   "metadata": {},
   "source": [
    "## Escritura en archivos\n",
    "\n",
    "- \"w\" -> sobreescribe\n",
    "- \"a\" -> añade al final"
   ]
  },
  {
   "cell_type": "code",
   "execution_count": 8,
   "id": "c855c1f3",
   "metadata": {},
   "outputs": [],
   "source": [
    "with open(\"ejemplo.txt\", \"a\") as f:\n",
    "    f.write(\"Nueva línea\\n\")"
   ]
  },
  {
   "cell_type": "code",
   "execution_count": 10,
   "id": "e0670078",
   "metadata": {},
   "outputs": [
    {
     "name": "stdout",
     "output_type": "stream",
     "text": [
      "David\n",
      "24\n",
      "Iquitos\n",
      "\n"
     ]
    }
   ],
   "source": [
    "# Ejercicio Guiado\n",
    "\n",
    "with open(\"datos.txt\", \"w\") as f:\n",
    "    f.write(\"David\\n\")\n",
    "    f.write(\"24\\n\")\n",
    "    f.write(\"Iquitos\\n\")\n",
    "    \n",
    "# Leer archivo completo\n",
    "with open(\"datos.txt\", \"r\") as f:\n",
    "    print(f.read())"
   ]
  },
  {
   "cell_type": "markdown",
   "id": "9d0fbfd1",
   "metadata": {},
   "source": [
    "## Tarea"
   ]
  },
  {
   "cell_type": "code",
   "execution_count": 1,
   "id": "e58c8b42",
   "metadata": {},
   "outputs": [],
   "source": [
    "# 1. Crea un archivo notas.txt y escribe los nombres y notas de 3 alumnos\n",
    "f = open(\"notas.txt\", \"w\")\n",
    "f.write(\"David, nota: 12\\n\")\n",
    "f.write(\"Ximena, nota: 14\\n\")\n",
    "f.write(\"Juan, nota: 15\\n\")\n",
    "\n",
    "f.close()"
   ]
  },
  {
   "cell_type": "code",
   "execution_count": 5,
   "id": "eddbd569",
   "metadata": {},
   "outputs": [
    {
     "name": "stdout",
     "output_type": "stream",
     "text": [
      "David, nota: 12\n",
      "Ximena, nota: 14\n",
      "Juan, nota: 15\n",
      "Pablo, nota: 05\n"
     ]
    }
   ],
   "source": [
    "# 2. Abre el archivo y muestra su contenido línea por línea\n",
    "with open(\"notas.txt\", \"r\") as f:\n",
    "    for linea in f:\n",
    "        print(linea.strip())"
   ]
  },
  {
   "cell_type": "code",
   "execution_count": 4,
   "id": "ce0a65b6",
   "metadata": {},
   "outputs": [],
   "source": [
    "# 3. Agrega una nueva línea con un alumno extra sin borrar lo anterior\n",
    "\n",
    "f = open(\"notas.txt\", \"a\")\n",
    "f.write(\"Pablo, nota: 05\\n\")\n",
    "f.close()\n"
   ]
  },
  {
   "cell_type": "code",
   "execution_count": 12,
   "id": "cf0ed15b",
   "metadata": {},
   "outputs": [
    {
     "name": "stdout",
     "output_type": "stream",
     "text": [
      "El promedio de notas es: 11.5\n"
     ]
    }
   ],
   "source": [
    "# 4. Lee todas las notas del archivo y calcula el promedio.\n",
    "# promedio = Suma(todo)/cantidad\n",
    "\n",
    "total = 0\n",
    "cantidad = 0\n",
    "\n",
    "with open(\"notas.txt\", \"r\") as f:\n",
    "    for linea in f:\n",
    "        # separar por \":\" y tomar el valor numérico\n",
    "        partes = linea.strip().split(\":\")\n",
    "        nota = int(partes[1])\n",
    "        total += nota\n",
    "        cantidad += 1\n",
    "\n",
    "promedio = total / cantidad\n",
    "print(\"El promedio de notas es:\", promedio)\n"
   ]
  },
  {
   "cell_type": "code",
   "execution_count": 13,
   "id": "e65bc600",
   "metadata": {},
   "outputs": [],
   "source": [
    "# Escribe el codigo para escribir la frase \"Python es genial\" en un archivo llamado saludo .txt\n",
    "\n",
    "\n",
    "with open(\"saludo.txt\", \"w\") as f:\n",
    "    f.write(\"Python es genial\")\n",
    "    "
   ]
  },
  {
   "cell_type": "code",
   "execution_count": 15,
   "id": "d3a6c5bc",
   "metadata": {},
   "outputs": [
    {
     "name": "stdout",
     "output_type": "stream",
     "text": [
      "Python es genial\n"
     ]
    }
   ],
   "source": [
    "with open(\"saludo.txt\", \"r\") as f:\n",
    "    print(f.read())"
   ]
  },
  {
   "cell_type": "code",
   "execution_count": null,
   "id": "0c8f8d66",
   "metadata": {},
   "outputs": [],
   "source": []
  }
 ],
 "metadata": {
  "kernelspec": {
   "display_name": "base",
   "language": "python",
   "name": "python3"
  },
  "language_info": {
   "codemirror_mode": {
    "name": "ipython",
    "version": 3
   },
   "file_extension": ".py",
   "mimetype": "text/x-python",
   "name": "python",
   "nbconvert_exporter": "python",
   "pygments_lexer": "ipython3",
   "version": "3.12.7"
  }
 },
 "nbformat": 4,
 "nbformat_minor": 5
}
