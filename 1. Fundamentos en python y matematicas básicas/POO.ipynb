{
 "cells": [
  {
   "cell_type": "markdown",
   "id": "abf47ec9",
   "metadata": {},
   "source": [
    "# Programacion Orientada a Objetos\n",
    "\n",
    "La Programación Orientada a Objetos (POO) se basa en representar objetos del mundo real con:\n",
    "\n",
    "- Clases -> molde o plantilla\n",
    "- Objetos -> instancias de una clase\n",
    "- Atributos -> variables que guardan datos del objeto\n",
    "- Métodos -> funciones que definen el comportamiento del objeto"
   ]
  },
  {
   "cell_type": "code",
   "execution_count": 3,
   "id": "c54bb53e",
   "metadata": {},
   "outputs": [
    {
     "name": "stdout",
     "output_type": "stream",
     "text": [
      "Hola, soy David y tengo 24 años\n"
     ]
    }
   ],
   "source": [
    "# Sintaxis de clases y objetos\n",
    "class Persona:\n",
    "    def __init__(self, nombre, edad):\n",
    "        self.nombre = nombre\n",
    "        self.edad = edad\n",
    "    \n",
    "    def saludar(self):\n",
    "        return f\"Hola, soy {self.nombre} y tengo {self.edad} años\"\n",
    "\n",
    "p1 = Persona(\"David\", 24)\n",
    "\n",
    "print(p1.saludar())\n",
    "\n"
   ]
  },
  {
   "cell_type": "markdown",
   "id": "aea10570",
   "metadata": {},
   "source": [
    "## Conceptos clave\n",
    "\n",
    "- __init__ -> método constructor (se ejecuta al crear el objeto)\n",
    "- self -> referencia al propio objeto\n",
    "- Métodos -> funciones dentro de la clase"
   ]
  },
  {
   "cell_type": "markdown",
   "id": "3881528e",
   "metadata": {},
   "source": [
    "## Tarea"
   ]
  },
  {
   "cell_type": "code",
   "execution_count": 6,
   "id": "e0d94f04",
   "metadata": {},
   "outputs": [
    {
     "name": "stdout",
     "output_type": "stream",
     "text": [
      "El coche es marca Tsuru, modelo 2012 y del 2015\n",
      "El coche es marca Nissan, modelo nuevo y del 2025\n"
     ]
    }
   ],
   "source": [
    "# 1. Crea una clase Coche con atributos marca, modelo y año\n",
    "# Crea 2 objetos y muestraloc on un método info()\n",
    "\n",
    "class Coche:\n",
    "    def __init__(self, marca, modelo, año):\n",
    "        self.marca = marca\n",
    "        self.modelo = modelo\n",
    "        self.año = año\n",
    "        \n",
    "    def info(self):\n",
    "        return f\"El coche es marca {self.marca}, modelo {self.modelo} y del {self.año}\"\n",
    "    \n",
    "coche1 = Coche(\"Tsuru\", \"2012\", 2015)\n",
    "coche2 = Coche(\"Nissan\", \"nuevo\", \"2025\")\n",
    "print(coche1.info())\n",
    "print(coche2.info())    "
   ]
  },
  {
   "cell_type": "code",
   "execution_count": 10,
   "id": "d4785ce6",
   "metadata": {},
   "outputs": [
    {
     "name": "stdout",
     "output_type": "stream",
     "text": [
      "Aprobó con 20\n"
     ]
    }
   ],
   "source": [
    "# 2. Crea una clase Alumno con atributos nombre y nota.\n",
    "# Agrega un método que diga si el alumno aprueba o desaprueba (nota >= 11)\n",
    "\n",
    "class Alumno:\n",
    "    def __init__(self, nombre, nota):\n",
    "        self.nombre = nombre\n",
    "        self.nota = nota\n",
    "    def notas(self):\n",
    "        if self.nota>=11:\n",
    "            return f\"Aprobó con {self.nota}\"\n",
    "        else:\n",
    "            return f\"Desaprobó con {self.nota}\"\n",
    "            \n",
    "alumno1 = Alumno(\"David\", 20)\n",
    "print(alumno1.notas())"
   ]
  },
  {
   "cell_type": "code",
   "execution_count": null,
   "id": "00de54e0",
   "metadata": {},
   "outputs": [
    {
     "ename": "TypeError",
     "evalue": "unsupported operand type(s) for +=: 'int' and 'str'",
     "output_type": "error",
     "traceback": [
      "\u001b[1;31m---------------------------------------------------------------------------\u001b[0m",
      "\u001b[1;31mTypeError\u001b[0m                                 Traceback (most recent call last)",
      "Cell \u001b[1;32mIn[11], line 19\u001b[0m\n\u001b[0;32m     14\u001b[0m         \u001b[38;5;28;01mreturn\u001b[39;00m \u001b[38;5;124mf\u001b[39m\u001b[38;5;124m\"\u001b[39m\u001b[38;5;124mSaldo actual: \u001b[39m\u001b[38;5;132;01m{\u001b[39;00m\u001b[38;5;28mself\u001b[39m\u001b[38;5;241m.\u001b[39msaldo\u001b[38;5;132;01m}\u001b[39;00m\u001b[38;5;124m\"\u001b[39m\n\u001b[0;32m     17\u001b[0m num \u001b[38;5;241m=\u001b[39m CuentaBancaria(\u001b[38;5;124m\"\u001b[39m\u001b[38;5;124mDavid\u001b[39m\u001b[38;5;124m\"\u001b[39m, \u001b[38;5;241m100\u001b[39m)\n\u001b[1;32m---> 19\u001b[0m num\u001b[38;5;241m.\u001b[39mdepositar()\n",
      "Cell \u001b[1;32mIn[11], line 13\u001b[0m, in \u001b[0;36mCuentaBancaria.depositar\u001b[1;34m(self)\u001b[0m\n\u001b[0;32m     11\u001b[0m \u001b[38;5;28;01mdef\u001b[39;00m \u001b[38;5;21mdepositar\u001b[39m(\u001b[38;5;28mself\u001b[39m):\n\u001b[0;32m     12\u001b[0m     deposito \u001b[38;5;241m=\u001b[39m \u001b[38;5;28minput\u001b[39m(\u001b[38;5;124m\"\u001b[39m\u001b[38;5;124mIngrese la cantidad a depositar.\u001b[39m\u001b[38;5;124m\"\u001b[39m)\n\u001b[1;32m---> 13\u001b[0m     \u001b[38;5;28mself\u001b[39m\u001b[38;5;241m.\u001b[39msaldo \u001b[38;5;241m+\u001b[39m\u001b[38;5;241m=\u001b[39m deposito\n\u001b[0;32m     14\u001b[0m     \u001b[38;5;28;01mreturn\u001b[39;00m \u001b[38;5;124mf\u001b[39m\u001b[38;5;124m\"\u001b[39m\u001b[38;5;124mSaldo actual: \u001b[39m\u001b[38;5;132;01m{\u001b[39;00m\u001b[38;5;28mself\u001b[39m\u001b[38;5;241m.\u001b[39msaldo\u001b[38;5;132;01m}\u001b[39;00m\u001b[38;5;124m\"\u001b[39m\n",
      "\u001b[1;31mTypeError\u001b[0m: unsupported operand type(s) for +=: 'int' and 'str'"
     ]
    }
   ],
   "source": [
    "# 3. Crea una clase CuentaBancaria con atributos titular y saldo \n",
    "# Métodos: depositar(monto) y retirar(monto)\n",
    "# Verifica que no se pueda retirar más de lo quue hay en saldo\n",
    "\n",
    "\n",
    "class CuentaBancaria:\n",
    "    def __init__(self, titular, saldo):\n",
    "        self.titular = titular\n",
    "        self.saldo = saldo\n",
    "        \n",
    "    def depositar(self):\n",
    "        deposito = int(input(\"Ingrese la cantidad a depositar.\"))\n",
    "        self.saldo += deposito\n",
    "        return f\"Saldo actual: {self.saldo}\"\n",
    "    \n",
    "\n",
    "num = CuentaBancaria(\"David\", 100)\n",
    "\n",
    "num.depositar()\n",
    "    "
   ]
  },
  {
   "cell_type": "code",
   "execution_count": null,
   "id": "2be01b6c",
   "metadata": {},
   "outputs": [],
   "source": []
  }
 ],
 "metadata": {
  "kernelspec": {
   "display_name": "base",
   "language": "python",
   "name": "python3"
  },
  "language_info": {
   "codemirror_mode": {
    "name": "ipython",
    "version": 3
   },
   "file_extension": ".py",
   "mimetype": "text/x-python",
   "name": "python",
   "nbconvert_exporter": "python",
   "pygments_lexer": "ipython3",
   "version": "3.12.7"
  }
 },
 "nbformat": 4,
 "nbformat_minor": 5
}
