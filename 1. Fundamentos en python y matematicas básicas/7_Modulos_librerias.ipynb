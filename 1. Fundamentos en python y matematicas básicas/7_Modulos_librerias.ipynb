{
 "cells": [
  {
   "cell_type": "markdown",
   "id": "fd22849d",
   "metadata": {},
   "source": [
    "# Módulos y Librerías\n",
    "\n",
    "Un modulo en Python es un archivo que contiene funciones y varibles listas para usarse.\n",
    "Una libreria es un conjunto de modulos."
   ]
  },
  {
   "cell_type": "code",
   "execution_count": 1,
   "id": "0e25398e",
   "metadata": {},
   "outputs": [
    {
     "name": "stdout",
     "output_type": "stream",
     "text": [
      "5.0\n"
     ]
    }
   ],
   "source": [
    "import math\n",
    "print(math.sqrt(25))"
   ]
  },
  {
   "cell_type": "markdown",
   "id": "9e20d676",
   "metadata": {},
   "source": [
    "## Tipos de importación\n"
   ]
  },
  {
   "cell_type": "code",
   "execution_count": 2,
   "id": "1ebf613b",
   "metadata": {},
   "outputs": [
    {
     "name": "stdout",
     "output_type": "stream",
     "text": [
      "8\n"
     ]
    }
   ],
   "source": [
    "# Importar todo el módulo\n",
    "import random\n",
    "print(random.randint(1,10))"
   ]
  },
  {
   "cell_type": "code",
   "execution_count": 3,
   "id": "e76d13f3",
   "metadata": {},
   "outputs": [
    {
     "name": "stdout",
     "output_type": "stream",
     "text": [
      "5.0\n"
     ]
    }
   ],
   "source": [
    "# Importar solo una función\n",
    "\n",
    "from math import sqrt\n",
    "print(sqrt(25))"
   ]
  },
  {
   "cell_type": "code",
   "execution_count": 4,
   "id": "7999c9bc",
   "metadata": {},
   "outputs": [
    {
     "name": "stdout",
     "output_type": "stream",
     "text": [
      "2025-08-30 23:20:16.199182\n"
     ]
    }
   ],
   "source": [
    "# Importar con alias\n",
    "\n",
    "import datetime as dt \n",
    "print(dt.datetime.today())"
   ]
  },
  {
   "cell_type": "markdown",
   "id": "6eda0047",
   "metadata": {},
   "source": [
    "## Módulos más usados"
   ]
  },
  {
   "cell_type": "markdown",
   "id": "c7bdacd7",
   "metadata": {},
   "source": [
    "math -> funciones matemáticas"
   ]
  },
  {
   "cell_type": "code",
   "execution_count": 6,
   "id": "9ec2a30e",
   "metadata": {},
   "outputs": [
    {
     "name": "stdout",
     "output_type": "stream",
     "text": [
      "3.141592653589793\n",
      "120\n",
      "12.0\n",
      "8\n",
      "5\n",
      "2.718281828459045\n",
      "inf\n",
      "nan\n"
     ]
    }
   ],
   "source": [
    "import math\n",
    "print(math.pi)\n",
    "print(math.factorial(5))\n",
    "print(math.sqrt(144))\n",
    "print(math.ceil(7.3))\n",
    "print(math.floor(5.5))\n",
    "print(math.e)\n",
    "print(math.inf)\n",
    "print(math.nan)"
   ]
  },
  {
   "cell_type": "code",
   "execution_count": 7,
   "id": "7ec1f923",
   "metadata": {},
   "outputs": [
    {
     "name": "stdout",
     "output_type": "stream",
     "text": [
      "4.0\n",
      "8.0\n",
      "120\n",
      "8\n",
      "7\n",
      "7\n",
      "12\n",
      "5.0\n",
      "2.0\n",
      "1.0\n"
     ]
    }
   ],
   "source": [
    "import math\n",
    "\n",
    "print(math.sqrt(16))       # raíz cuadrada → 4.0\n",
    "print(math.pow(2, 3))      # potencia → 8.0\n",
    "print(math.factorial(5))   # factorial → 120\n",
    "print(math.ceil(7.1))      # redondear hacia arriba → 8\n",
    "print(math.floor(7.9))     # redondear hacia abajo → 7\n",
    "print(math.trunc(7.9))     # trunca → 7\n",
    "print(math.gcd(24, 36))    # máximo común divisor → 12\n",
    "print(math.fabs(-5))       # valor absoluto → 5.0\n",
    "print(math.log(100, 10))   # logaritmo base 10 → 2.0\n",
    "print(math.sin(math.pi/2)) # seno de 90° → 1.0\n"
   ]
  },
  {
   "cell_type": "markdown",
   "id": "2959f67e",
   "metadata": {},
   "source": []
  },
  {
   "cell_type": "code",
   "execution_count": 4,
   "id": "dc0d23da",
   "metadata": {},
   "outputs": [
    {
     "name": "stdout",
     "output_type": "stream",
     "text": [
      "78.53981633974483\n"
     ]
    }
   ],
   "source": [
    "radio = 5\n",
    "area = math.pi * (radio**2)\n",
    "print(area)"
   ]
  },
  {
   "cell_type": "markdown",
   "id": "40c3f758",
   "metadata": {},
   "source": [
    "random -> valores aleatorios"
   ]
  },
  {
   "cell_type": "code",
   "execution_count": null,
   "id": "6d53bca7",
   "metadata": {},
   "outputs": [
    {
     "name": "stdout",
     "output_type": "stream",
     "text": [
      "0.36718426449721775\n",
      "azul\n"
     ]
    }
   ],
   "source": [
    "import random\n",
    "print(random.random())\n",
    "print(random.choice([\"rojo\", \"azul\", \"verde\"]))\n"
   ]
  },
  {
   "cell_type": "code",
   "execution_count": 8,
   "id": "1d0376e1",
   "metadata": {},
   "outputs": [
    {
     "name": "stdout",
     "output_type": "stream",
     "text": [
      "0.693365456261484\n",
      "5\n",
      "1.2441476165337395\n",
      "verde\n",
      "['c', 'b']\n",
      "[4, 1, 5]\n",
      "None\n"
     ]
    }
   ],
   "source": [
    "import random\n",
    "\n",
    "print(random.random())      # número float entre 0 y 1\n",
    "print(random.randint(1, 10))# entero entre 1 y 10\n",
    "print(random.uniform(1, 5)) # float entre 1 y 5\n",
    "print(random.choice([\"rojo\",\"azul\",\"verde\"]))  # un valor de la lista\n",
    "print(random.choices([\"a\",\"b\",\"c\"], k=2))      # selección con repetición\n",
    "print(random.sample([1,2,3,4,5], 3))           # muestra sin repetición\n",
    "print(random.shuffle([1,2,3,4,5]))             # mezcla lista\n"
   ]
  },
  {
   "cell_type": "markdown",
   "id": "7315195e",
   "metadata": {},
   "source": [
    "datetime -> fechas y horas"
   ]
  },
  {
   "cell_type": "code",
   "execution_count": 15,
   "id": "d7093270",
   "metadata": {},
   "outputs": [
    {
     "name": "stdout",
     "output_type": "stream",
     "text": [
      "2025-08-30\n"
     ]
    }
   ],
   "source": [
    "import datetime\n",
    "hoy = datetime.date.today()\n",
    "print(hoy)"
   ]
  },
  {
   "cell_type": "code",
   "execution_count": 9,
   "id": "74440d49",
   "metadata": {},
   "outputs": [
    {
     "name": "stdout",
     "output_type": "stream",
     "text": [
      "2025-09-08 13:23:57.415459\n",
      "2025-09-08\n",
      "13:23:57.415459\n",
      "2025\n",
      "9\n",
      "8\n",
      "08/09/2025 13:23:57\n"
     ]
    }
   ],
   "source": [
    "import datetime as dt\n",
    "\n",
    "ahora = dt.datetime.now()\n",
    "print(ahora)               # fecha y hora actual\n",
    "print(ahora.date())        # solo fecha\n",
    "print(ahora.time())        # solo hora\n",
    "print(ahora.year)          # año\n",
    "print(ahora.month)         # mes\n",
    "print(ahora.day)           # día\n",
    "print(ahora.strftime(\"%d/%m/%Y %H:%M:%S\")) # formato personalizado\n"
   ]
  },
  {
   "cell_type": "code",
   "execution_count": 10,
   "id": "384d7841",
   "metadata": {},
   "outputs": [
    {
     "name": "stdout",
     "output_type": "stream",
     "text": [
      "2025-09-06 14:30:00\n"
     ]
    }
   ],
   "source": [
    "cumple = dt.datetime(2025, 9, 6, 14, 30)\n",
    "print(cumple)   # 2025-09-06 14:30:00\n"
   ]
  },
  {
   "cell_type": "code",
   "execution_count": 11,
   "id": "b76d4d20",
   "metadata": {},
   "outputs": [
    {
     "name": "stdout",
     "output_type": "stream",
     "text": [
      "2025-09-09 13:23:57.415459 2025-09-07 13:23:57.415459\n"
     ]
    }
   ],
   "source": [
    "mañana = ahora + dt.timedelta(days=1)\n",
    "ayer = ahora - dt.timedelta(days=1)\n",
    "print(mañana, ayer)\n"
   ]
  },
  {
   "cell_type": "markdown",
   "id": "0d064bcb",
   "metadata": {},
   "source": [
    "os -> operaciones del sistema"
   ]
  },
  {
   "cell_type": "code",
   "execution_count": 16,
   "id": "4ef61d6e",
   "metadata": {},
   "outputs": [
    {
     "name": "stdout",
     "output_type": "stream",
     "text": [
      "c:\\Users\\LENOVO\\Desktop\\YO\\python\\Curso\\1. Fundamentos en python y matematicas básicas\n"
     ]
    }
   ],
   "source": [
    "import os\n",
    "print(os.getcwd())"
   ]
  },
  {
   "cell_type": "code",
   "execution_count": 13,
   "id": "161cc4b4",
   "metadata": {},
   "outputs": [
    {
     "name": "stdout",
     "output_type": "stream",
     "text": [
      "c:\\Users\\LENOVO\\Desktop\\YO\\python\\Practicando_Python\\1. Fundamentos en python y matematicas básicas\n",
      "['1_Variables_tipo_de_dato_operadores.ipynb', '2_Condicionales.ipynb', '3_Bucles.ipynb', '4_Listas_Tuplas_Conjuntos.ipynb', '5_Diccionarios.ipynb', '6_Funciones.ipynb', '7_Modulos_librerias.ipynb', 'datos.txt', 'ejemplo.txt', 'Manejo_Archivos_Python.ipynb', 'notas.txt', 'POO.ipynb', 'POO_avanzado.ipynb', 'PROYECTO.py', 'saludo.txt']\n"
     ]
    },
    {
     "ename": "FileNotFoundError",
     "evalue": "[WinError 2] El sistema no puede encontrar el archivo especificado: 'a.txt' -> 'b.txt'",
     "output_type": "error",
     "traceback": [
      "\u001b[1;31m---------------------------------------------------------------------------\u001b[0m",
      "\u001b[1;31mFileNotFoundError\u001b[0m                         Traceback (most recent call last)",
      "Cell \u001b[1;32mIn[13], line 7\u001b[0m\n\u001b[0;32m      5\u001b[0m os\u001b[38;5;241m.\u001b[39mmkdir(\u001b[38;5;124m\"\u001b[39m\u001b[38;5;124mnueva_carpeta\u001b[39m\u001b[38;5;124m\"\u001b[39m)\u001b[38;5;66;03m# crear carpeta\u001b[39;00m\n\u001b[0;32m      6\u001b[0m os\u001b[38;5;241m.\u001b[39mrmdir(\u001b[38;5;124m\"\u001b[39m\u001b[38;5;124mnueva_carpeta\u001b[39m\u001b[38;5;124m\"\u001b[39m)\u001b[38;5;66;03m# eliminar carpeta vacía\u001b[39;00m\n\u001b[1;32m----> 7\u001b[0m os\u001b[38;5;241m.\u001b[39mrename(\u001b[38;5;124m\"\u001b[39m\u001b[38;5;124ma.txt\u001b[39m\u001b[38;5;124m\"\u001b[39m,\u001b[38;5;124m\"\u001b[39m\u001b[38;5;124mb.txt\u001b[39m\u001b[38;5;124m\"\u001b[39m)\u001b[38;5;66;03m# renombrar archivo\u001b[39;00m\n\u001b[0;32m      8\u001b[0m \u001b[38;5;28mprint\u001b[39m(os\u001b[38;5;241m.\u001b[39mpath\u001b[38;5;241m.\u001b[39mexists(\u001b[38;5;124m\"\u001b[39m\u001b[38;5;124marchivo.txt\u001b[39m\u001b[38;5;124m\"\u001b[39m))\n",
      "\u001b[1;31mFileNotFoundError\u001b[0m: [WinError 2] El sistema no puede encontrar el archivo especificado: 'a.txt' -> 'b.txt'"
     ]
    }
   ],
   "source": [
    "import os\n",
    "\n",
    "print(os.getcwd())       # directorio actual\n",
    "print(os.listdir())      # lista archivos del directorio\n",
    "os.mkdir(\"nueva_carpeta\")# crear carpeta\n",
    "os.rmdir(\"nueva_carpeta\")# eliminar carpeta vacía\n",
    "os.rename(\"a.txt\",\"b.txt\")# renombrar archivo\n",
    "print(os.path.exists(\"archivo.txt\")) # verificar si existe\n"
   ]
  },
  {
   "cell_type": "code",
   "execution_count": 12,
   "id": "c180b1e1",
   "metadata": {},
   "outputs": [
    {
     "ename": "NameError",
     "evalue": "name 'os' is not defined",
     "output_type": "error",
     "traceback": [
      "\u001b[1;31m---------------------------------------------------------------------------\u001b[0m",
      "\u001b[1;31mNameError\u001b[0m                                 Traceback (most recent call last)",
      "Cell \u001b[1;32mIn[12], line 1\u001b[0m\n\u001b[1;32m----> 1\u001b[0m \u001b[38;5;28mprint\u001b[39m(os\u001b[38;5;241m.\u001b[39menviron)        \u001b[38;5;66;03m# variables del sistema\u001b[39;00m\n\u001b[0;32m      2\u001b[0m \u001b[38;5;28mprint\u001b[39m(os\u001b[38;5;241m.\u001b[39menviron\u001b[38;5;241m.\u001b[39mget(\u001b[38;5;124m\"\u001b[39m\u001b[38;5;124mPATH\u001b[39m\u001b[38;5;124m\"\u001b[39m))\n",
      "\u001b[1;31mNameError\u001b[0m: name 'os' is not defined"
     ]
    }
   ],
   "source": [
    "print(os.environ)        # variables del sistema\n",
    "print(os.environ.get(\"PATH\"))\n"
   ]
  },
  {
   "cell_type": "markdown",
   "id": "daa6d8d5",
   "metadata": {},
   "source": [
    "sys -> interaccion con el intérprete"
   ]
  },
  {
   "cell_type": "code",
   "execution_count": 17,
   "id": "065e9ebc",
   "metadata": {},
   "outputs": [
    {
     "name": "stdout",
     "output_type": "stream",
     "text": [
      "3.12.7 | packaged by Anaconda, Inc. | (main, Oct  4 2024, 13:17:27) [MSC v.1929 64 bit (AMD64)]\n"
     ]
    }
   ],
   "source": [
    "import sys\n",
    "print(sys.version)"
   ]
  },
  {
   "cell_type": "code",
   "execution_count": 14,
   "id": "5fc708d7",
   "metadata": {},
   "outputs": [
    {
     "name": "stdout",
     "output_type": "stream",
     "text": [
      "3.12.7 | packaged by Anaconda, Inc. | (main, Oct  4 2024, 13:17:27) [MSC v.1929 64 bit (AMD64)]\n",
      "win32\n",
      "c:\\Users\\LENOVO\\anaconda3\\python.exe\n",
      "['c:\\\\Users\\\\LENOVO\\\\Desktop\\\\YO\\\\python\\\\Practicando_Python\\\\1. Fundamentos en python y matematicas básicas', 'c:\\\\Users\\\\LENOVO\\\\anaconda3\\\\python312.zip', 'c:\\\\Users\\\\LENOVO\\\\anaconda3\\\\DLLs', 'c:\\\\Users\\\\LENOVO\\\\anaconda3\\\\Lib', 'c:\\\\Users\\\\LENOVO\\\\anaconda3', '', 'c:\\\\Users\\\\LENOVO\\\\anaconda3\\\\Lib\\\\site-packages', 'c:\\\\Users\\\\LENOVO\\\\anaconda3\\\\Lib\\\\site-packages\\\\win32', 'c:\\\\Users\\\\LENOVO\\\\anaconda3\\\\Lib\\\\site-packages\\\\win32\\\\lib', 'c:\\\\Users\\\\LENOVO\\\\anaconda3\\\\Lib\\\\site-packages\\\\Pythonwin', 'c:\\\\Users\\\\LENOVO\\\\anaconda3\\\\Lib\\\\site-packages\\\\setuptools\\\\_vendor']\n",
      "['c:\\\\Users\\\\LENOVO\\\\anaconda3\\\\Lib\\\\site-packages\\\\ipykernel_launcher.py', '--f=c:\\\\Users\\\\LENOVO\\\\AppData\\\\Roaming\\\\jupyter\\\\runtime\\\\kernel-v37f7723cffb36112be9339e8c8e34b5c879da3129.json']\n"
     ]
    }
   ],
   "source": [
    "import sys\n",
    "\n",
    "print(sys.version)        # versión de Python\n",
    "print(sys.platform)       # sistema operativo\n",
    "print(sys.executable)     # ruta del ejecutable de Python\n",
    "print(sys.path)           # rutas de búsqueda de módulos\n",
    "\n",
    "# Argumentos desde consola\n",
    "print(sys.argv)           # lista de argumentos del script\n",
    "\n",
    "# Terminar el programa\n",
    "# sys.exit(\"Fin del programa\")\n"
   ]
  },
  {
   "cell_type": "markdown",
   "id": "1bc31414",
   "metadata": {},
   "source": [
    "## Mini proyecto"
   ]
  },
  {
   "cell_type": "code",
   "execution_count": 5,
   "id": "5c8cc3cf",
   "metadata": {},
   "outputs": [
    {
     "name": "stdout",
     "output_type": "stream",
     "text": [
      "\n",
      " === TICKET DE COMPRA ===\n",
      "N° Ticket: 9186\n",
      "Cliente: David\n",
      "Fecha: 08/09/2025 13:13:35\n",
      "Total: 123\n",
      "==========================\n"
     ]
    }
   ],
   "source": [
    "import random\n",
    "import datetime as dt \n",
    "\n",
    "def generar_ticket(cliente:str, total: float):\n",
    "    numero_ticket = random.randint(1000,9999)\n",
    "    fecha = dt.datetime.now().strftime(\"%d/%m/%Y %H:%M:%S\")\n",
    "\n",
    "    print(\"\\n === TICKET DE COMPRA ===\")\n",
    "    print(f\"N° Ticket: {numero_ticket}\")\n",
    "    print(f\"Cliente: {cliente}\")\n",
    "    print(f\"Fecha: {fecha}\")\n",
    "    print(f\"Total: {total}\")\n",
    "    print(\"==========================\")\n",
    "    \n",
    "generar_ticket(\"David\", 123)"
   ]
  },
  {
   "cell_type": "code",
   "execution_count": null,
   "id": "5464beb6",
   "metadata": {},
   "outputs": [],
   "source": []
  },
  {
   "cell_type": "markdown",
   "id": "588d6964",
   "metadata": {},
   "source": [
    "## Tarea"
   ]
  },
  {
   "cell_type": "code",
   "execution_count": 18,
   "id": "9d353500",
   "metadata": {},
   "outputs": [
    {
     "name": "stdout",
     "output_type": "stream",
     "text": [
      "16.0\n",
      "2.995732273553991\n",
      "Seno de 45°:  0.8509035245341184  , Coseno de 45°:  0.5253219888177297\n"
     ]
    }
   ],
   "source": [
    "# 1. Usa math para calcular:\n",
    "import math \n",
    "\n",
    "print(math.sqrt(256))\n",
    "print(math.log(20,math.e))\n",
    "print(\"Seno de 45°: \", math.sin(45), \" , Coseno de 45°: \", math.cos(45))"
   ]
  },
  {
   "cell_type": "code",
   "execution_count": 25,
   "id": "219e70d9",
   "metadata": {},
   "outputs": [
    {
     "name": "stdout",
     "output_type": "stream",
     "text": [
      "Resultados:- Dado 1:  2 - Dado 2:  1 Suma:  3\n",
      "['persona2', 'persona3', 'persona9']\n"
     ]
    }
   ],
   "source": [
    "# 2. Usa random:\n",
    "import random\n",
    "\n",
    "def dado():\n",
    "    dado1=random.randint(1,6)\n",
    "    dado2=random.randint(1,6)\n",
    "    print(\n",
    "        \"Resultados:\"\n",
    "        \"- Dado 1: \", dado1,\n",
    "        \"- Dado 2: \",dado2,\n",
    "        \"Suma: \", dado1+dado2\n",
    "    )\n",
    "    \n",
    "dado()\n",
    "\n",
    "participantes = [\"persona1\", \"persona2\",\"persona3\",\"persona4\",\"persona5\",\"persona6\",\"persona7\",\"persona8\",\"persona9\",\"persona10\",]\n",
    "print(random.choices(participantes, k=3))"
   ]
  },
  {
   "cell_type": "code",
   "execution_count": 10,
   "id": "f4968950",
   "metadata": {},
   "outputs": [
    {
     "name": "stdout",
     "output_type": "stream",
     "text": [
      "08-09-2025\n",
      "Faltan: 146 días\n"
     ]
    }
   ],
   "source": [
    "# 3. usar datetime\n",
    "import datetime as dt\n",
    "\n",
    "print(dt.datetime.now().strftime(\"%d-%m-%Y\"))\n",
    "\n",
    "hoy = dt.date.today()\n",
    "cumple = dt.date(2026, 2, 1)\n",
    "\n",
    "# Si el cumple de este año ya pasó, usa el del año siguiente\n",
    "anio_objetivo = hoy.year if (dt.date(hoy.year, cumple.month, cumple.day) >= hoy) else hoy.year + 1\n",
    "next_cumple = dt.date(anio_objetivo, cumple.month, cumple.day)\n",
    "\n",
    "dias_faltan = (next_cumple - hoy).days\n",
    "print(f\"Faltan: {dias_faltan} días\")\n"
   ]
  },
  {
   "cell_type": "code",
   "execution_count": 5,
   "id": "6c2ef101",
   "metadata": {},
   "outputs": [],
   "source": [
    "# 4.\n",
    "import os\n",
    "\n",
    "os.mkdir(\"MisNotas\")\n",
    "directorio = \"MisNotas\"\n",
    "nombre = \"notas.txt\"\n",
    "ruta_completa = os.path.join(directorio, nombre)\n",
    "with open(ruta_completa, \"w\") as archivo:\n",
    "    archivo.write(\"Python es genial\")"
   ]
  },
  {
   "cell_type": "code",
   "execution_count": 8,
   "id": "9424a496",
   "metadata": {},
   "outputs": [
    {
     "name": "stdout",
     "output_type": "stream",
     "text": [
      "3.12.7 | packaged by Anaconda, Inc. | (main, Oct  4 2024, 13:17:27) [MSC v.1929 64 bit (AMD64)]\n",
      "win32\n"
     ]
    }
   ],
   "source": [
    "# 5. usa sys\n",
    "import sys\n",
    "print(sys.version)\n",
    "print(sys.platform)"
   ]
  },
  {
   "cell_type": "code",
   "execution_count": null,
   "id": "412ad1a1",
   "metadata": {},
   "outputs": [],
   "source": []
  }
 ],
 "metadata": {
  "kernelspec": {
   "display_name": "base",
   "language": "python",
   "name": "python3"
  },
  "language_info": {
   "codemirror_mode": {
    "name": "ipython",
    "version": 3
   },
   "file_extension": ".py",
   "mimetype": "text/x-python",
   "name": "python",
   "nbconvert_exporter": "python",
   "pygments_lexer": "ipython3",
   "version": "3.12.7"
  }
 },
 "nbformat": 4,
 "nbformat_minor": 5
}
