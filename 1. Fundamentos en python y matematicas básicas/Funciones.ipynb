{
 "cells": [
  {
   "cell_type": "markdown",
   "id": "bd13bd74",
   "metadata": {},
   "source": [
    "# Funciones\n",
    "\n",
    "Una funcion es un bloque de codigo reutilizable\n",
    "Se define con def y puede:\n",
    "- Tener parámetros(entradas)\n",
    "- Devolver un valor con return\n"
   ]
  },
  {
   "cell_type": "code",
   "execution_count": 1,
   "id": "f5de7ecb",
   "metadata": {},
   "outputs": [
    {
     "name": "stdout",
     "output_type": "stream",
     "text": [
      "Hola, David\n"
     ]
    }
   ],
   "source": [
    "# Sintaxis básica\n",
    "\n",
    "def saludar(nombre):\n",
    "    return f\"Hola, {nombre}\"\n",
    "\n",
    "print(saludar(\"David\"))"
   ]
  },
  {
   "cell_type": "markdown",
   "id": "3c53c31d",
   "metadata": {},
   "source": [
    "## Tipos de parámetros"
   ]
  },
  {
   "cell_type": "code",
   "execution_count": 2,
   "id": "1b71aa88",
   "metadata": {},
   "outputs": [
    {
     "name": "stdout",
     "output_type": "stream",
     "text": [
      "7\n"
     ]
    }
   ],
   "source": [
    "# Posicionales -> se pansan en orden\n",
    "def sumar(a,b):\n",
    "    return a+b\n",
    "\n",
    "print(sumar(2,5))"
   ]
  },
  {
   "cell_type": "code",
   "execution_count": 3,
   "id": "8aa42380",
   "metadata": {},
   "outputs": [
    {
     "name": "stdout",
     "output_type": "stream",
     "text": [
      "Hola Invitado\n",
      "Hola David\n"
     ]
    }
   ],
   "source": [
    "# Con valores por defecto -> si no se pasan, toman un valor\n",
    "def saludar(nombre=\"Invitado\"):\n",
    "    print(\"Hola\", nombre)\n",
    "\n",
    "saludar()\n",
    "saludar(\"David\")"
   ]
  },
  {
   "cell_type": "code",
   "execution_count": 4,
   "id": "1ce4197d",
   "metadata": {},
   "outputs": [
    {
     "name": "stdout",
     "output_type": "stream",
     "text": [
      "15\n"
     ]
    }
   ],
   "source": [
    "# *args -> recibe multiples valores en forma de tupla \n",
    "def sumar_todo(*numeros):\n",
    "    return sum(numeros)\n",
    "\n",
    "print(sumar_todo(1,2,3,4,5))\n"
   ]
  },
  {
   "cell_type": "code",
   "execution_count": 5,
   "id": "4a3a14a9",
   "metadata": {},
   "outputs": [
    {
     "name": "stdout",
     "output_type": "stream",
     "text": [
      "nombre : ana\n",
      "edad : 22\n",
      "ciudad : Lima\n"
     ]
    }
   ],
   "source": [
    "# **kwargs -> recive multiples pares clave-valor en forma de diccionario\n",
    "\n",
    "def mostrar_info(**datos):\n",
    "    for clave,valor in datos.items():\n",
    "        print(clave, \":\", valor)\n",
    "        \n",
    "mostrar_info(nombre=\"ana\", edad=22, ciudad=\"Lima\")"
   ]
  },
  {
   "cell_type": "markdown",
   "id": "caa0e8d0",
   "metadata": {},
   "source": [
    "### Ejercicios"
   ]
  },
  {
   "cell_type": "code",
   "execution_count": 20,
   "id": "142bbca7",
   "metadata": {},
   "outputs": [
    {
     "name": "stdout",
     "output_type": "stream",
     "text": [
      "Hola David\n"
     ]
    }
   ],
   "source": [
    "# 1. Crea una funcion que reciba tu nombre y devuelva un saludo personalizado\n",
    "\n",
    "def saludo(nombre):\n",
    "    return f\"Hola {nombre}\"\n",
    "\n",
    "print(saludo(\"David\"))"
   ]
  },
  {
   "cell_type": "code",
   "execution_count": 14,
   "id": "1321f47d",
   "metadata": {},
   "outputs": [
    {
     "name": "stdout",
     "output_type": "stream",
     "text": [
      "Suma:  3\n",
      "Resta:  -1\n",
      "Multiplicación:  2\n",
      "División:  0.5\n"
     ]
    }
   ],
   "source": [
    "# 2. Crea una funcion que reciba dos numeros y devuelva su suma, resta, multiplicacion y division\n",
    "def calcular(a,b):\n",
    "    print(\"Suma: \", a+b)\n",
    "    print(\"Resta: \",a-b)\n",
    "    print(\"Multiplicación: \",a*b)\n",
    "    print(\"División: \", a/b)\n",
    "\n",
    "calcular(1,2)"
   ]
  },
  {
   "cell_type": "code",
   "execution_count": null,
   "id": "0d63cc55",
   "metadata": {},
   "outputs": [
    {
     "data": {
      "text/plain": [
       "5"
      ]
     },
     "execution_count": 15,
     "metadata": {},
     "output_type": "execute_result"
    }
   ],
   "source": [
    "# 3. Crea una funcion que reciba una lista de números y devuelva el mayoe\n",
    "def num_mayor(*numeros):\n",
    "    return max(numeros)\n",
    "\n",
    "num_mayor(1,3,2,5)"
   ]
  },
  {
   "cell_type": "code",
   "execution_count": 16,
   "id": "56c3c71e",
   "metadata": {},
   "outputs": [
    {
     "data": {
      "text/plain": [
       "2.4285714285714284"
      ]
     },
     "execution_count": 16,
     "metadata": {},
     "output_type": "execute_result"
    }
   ],
   "source": [
    "# 4. usa *args para crear una funcion que reciba varios numeros y devuelva su promerio\n",
    "\n",
    "def promedio_num(*numeros):\n",
    "    return sum(numeros)/len(numeros)\n",
    "\n",
    "promedio_num(1,4,5,2,2,1,2)"
   ]
  },
  {
   "cell_type": "code",
   "execution_count": 17,
   "id": "28d8908e",
   "metadata": {},
   "outputs": [
    {
     "name": "stdout",
     "output_type": "stream",
     "text": [
      "nombre : David\n",
      "edad : 24\n"
     ]
    }
   ],
   "source": [
    "# 5. Usa **kwargs para crear una funcion que reciba datos de una persona (nombre, edad, ciudda) y los muestre formateados.\n",
    "\n",
    "def form_datos(**datos):\n",
    "    for clave,dato in datos.items():\n",
    "        print(clave, \":\" ,dato)\n",
    "        \n",
    "form_datos(nombre=\"David\", edad= 24)"
   ]
  },
  {
   "cell_type": "code",
   "execution_count": 22,
   "id": "b4264f8a",
   "metadata": {},
   "outputs": [
    {
     "name": "stdout",
     "output_type": "stream",
     "text": [
      "False\n",
      "True\n"
     ]
    }
   ],
   "source": [
    "def es_par(num):\n",
    "    return num % 2 == 0\n",
    "\n",
    "print(es_par(1))\n",
    "print(es_par(2))"
   ]
  },
  {
   "cell_type": "code",
   "execution_count": null,
   "id": "53698b9c",
   "metadata": {},
   "outputs": [],
   "source": []
  }
 ],
 "metadata": {
  "kernelspec": {
   "display_name": "base",
   "language": "python",
   "name": "python3"
  },
  "language_info": {
   "codemirror_mode": {
    "name": "ipython",
    "version": 3
   },
   "file_extension": ".py",
   "mimetype": "text/x-python",
   "name": "python",
   "nbconvert_exporter": "python",
   "pygments_lexer": "ipython3",
   "version": "3.12.7"
  }
 },
 "nbformat": 4,
 "nbformat_minor": 5
}
