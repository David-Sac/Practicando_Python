{
 "cells": [
  {
   "cell_type": "markdown",
   "id": "5fd441bf",
   "metadata": {},
   "source": [
    "# Variables, Tipos de datos y Operadores."
   ]
  },
  {
   "cell_type": "markdown",
   "id": "69a7a5ca",
   "metadata": {},
   "source": [
    "Una variables es un espacio en memoria donde guardamos un valor, en python no es necesario declarar que tipo de variable es.\n",
    "\n",
    "Tiene nombre y valor (nombre) = (valor)"
   ]
  },
  {
   "cell_type": "code",
   "execution_count": 3,
   "id": "001bd37a",
   "metadata": {},
   "outputs": [
    {
     "name": "stdout",
     "output_type": "stream",
     "text": [
      "<class 'str'>\n",
      "<class 'int'>\n",
      "<class 'bool'>\n",
      "<class 'float'>\n"
     ]
    }
   ],
   "source": [
    "# Tipos de datos\n",
    "\n",
    "nombre = \"David\" #String\n",
    "edad = 24 #Int\n",
    "Estudiante = True #Booleano\n",
    "Estatura = 175.5 #Float\n",
    "\n",
    "print(type(nombre))\n",
    "print(type(edad))\n",
    "print(type(Estudiante))\n",
    "print(type(Estatura))"
   ]
  },
  {
   "cell_type": "markdown",
   "id": "d5d824d2",
   "metadata": {},
   "source": [
    "Operadores Logicos en Python:<br>\n",
    "\"+\" Suma <br>\n",
    "\"-\" Resta<br>\n",
    "\"*\" Multiplicacion<br>\n",
    "\"/\" Division<br>\n",
    "\"%\" Modulo (Devuelve el sobrante de una division)<br>\n",
    "\"**\" Potencia<br>\n",
    "\"//\" Division (solo muestra el entero)<br>\n",
    "<br>\n",
    "Relacionales:<br>\n",
    "\"<\" menor que <br>\n",
    "\">\" mayor que<br>\n",
    "\"==\" igual a<br>\n",
    "\"<=\" menor o igual a<br>\n",
    "\">=\" mayor o igual a<br>\n",
    "\"!=\" diferente a<br>\n",
    "<br>\n",
    "Lógicos:<br>\n",
    "\"and\" y<br>\n",
    "\"or\" o<br>\n",
    "\"not\" no<br>"
   ]
  },
  {
   "cell_type": "code",
   "execution_count": 1,
   "id": "2a5b31ac",
   "metadata": {},
   "outputs": [
    {
     "name": "stdout",
     "output_type": "stream",
     "text": [
      "13\n",
      "7\n",
      "30\n",
      "3.3333333333333335\n",
      "3\n",
      "1\n",
      "1000\n"
     ]
    }
   ],
   "source": [
    "x = 10\n",
    "y = 3\n",
    "\n",
    "print(x + y)   # suma → 13\n",
    "print(x - y)   # resta → 7\n",
    "print(x * y)   # multiplicación → 30\n",
    "print(x / y)   # división → 3.333...\n",
    "print(x // y)  # división entera → 3\n",
    "print(x % y)   # módulo (resto) → 1\n",
    "print(x ** y)  # potencia → 1000\n"
   ]
  },
  {
   "cell_type": "code",
   "execution_count": 5,
   "id": "2bf11f55",
   "metadata": {},
   "outputs": [
    {
     "name": "stdout",
     "output_type": "stream",
     "text": [
      "False\n",
      "True\n",
      "False\n",
      "False\n"
     ]
    }
   ],
   "source": [
    "a = True\n",
    "b = False\n",
    "\n",
    "print(a and b)  # False\n",
    "print(a or b)   # True\n",
    "print(not a)    # False\n",
    "\n",
    "usuario_correcto = True\n",
    "contraseña_correcta = False\n",
    "print(usuario_correcto and contraseña_correcta)  # False\n",
    "\n"
   ]
  },
  {
   "cell_type": "code",
   "execution_count": 2,
   "id": "a4249af9",
   "metadata": {},
   "outputs": [
    {
     "name": "stdout",
     "output_type": "stream",
     "text": [
      "Tu sueldo semanal es:  800\n"
     ]
    }
   ],
   "source": [
    "horas = 40\n",
    "pago_por_hora = 20\n",
    "sueldo = horas * pago_por_hora\n",
    "print(\"Tu sueldo semanal es: \", sueldo)"
   ]
  },
  {
   "cell_type": "markdown",
   "id": "005dbaff",
   "metadata": {},
   "source": [
    "## TAREA\n"
   ]
  },
  {
   "cell_type": "code",
   "execution_count": null,
   "id": "65ab85e6",
   "metadata": {},
   "outputs": [
    {
     "name": "stdout",
     "output_type": "stream",
     "text": [
      "Hola David, tienes 24 y pesas 86.\n"
     ]
    }
   ],
   "source": [
    "# 1. Programa que pida input() \n",
    "\n",
    "nombre = input(\"Ingrese nombre: \")\n",
    "edad = int(input(\"Ingrese edad: \"))\n",
    "peso = float(input(\"Ingrese su peso:\"))\n",
    "\n",
    "print(f\"Hola {nombre}, tienes {edad} y pesas {peso}.\")"
   ]
  },
  {
   "cell_type": "code",
   "execution_count": 9,
   "id": "2fc3abb1",
   "metadata": {},
   "outputs": [
    {
     "name": "stdout",
     "output_type": "stream",
     "text": [
      "Suma:  1.0\n",
      "Resta:  1.0\n",
      "Multiplicacion:  0.0\n",
      "No se puede dividir entre 0\n",
      "Potencia:  1.0\n"
     ]
    }
   ],
   "source": [
    "# 2, Mini calculadora\n",
    "\n",
    "n1 = float(input(\"Ingresa el primer número: \"))\n",
    "n2 = float(input(\"Ingresa el segundo número: \"))\n",
    "\n",
    "print(\"Suma: \", n1+n2)\n",
    "print(\"Resta: \", n1-n2)\n",
    "print(\"Multiplicacion: \", n1*n2)\n",
    "if n2==0:\n",
    "    print(\"No se puede dividir entre 0\")\n",
    "else: \n",
    "    print(\"Division: \", n1/n2)\n",
    "print(\"Potencia: \", n1**n2)"
   ]
  },
  {
   "cell_type": "code",
   "execution_count": 16,
   "id": "bf475dc7",
   "metadata": {},
   "outputs": [
    {
     "name": "stdout",
     "output_type": "stream",
     "text": [
      "Gaseosa, tiene precio: 25.0, hay: 3 en stock,\n",
      "Esta en oferta\n",
      "Producto:  Gaseosa\n",
      "Cantidad:  3\n",
      "Precio:  25.0\n",
      "Total con IGV:  88.5\n"
     ]
    }
   ],
   "source": [
    "# Declara variables para un producto: nombre, precio, cantida, si esta en oferta (bool=\n",
    "\n",
    "nombre = \"Gaseosa\"\n",
    "precio = 25.0\n",
    "cantidad = 3\n",
    "oferta = True\n",
    "print(f\"{nombre}, tiene precio: {precio}, hay: {cantidad} en stock,\")\n",
    "if oferta:\n",
    "    print(\"Esta en oferta\")\n",
    "    \n",
    "# Calcula el total a pagara (precio * cantidad)\n",
    "\n",
    "def venta(precio:float, cantidad:int) -> float:\n",
    "    igv = cantidad*precio*0.18\n",
    "    total = igv + ( cantidad * precio )\n",
    "    \n",
    "    return total\n",
    "\n",
    "print(\"Producto: \", nombre)\n",
    "print(\"Cantidad: \",cantidad)\n",
    "print(\"Precio: \", precio)\n",
    "print(\"Total con IGV: \", venta(precio, cantidad))"
   ]
  },
  {
   "cell_type": "code",
   "execution_count": null,
   "id": "84a75587",
   "metadata": {},
   "outputs": [],
   "source": [
    "# Calcula el IGV (18%) y su suma tota"
   ]
  },
  {
   "cell_type": "markdown",
   "id": "d6e55d68",
   "metadata": {},
   "source": [
    "AUTOEVALUACION\n",
    "\n",
    "¿Qué diferencia hay entre = y == en Python?\n",
    "\n",
    "\"=\" asigna el valor a una variable, y \"==\" evalua su igualdad de datos\n",
    "\n",
    "¿Qué tipo de dato devuelve siempre input()?\n",
    "\n",
    "String\n",
    "\n",
    "¿Qué hace el operador //?\n",
    "\n",
    "Divide los numeros y devuelve su entero\n",
    "\n",
    "¿Qué devuelve la expresión 10 % 3?\n",
    "\n",
    "1\n",
    "\n",
    "Si x = 5, ¿qué resultado da x ** 2?\n",
    "\n",
    "25"
   ]
  },
  {
   "cell_type": "markdown",
   "id": "3a98656b",
   "metadata": {},
   "source": [
    "## Mini proyecto\n",
    "Calculadora de sueldo semanal con IGV incluido"
   ]
  },
  {
   "cell_type": "code",
   "execution_count": 6,
   "id": "d0aa99fc",
   "metadata": {},
   "outputs": [
    {
     "name": "stdout",
     "output_type": "stream",
     "text": [
      "Trabajador David:\n",
      "Seldo con IGV:  135.0\n"
     ]
    }
   ],
   "source": [
    "def calcular_sueldo(horas:int, pago_hora:float) -> float:\n",
    "    \"\"\"Calcula el sueldo semanal con IGV 18%\"\"\"\n",
    "    igv = pago_hora*0.18\n",
    "    total = horas * igv\n",
    "    \n",
    "    return total\n",
    "    \n",
    "    \n",
    "    \n",
    "nombre = \"David\"\n",
    "horas = 30\n",
    "pago_hora = 25.0\n",
    "\n",
    "print(f\"Trabajador {nombre}:\")\n",
    "print(\"Seldo con IGV: \", calcular_sueldo(horas, pago_hora))"
   ]
  },
  {
   "cell_type": "markdown",
   "id": "509601db",
   "metadata": {},
   "source": []
  },
  {
   "cell_type": "code",
   "execution_count": 17,
   "id": "5321b085",
   "metadata": {},
   "outputs": [
    {
     "data": {
      "text/plain": [
       "6"
      ]
     },
     "execution_count": 17,
     "metadata": {},
     "output_type": "execute_result"
    }
   ],
   "source": [
    "def duplicar(entero:int) -> int:\n",
    "    return entero*2\n",
    "\n",
    "duplicar(3)"
   ]
  },
  {
   "cell_type": "code",
   "execution_count": null,
   "id": "b75457ca",
   "metadata": {},
   "outputs": [],
   "source": []
  }
 ],
 "metadata": {
  "kernelspec": {
   "display_name": "base",
   "language": "python",
   "name": "python3"
  },
  "language_info": {
   "codemirror_mode": {
    "name": "ipython",
    "version": 3
   },
   "file_extension": ".py",
   "mimetype": "text/x-python",
   "name": "python",
   "nbconvert_exporter": "python",
   "pygments_lexer": "ipython3",
   "version": "3.12.7"
  }
 },
 "nbformat": 4,
 "nbformat_minor": 5
}
