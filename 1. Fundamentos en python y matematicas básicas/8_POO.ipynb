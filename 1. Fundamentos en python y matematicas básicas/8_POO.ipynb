{
 "cells": [
  {
   "cell_type": "markdown",
   "id": "abf47ec9",
   "metadata": {},
   "source": [
    "# Programacion Orientada a Objetos\n",
    "\n",
    "La Programación Orientada a Objetos (POO) se basa en representar objetos del mundo real con:\n",
    "\n",
    "- Clases -> molde o plantilla\n",
    "- Objetos -> instancias de una clase\n",
    "- Atributos -> variables que guardan datos del objeto\n",
    "- Métodos -> funciones que definen el comportamiento del objeto"
   ]
  },
  {
   "cell_type": "code",
   "execution_count": 3,
   "id": "c54bb53e",
   "metadata": {},
   "outputs": [
    {
     "name": "stdout",
     "output_type": "stream",
     "text": [
      "Hola, soy David y tengo 24 años\n"
     ]
    }
   ],
   "source": [
    "# Sintaxis de clases y objetos\n",
    "class Persona:\n",
    "    def __init__(self, nombre, edad):\n",
    "        self.nombre = nombre\n",
    "        self.edad = edad\n",
    "    \n",
    "    def saludar(self):\n",
    "        return f\"Hola, soy {self.nombre} y tengo {self.edad} años\"\n",
    "\n",
    "p1 = Persona(\"David\", 24)\n",
    "\n",
    "print(p1.saludar())\n",
    "\n"
   ]
  },
  {
   "cell_type": "markdown",
   "id": "aea10570",
   "metadata": {},
   "source": [
    "## Conceptos clave\n",
    "\n",
    "- __init__ -> método constructor (se ejecuta al crear el objeto)\n",
    "- self -> referencia al propio objeto\n",
    "- Métodos -> funciones dentro de la clase"
   ]
  },
  {
   "cell_type": "markdown",
   "id": "3881528e",
   "metadata": {},
   "source": [
    "## Tarea"
   ]
  },
  {
   "cell_type": "code",
   "execution_count": null,
   "id": "e0d94f04",
   "metadata": {},
   "outputs": [
    {
     "name": "stdout",
     "output_type": "stream",
     "text": [
      "El coche es marca Tsuru, modelo 2012 y del 2015\n",
      "El coche es marca Nissan, modelo nuevo y del 2025\n"
     ]
    }
   ],
   "source": [
    "# 1. Crea una clase Coche con atributos marca, modelo y año\n",
    "# Crea 2 objetos y muestraloc on un método info()\n",
    "\n",
    "class Coche:\n",
    "    def __init__(self, marca, modelo, año):\n",
    "        self.marca = marca\n",
    "        self.modelo = modelo\n",
    "        self.año = año\n",
    "        \n",
    "    def info(self):\n",
    "        return f\"El coche es marca {self.marca}, modelo {self.modelo} y del {self.año}\"\n",
    "    \n",
    "coche1 = Coche(\"Tsuru\", \"2012\", 2015)\n",
    "coche2 = Coche(\"Nissan\", \"nuevo\", \"2025\")\n",
    "print(coche1.info())\n",
    "print(coche2.info())    "
   ]
  },
  {
   "cell_type": "code",
   "execution_count": 10,
   "id": "d4785ce6",
   "metadata": {},
   "outputs": [
    {
     "name": "stdout",
     "output_type": "stream",
     "text": [
      "Aprobó con 20\n"
     ]
    }
   ],
   "source": [
    "# 2. Crea una clase Alumno con atributos nombre y nota.\n",
    "# Agrega un método que diga si el alumno aprueba o desaprueba (nota >= 11)\n",
    "\n",
    "class Alumno:\n",
    "    def __init__(self, nombre, nota):\n",
    "        self.nombre = nombre\n",
    "        self.nota = nota\n",
    "    def notas(self):\n",
    "        if self.nota>=11:\n",
    "            return f\"Aprobó con {self.nota}\"\n",
    "        else:\n",
    "            return f\"Desaprobó con {self.nota}\"\n",
    "            \n",
    "alumno1 = Alumno(\"David\", 20)\n",
    "print(alumno1.notas())"
   ]
  },
  {
   "cell_type": "code",
   "execution_count": 2,
   "id": "00de54e0",
   "metadata": {},
   "outputs": [
    {
     "name": "stdout",
     "output_type": "stream",
     "text": [
      "Depósito exitoso. Saldo actual: 150\n",
      "Fondos insuficientes.\n"
     ]
    }
   ],
   "source": [
    "# 3. Crea una clase CuentaBancaria con atributos titular y saldo \n",
    "# Métodos: depositar(monto) y retirar(monto)\n",
    "# Verifica que no se pueda retirar más de lo quue hay en saldo\n",
    "\n",
    "\n",
    "class CuentaBancaria:\n",
    "    def __init__(self, titular, saldo=0):\n",
    "        self.titular = titular\n",
    "        self.saldo = saldo\n",
    "        \n",
    "    def depositar(self, monto:float):\n",
    "        if monto>0:\n",
    "            self.saldo += monto\n",
    "            return f\"Depósito exitoso. Saldo actual: {self.saldo}\"\n",
    "        return \"Monto inválido\"\n",
    "    def retirar(self, monto: float):\n",
    "        if monto <= 0:\n",
    "            return \"Monto inválido.\"\n",
    "        if monto > self.saldo:\n",
    "            return \"Fondos insuficientes.\"\n",
    "        self.saldo -= monto\n",
    "        return f\"Retiro exitoso. Saldo actual: {self.saldo}\"\n",
    "\n",
    "num = CuentaBancaria(\"David\", 100)\n",
    "\n",
    "print(num.depositar(50))\n",
    "print(num.retirar(200))\n",
    "    "
   ]
  },
  {
   "cell_type": "code",
   "execution_count": null,
   "id": "2be01b6c",
   "metadata": {},
   "outputs": [
    {
     "name": "stdout",
     "output_type": "stream",
     "text": [
      "El libro d fue escrito por a\n"
     ]
    }
   ],
   "source": [
    "class Libro:\n",
    "    def __init__(self, titulo, autor):\n",
    "        self.titulo = titulo\n",
    "        self.autor = autor\n",
    "    \n",
    "    def info(self):\n",
    "        return f\"El libro {self.titulo} fue escrito por {self.autor}\"\n",
    "    \n",
    "print(Libro(\"australopitecus\", \"Mi\").info())"
   ]
  },
  {
   "cell_type": "code",
   "execution_count": null,
   "id": "dc6fab31",
   "metadata": {},
   "outputs": [],
   "source": []
  }
 ],
 "metadata": {
  "kernelspec": {
   "display_name": "base",
   "language": "python",
   "name": "python3"
  },
  "language_info": {
   "codemirror_mode": {
    "name": "ipython",
    "version": 3
   },
   "file_extension": ".py",
   "mimetype": "text/x-python",
   "name": "python",
   "nbconvert_exporter": "python",
   "pygments_lexer": "ipython3",
   "version": "3.12.7"
  }
 },
 "nbformat": 4,
 "nbformat_minor": 5
}
