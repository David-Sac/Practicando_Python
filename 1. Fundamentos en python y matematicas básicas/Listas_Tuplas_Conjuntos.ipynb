{
 "cells": [
  {
   "cell_type": "markdown",
   "id": "654425a5",
   "metadata": {},
   "source": [
    "# Listas, Tuplas y Conjuntos"
   ]
  },
  {
   "cell_type": "markdown",
   "id": "7d73d19d",
   "metadata": {},
   "source": [
    "## Listas (list)\n",
    "\n",
    "Colecciones ordenadas y mutables (se pueden cambiar).\n",
    "Se escriben en corchetes [ ]"
   ]
  },
  {
   "cell_type": "code",
   "execution_count": 2,
   "id": "33777dad",
   "metadata": {},
   "outputs": [
    {
     "name": "stdout",
     "output_type": "stream",
     "text": [
      "manzana\n",
      "['manzana', 'uva', 'chirimolla']\n"
     ]
    }
   ],
   "source": [
    "frutas = [\"manzana\", \"pera\", \"uva\"]\n",
    "print(frutas[0])\n",
    "frutas.append(\"chirimolla\")\n",
    "frutas.remove(\"pera\")\n",
    "print(frutas)"
   ]
  },
  {
   "cell_type": "markdown",
   "id": "84a846e6",
   "metadata": {},
   "source": [
    "### Metodos principales\n",
    "\n",
    "- append(x) -> Agrega un elemento al final.\n",
    "- insert(i,x) -> Inserta en la posición i.\n",
    "- extend(iterable) -> Agrega varios elementos (fusiona).\n",
    "- remove(x) -> Elimina el primer elemento con valor x.\n",
    "- pop([i]) -> Elimina y devuelve el elemento de la posición i (ultimo por defecto).\n",
    "- clear() -> Elimina todos los elementos.\n",
    "- index(x) -> Devuelve la posición de la primera aparición de x.\n",
    "- count(x) -> Muestra cuantas veces aparece x.\n",
    "- sort() -> Ordena la lista.\n",
    "- reverse() -> Invierte el orden de la lista.\n",
    "- copy() -> Devuelve una copia superficial de la lista"
   ]
  },
  {
   "cell_type": "markdown",
   "id": "880d6935",
   "metadata": {},
   "source": [
    "## Tuplas (tuple)\n",
    "\n",
    "Colecciones ordenadas pero inmutables (no se pueden cambiar). Se escriben en  parentesis ( )"
   ]
  },
  {
   "cell_type": "code",
   "execution_count": 3,
   "id": "46eecb08",
   "metadata": {},
   "outputs": [
    {
     "name": "stdout",
     "output_type": "stream",
     "text": [
      "0\n",
      "<class 'tuple'>\n"
     ]
    }
   ],
   "source": [
    "coordenada = (0, 5)\n",
    "print(coordenada[0])\n",
    "print(type(coordenada))"
   ]
  },
  {
   "cell_type": "markdown",
   "id": "105c69ce",
   "metadata": {},
   "source": [
    "### Metodos Principales\n",
    "\n",
    "- count(x) -> Número de veces que aparece x.\n",
    "- index(x) -> Devuelve la posicion de la primera aparicion de x."
   ]
  },
  {
   "cell_type": "markdown",
   "id": "d0c13314",
   "metadata": {},
   "source": [
    "## Conjuntos (set)\n",
    "\n",
    "Colecciones no ordenadas y sin duplicados. Se escriben con llaves { }"
   ]
  },
  {
   "cell_type": "code",
   "execution_count": 4,
   "id": "82d364d3",
   "metadata": {},
   "outputs": [
    {
     "name": "stdout",
     "output_type": "stream",
     "text": [
      "{'rojo', 'azul', 'verde'}\n"
     ]
    }
   ],
   "source": [
    "colores = {\"rojo\", \"azul\", \"verde\", \"rojo\"}\n",
    "print(colores) #Se eliminara el duplicado"
   ]
  },
  {
   "cell_type": "markdown",
   "id": "5a25252b",
   "metadata": {},
   "source": [
    "### Metodos Principales\n",
    "\n",
    "- add(x) -> agrega un elemeto.\n",
    "- update(iterable) -> agrega varios elementos.\n",
    "- remove(x) -> Elimina x, error si no existe\n",
    "- discard(x) -> Elimina x, sin error si no existe.\n",
    "- pop(x) -> Elimina un elemento aleatorio\n",
    "- clear() -> Vacia el conjunto\n",
    "- copy() -> copia superficioal\n",
    "\n",
    "### Operaciones de conjuntos:\n",
    "\n",
    "- union(otro_set) -> Unión ( | ).\n",
    "- intersection(otro_set) -> Intesección ( & ).\n",
    "- difference(otro_set) -> Diferencia ( - ).\n",
    "- symetric_difference(otro_set) -> Diferencia simétrica ( ^ )\n",
    "- issubset(otro_set) -> ¿Es subconjunto?\n",
    "- issuperset(otro_set) -> ¿Es superconjunto?\n",
    "- isdisjoint(otro_set) -> ¿No comparten elementos? "
   ]
  },
  {
   "cell_type": "code",
   "execution_count": null,
   "id": "0134d2b0",
   "metadata": {},
   "outputs": [
    {
     "name": "stdout",
     "output_type": "stream",
     "text": [
      "Fresia\n"
     ]
    }
   ],
   "source": [
    "#Crear lista de 5 nombres y mostrar el tercero\n",
    "nombres = [\"David\", \"Dante\", \"Fresia\", \"Ximana\", \"Nury\"]\n",
    "print(nombres[2])"
   ]
  },
  {
   "cell_type": "code",
   "execution_count": 6,
   "id": "565a4b0a",
   "metadata": {},
   "outputs": [
    {
     "name": "stdout",
     "output_type": "stream",
     "text": [
      "['David', 'Fresia']\n",
      "['David', 'Fresia', 'Ximena']\n",
      "['David', 'Fresia']\n"
     ]
    }
   ],
   "source": [
    "#añadir y luego quitar nombres de una lista\n",
    "nombres = [\"David\", \"Fresia\"]\n",
    "print(nombres)\n",
    "nombres.append(\"Ximena\")\n",
    "print(nombres)\n",
    "nombres.pop()\n",
    "print(nombres)"
   ]
  },
  {
   "cell_type": "code",
   "execution_count": 7,
   "id": "dbee2c42",
   "metadata": {},
   "outputs": [
    {
     "name": "stdout",
     "output_type": "stream",
     "text": [
      "rojo\n"
     ]
    }
   ],
   "source": [
    "#Crea una tupla con 3 colores y muestra el primero\n",
    "colores  = (\"rojo\", \"azul\", \"verde\")\n",
    "print(colores[0])"
   ]
  },
  {
   "cell_type": "code",
   "execution_count": 8,
   "id": "5d327b18",
   "metadata": {},
   "outputs": [
    {
     "name": "stdout",
     "output_type": "stream",
     "text": [
      "{1, 2, 3}\n"
     ]
    }
   ],
   "source": [
    "numeros = {1,1,2,3,3,1,2,3}\n",
    "print(numeros)"
   ]
  },
  {
   "cell_type": "code",
   "execution_count": 10,
   "id": "318c34c0",
   "metadata": {},
   "outputs": [
    {
     "name": "stdout",
     "output_type": "stream",
     "text": [
      "Los números que ingresaste son: [1.0, 5.0, 7.0, 8.0, 5.0]\n",
      "La suma total de los numeros es: 26.0\n"
     ]
    }
   ],
   "source": [
    "numeros = []\n",
    "\n",
    "for i in range(5):\n",
    "    while True:\n",
    "        try:\n",
    "            num =float(input(f\"Ingrese el número {i+1} de 5: \"))\n",
    "            numeros.append(num)\n",
    "            break\n",
    "        except ValueError:\n",
    "            print(\"Entrada Invalida. Por favor, ingresa un numero\")\n",
    "            \n",
    "suma_total = sum(numeros)\n",
    "print(f\"Los números que ingresaste son: {numeros}\")\n",
    "print(f\"La suma total de los numeros es: {suma_total}\")"
   ]
  },
  {
   "cell_type": "code",
   "execution_count": null,
   "id": "4b4294d8",
   "metadata": {},
   "outputs": [],
   "source": []
  }
 ],
 "metadata": {
  "kernelspec": {
   "display_name": "base",
   "language": "python",
   "name": "python3"
  },
  "language_info": {
   "codemirror_mode": {
    "name": "ipython",
    "version": 3
   },
   "file_extension": ".py",
   "mimetype": "text/x-python",
   "name": "python",
   "nbconvert_exporter": "python",
   "pygments_lexer": "ipython3",
   "version": "3.12.7"
  }
 },
 "nbformat": 4,
 "nbformat_minor": 5
}
