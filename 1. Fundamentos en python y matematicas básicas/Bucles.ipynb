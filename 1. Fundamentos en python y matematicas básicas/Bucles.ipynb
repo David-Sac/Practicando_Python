{
 "cells": [
  {
   "cell_type": "markdown",
   "id": "7211f060",
   "metadata": {},
   "source": [
    "# Bucles"
   ]
  },
  {
   "cell_type": "markdown",
   "id": "1376334c",
   "metadata": {},
   "source": [
    "Los bubles permiten repetir el codigo varias veces sin necesidad de escribirlo de nuevo"
   ]
  },
  {
   "cell_type": "code",
   "execution_count": 1,
   "id": "3154dd5b",
   "metadata": {},
   "outputs": [
    {
     "name": "stdout",
     "output_type": "stream",
     "text": [
      "Hello World\n",
      "Hello World\n",
      "Hello World\n",
      "Hello World\n",
      "Hello World\n"
     ]
    }
   ],
   "source": [
    "# BUCLE WHILE\n",
    "\n",
    "x = 1\n",
    "while x <= 5:\n",
    "    print(\"Hello World\")\n",
    "    x += 1\n"
   ]
  },
  {
   "cell_type": "code",
   "execution_count": 3,
   "id": "f5ff2000",
   "metadata": {},
   "outputs": [
    {
     "name": "stdout",
     "output_type": "stream",
     "text": [
      "1  es un numero impar\n",
      "3  es un numero impar\n",
      "5  es un numero impar\n",
      "7  es un numero impar\n",
      "9  es un numero impar\n",
      "11  es un numero impar\n",
      "13  es un numero impar\n",
      "15  es un numero impar\n",
      "17  es un numero impar\n",
      "19  es un numero impar\n"
     ]
    }
   ],
   "source": [
    "# BUCLE FOR\n",
    "\n",
    "for i in range (1, 20):\n",
    "    if i % 2 == 1:\n",
    "        print(i,\" es un numero impar\")\n",
    "    "
   ]
  },
  {
   "cell_type": "code",
   "execution_count": 7,
   "id": "2f2a855f",
   "metadata": {},
   "outputs": [
    {
     "name": "stdout",
     "output_type": "stream",
     "text": [
      "Me gusta la  Manzana\n",
      "Me gusta la  Pera\n"
     ]
    }
   ],
   "source": [
    "# Ejemplo\n",
    "\n",
    "frutas = [\"Manzana\", \"Pera\"]\n",
    "\n",
    "for fruta in frutas:\n",
    "    print(\"Me gusta la \", fruta)"
   ]
  },
  {
   "cell_type": "code",
   "execution_count": null,
   "id": "79340b48",
   "metadata": {},
   "outputs": [],
   "source": []
  },
  {
   "cell_type": "code",
   "execution_count": 10,
   "id": "aeb14d84",
   "metadata": {},
   "outputs": [
    {
     "name": "stdout",
     "output_type": "stream",
     "text": [
      "1\n",
      "2\n",
      "3\n",
      "4\n",
      "5\n",
      "6\n",
      "7\n",
      "8\n",
      "9\n",
      "10\n"
     ]
    }
   ],
   "source": [
    "# Muestra del 1 al 10 usando while\n",
    "\n",
    "x = 1\n",
    "while x <= 10:\n",
    "    print(x)\n",
    "    x += 1"
   ]
  },
  {
   "cell_type": "code",
   "execution_count": 14,
   "id": "fb8d67dc",
   "metadata": {},
   "outputs": [
    {
     "name": "stdout",
     "output_type": "stream",
     "text": [
      "2\n",
      "4\n",
      "6\n",
      "8\n",
      "10\n",
      "12\n",
      "14\n",
      "16\n",
      "18\n",
      "20\n"
     ]
    }
   ],
   "source": [
    "# Numeros pares del 2 al 20 \n",
    "x = 1 \n",
    "while x <= 20:\n",
    "    if x % 2 == 0:\n",
    "        print(x)\n",
    "    x += 1"
   ]
  },
  {
   "cell_type": "code",
   "execution_count": 23,
   "id": "2effdde9",
   "metadata": {},
   "outputs": [
    {
     "name": "stdout",
     "output_type": "stream",
     "text": [
      "5\n",
      "10\n",
      "15\n",
      "20\n",
      "25\n",
      "30\n",
      "35\n",
      "40\n",
      "45\n",
      "50\n"
     ]
    }
   ],
   "source": [
    "# Pedir al usuario el numero \n",
    "\n",
    "while True:\n",
    "    try:\n",
    "        n = int(input(\"Ingrese un numero: \"))\n",
    "        for i in range(1, 11):\n",
    "            print(n*i)\n",
    "        break\n",
    "    except ValueError:\n",
    "        print(\"El valor usado no es permitido, ingrese nuevamente:\")\n",
    "        "
   ]
  },
  {
   "cell_type": "code",
   "execution_count": null,
   "id": "9bcd702f",
   "metadata": {},
   "outputs": [],
   "source": []
  }
 ],
 "metadata": {
  "kernelspec": {
   "display_name": "base",
   "language": "python",
   "name": "python3"
  },
  "language_info": {
   "codemirror_mode": {
    "name": "ipython",
    "version": 3
   },
   "file_extension": ".py",
   "mimetype": "text/x-python",
   "name": "python",
   "nbconvert_exporter": "python",
   "pygments_lexer": "ipython3",
   "version": "3.12.7"
  }
 },
 "nbformat": 4,
 "nbformat_minor": 5
}
