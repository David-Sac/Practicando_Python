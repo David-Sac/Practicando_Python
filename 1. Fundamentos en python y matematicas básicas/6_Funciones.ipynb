{
 "cells": [
  {
   "cell_type": "markdown",
   "id": "bd13bd74",
   "metadata": {},
   "source": [
    "# Funciones\n",
    "\n",
    "Una funcion es un bloque de codigo reutilizable\n",
    "Se define con def y puede:\n",
    "- Tener parámetros(entradas)\n",
    "- Devolver un valor con return\n",
    "\n",
    "def nombre_funcion(parametros):\n",
    "- return valor\n",
    "\n",
    "\n",
    "## Type hints\n",
    "\n",
    "son indicaciones para los programadores, no influye, solo muestra el tipo de dato que debe llegar, son como comentarios\n",
    "\n",
    "a:int -> Significa que seran enteros\n",
    "-> float -> muestra lo que devuelve la funcion"
   ]
  },
  {
   "cell_type": "code",
   "execution_count": 1,
   "id": "f5de7ecb",
   "metadata": {},
   "outputs": [
    {
     "name": "stdout",
     "output_type": "stream",
     "text": [
      "Hola, David\n"
     ]
    }
   ],
   "source": [
    "# Sintaxis básica\n",
    "\n",
    "def saludar(nombre):\n",
    "    return f\"Hola, {nombre}\"\n",
    "\n",
    "print(saludar(\"David\"))"
   ]
  },
  {
   "cell_type": "markdown",
   "id": "3c53c31d",
   "metadata": {},
   "source": [
    "## Tipos de parámetros"
   ]
  },
  {
   "cell_type": "code",
   "execution_count": 2,
   "id": "1b71aa88",
   "metadata": {},
   "outputs": [
    {
     "name": "stdout",
     "output_type": "stream",
     "text": [
      "7\n"
     ]
    }
   ],
   "source": [
    "# Posicionales -> se pansan en orden\n",
    "def sumar(a,b):\n",
    "    return a+b\n",
    "\n",
    "print(sumar(2,5))"
   ]
  },
  {
   "cell_type": "code",
   "execution_count": 3,
   "id": "8aa42380",
   "metadata": {},
   "outputs": [
    {
     "name": "stdout",
     "output_type": "stream",
     "text": [
      "Hola Invitado\n",
      "Hola David\n"
     ]
    }
   ],
   "source": [
    "# Con valores por defecto -> si no se pasan, toman un valor\n",
    "def saludar(nombre=\"Invitado\"):\n",
    "    print(\"Hola\", nombre)\n",
    "\n",
    "saludar()\n",
    "saludar(\"David\")"
   ]
  },
  {
   "cell_type": "code",
   "execution_count": 4,
   "id": "1ce4197d",
   "metadata": {},
   "outputs": [
    {
     "name": "stdout",
     "output_type": "stream",
     "text": [
      "15\n"
     ]
    }
   ],
   "source": [
    "# *args -> recibe multiples valores en forma de tupla \n",
    "def sumar_todo(*numeros):\n",
    "    return sum(numeros)\n",
    "\n",
    "print(sumar_todo(1,2,3,4,5))\n"
   ]
  },
  {
   "cell_type": "code",
   "execution_count": 5,
   "id": "4a3a14a9",
   "metadata": {},
   "outputs": [
    {
     "name": "stdout",
     "output_type": "stream",
     "text": [
      "nombre : ana\n",
      "edad : 22\n",
      "ciudad : Lima\n"
     ]
    }
   ],
   "source": [
    "# **kwargs -> recive multiples pares clave-valor en forma de diccionario\n",
    "\n",
    "def mostrar_info(**datos):\n",
    "    for clave,valor in datos.items():\n",
    "        print(clave, \":\", valor)\n",
    "        \n",
    "mostrar_info(nombre=\"ana\", edad=22, ciudad=\"Lima\")"
   ]
  },
  {
   "cell_type": "markdown",
   "id": "4d15855b",
   "metadata": {},
   "source": [
    "## Mini proyecto"
   ]
  },
  {
   "cell_type": "code",
   "execution_count": 8,
   "id": "5684d8df",
   "metadata": {},
   "outputs": [
    {
     "name": "stdout",
     "output_type": "stream",
     "text": [
      "\n",
      "===== CALCULADORA =====\n",
      "1. Sumar\n",
      "2. Restar\n",
      "3. Multiplicar\n",
      "4. Dividir\n",
      "5. Salir\n",
      "Error de valor\n",
      "\n",
      "===== CALCULADORA =====\n",
      "1. Sumar\n",
      "2. Restar\n",
      "3. Multiplicar\n",
      "4. Dividir\n",
      "5. Salir\n",
      "Error de valor\n",
      "\n",
      "===== CALCULADORA =====\n",
      "1. Sumar\n",
      "2. Restar\n",
      "3. Multiplicar\n",
      "4. Dividir\n",
      "5. Salir\n",
      "Opcion invalida\n",
      "\n",
      "===== CALCULADORA =====\n",
      "1. Sumar\n",
      "2. Restar\n",
      "3. Multiplicar\n",
      "4. Dividir\n",
      "5. Salir\n",
      "Opcion invalida\n",
      "\n",
      "===== CALCULADORA =====\n",
      "1. Sumar\n",
      "2. Restar\n",
      "3. Multiplicar\n",
      "4. Dividir\n",
      "5. Salir\n",
      "Saliendo...\n"
     ]
    }
   ],
   "source": [
    "def sumar(a:float,b:float) -> float:\n",
    "    return a+b\n",
    "def restar(a:float,b:float) -> float:\n",
    "    return a-b\n",
    "def multiplicar(a:float,b:float) -> float:\n",
    "    return a*b\n",
    "def dividir(a:float,b:float):\n",
    "    if b== 0:\n",
    "        print(\"Error...\")\n",
    "    return a/b    \n",
    "    \n",
    "while True:\n",
    "    print(\"\\n===== CALCULADORA =====\")\n",
    "    print(\"1. Sumar\")\n",
    "    print(\"2. Restar\")\n",
    "    print(\"3. Multiplicar\")\n",
    "    print(\"4. Dividir\")\n",
    "    print(\"5. Salir\")\n",
    "    \n",
    "    try:\n",
    "        opcion = input(\"Seleccione: \")\n",
    "        if opcion == \"5\":\n",
    "            print(\"Saliendo...\")\n",
    "            break\n",
    "    \n",
    "        n1 = float(input(\"Ingrese el primer número: \"))\n",
    "        n2 = float(input(\"Ingrese el segundo numero: \"))\n",
    "        \n",
    "        if opcion == \"1\":\n",
    "            print(\"\\nResultado: \", sumar(n1,n2))\n",
    "        elif opcion == \"2\":\n",
    "            print(\"\\nResultado: \", restar(n1,n2))\n",
    "        elif opcion == \"3\":\n",
    "            print(\"\\nResultado: \", multiplicar(n1,n2))\n",
    "        elif opcion == \"4\":\n",
    "            print(\"\\nResultado: \", dividir(n1,n2))\n",
    "        else:\n",
    "            print(\"Opcion invalida\")\n",
    "    except ValueError:\n",
    "        print(\"Error de valor\")\n",
    "    \n",
    "    "
   ]
  },
  {
   "cell_type": "markdown",
   "id": "caa0e8d0",
   "metadata": {},
   "source": [
    "### Ejercicios"
   ]
  },
  {
   "cell_type": "code",
   "execution_count": 20,
   "id": "142bbca7",
   "metadata": {},
   "outputs": [
    {
     "name": "stdout",
     "output_type": "stream",
     "text": [
      "Hola David\n"
     ]
    }
   ],
   "source": [
    "# 1. Crea una funcion que reciba tu nombre y devuelva un saludo personalizado\n",
    "\n",
    "def saludo(nombre):\n",
    "    return f\"Hola {nombre}\"\n",
    "\n",
    "print(saludo(\"David\"))"
   ]
  },
  {
   "cell_type": "code",
   "execution_count": 9,
   "id": "1321f47d",
   "metadata": {},
   "outputs": [
    {
     "name": "stdout",
     "output_type": "stream",
     "text": [
      "{'suma': 12, 'resta': 8, 'multiplicacion': 20, 'division': 5.0}\n"
     ]
    }
   ],
   "source": [
    "# 2. Crea una funcion que reciba dos numeros y devuelva su suma, resta, multiplicacion y division\n",
    "def calcular(a, b):\n",
    "    return {\n",
    "        \"suma\": a + b,\n",
    "        \"resta\": a - b,\n",
    "        \"multiplicacion\": a * b,\n",
    "        \"division\": a / b\n",
    "    }\n",
    "\n",
    "print(calcular(10, 2))\n"
   ]
  },
  {
   "cell_type": "code",
   "execution_count": null,
   "id": "0d63cc55",
   "metadata": {},
   "outputs": [
    {
     "data": {
      "text/plain": [
       "5"
      ]
     },
     "execution_count": 15,
     "metadata": {},
     "output_type": "execute_result"
    }
   ],
   "source": [
    "# 3. Crea una funcion que reciba una lista de números y devuelva el mayoe\n",
    "def num_mayor(*numeros):\n",
    "    return max(numeros)\n",
    "\n",
    "num_mayor(1,3,2,5)"
   ]
  },
  {
   "cell_type": "code",
   "execution_count": 16,
   "id": "56c3c71e",
   "metadata": {},
   "outputs": [
    {
     "data": {
      "text/plain": [
       "2.4285714285714284"
      ]
     },
     "execution_count": 16,
     "metadata": {},
     "output_type": "execute_result"
    }
   ],
   "source": [
    "# 4. usa *args para crear una funcion que reciba varios numeros y devuelva su promerio\n",
    "\n",
    "def promedio_num(*numeros):\n",
    "    return sum(numeros)/len(numeros)\n",
    "\n",
    "promedio_num(1,4,5,2,2,1,2)"
   ]
  },
  {
   "cell_type": "code",
   "execution_count": 17,
   "id": "28d8908e",
   "metadata": {},
   "outputs": [
    {
     "name": "stdout",
     "output_type": "stream",
     "text": [
      "nombre : David\n",
      "edad : 24\n"
     ]
    }
   ],
   "source": [
    "# 5. Usa **kwargs para crear una funcion que reciba datos de una persona (nombre, edad, ciudda) y los muestre formateados.\n",
    "\n",
    "def form_datos(**datos):\n",
    "    for clave,dato in datos.items():\n",
    "        print(clave, \":\" ,dato)\n",
    "        \n",
    "form_datos(nombre=\"David\", edad= 24)"
   ]
  },
  {
   "cell_type": "code",
   "execution_count": 22,
   "id": "b4264f8a",
   "metadata": {},
   "outputs": [
    {
     "name": "stdout",
     "output_type": "stream",
     "text": [
      "False\n",
      "True\n"
     ]
    }
   ],
   "source": [
    "def es_par(num):\n",
    "    return num % 2 == 0\n",
    "\n",
    "print(es_par(1))\n",
    "print(es_par(2))"
   ]
  },
  {
   "cell_type": "code",
   "execution_count": 10,
   "id": "53698b9c",
   "metadata": {},
   "outputs": [
    {
     "data": {
      "text/plain": [
       "3"
      ]
     },
     "execution_count": 10,
     "metadata": {},
     "output_type": "execute_result"
    }
   ],
   "source": [
    "def maximo(a, b, c):\n",
    "    return max(a,b,c)\n",
    "maximo(1,2,3)"
   ]
  },
  {
   "cell_type": "code",
   "execution_count": 11,
   "id": "33776d24",
   "metadata": {},
   "outputs": [
    {
     "name": "stdout",
     "output_type": "stream",
     "text": [
      "Es impar\n"
     ]
    }
   ],
   "source": [
    "def es_par(num:float) -> str:\n",
    "    if num%2==1:\n",
    "        print(\"Es impar\")\n",
    "    else:\n",
    "        print(\"Es par\")\n",
    "es_par(3)"
   ]
  },
  {
   "cell_type": "code",
   "execution_count": null,
   "id": "024d0a7d",
   "metadata": {},
   "outputs": [],
   "source": []
  }
 ],
 "metadata": {
  "kernelspec": {
   "display_name": "base",
   "language": "python",
   "name": "python3"
  },
  "language_info": {
   "codemirror_mode": {
    "name": "ipython",
    "version": 3
   },
   "file_extension": ".py",
   "mimetype": "text/x-python",
   "name": "python",
   "nbconvert_exporter": "python",
   "pygments_lexer": "ipython3",
   "version": "3.12.7"
  }
 },
 "nbformat": 4,
 "nbformat_minor": 5
}
