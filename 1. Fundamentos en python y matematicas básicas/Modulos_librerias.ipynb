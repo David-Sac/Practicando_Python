{
 "cells": [
  {
   "cell_type": "markdown",
   "id": "fd22849d",
   "metadata": {},
   "source": [
    "# Módulos y Librerías\n",
    "\n",
    "Un modulo en Python es un archivo que contiene funciones y varibles listas para usarse.\n",
    "Una libreria es un conjunto de modulos."
   ]
  },
  {
   "cell_type": "code",
   "execution_count": 1,
   "id": "0e25398e",
   "metadata": {},
   "outputs": [
    {
     "name": "stdout",
     "output_type": "stream",
     "text": [
      "5.0\n"
     ]
    }
   ],
   "source": [
    "import math\n",
    "print(math.sqrt(25))"
   ]
  },
  {
   "cell_type": "markdown",
   "id": "9e20d676",
   "metadata": {},
   "source": [
    "## Tipos de importación\n"
   ]
  },
  {
   "cell_type": "code",
   "execution_count": 2,
   "id": "1ebf613b",
   "metadata": {},
   "outputs": [
    {
     "name": "stdout",
     "output_type": "stream",
     "text": [
      "8\n"
     ]
    }
   ],
   "source": [
    "# Importar todo el módulo\n",
    "import random\n",
    "print(random.randint(1,10))"
   ]
  },
  {
   "cell_type": "code",
   "execution_count": 3,
   "id": "e76d13f3",
   "metadata": {},
   "outputs": [
    {
     "name": "stdout",
     "output_type": "stream",
     "text": [
      "5.0\n"
     ]
    }
   ],
   "source": [
    "# Importar solo una función\n",
    "\n",
    "from math import sqrt\n",
    "print(sqrt(25))"
   ]
  },
  {
   "cell_type": "code",
   "execution_count": 4,
   "id": "7999c9bc",
   "metadata": {},
   "outputs": [
    {
     "name": "stdout",
     "output_type": "stream",
     "text": [
      "2025-08-30 23:20:16.199182\n"
     ]
    }
   ],
   "source": [
    "# Importar con alias\n",
    "\n",
    "import datetime as dt \n",
    "print(dt.datetime.today())"
   ]
  },
  {
   "cell_type": "markdown",
   "id": "6eda0047",
   "metadata": {},
   "source": [
    "## Módulos más usados"
   ]
  },
  {
   "cell_type": "markdown",
   "id": "c7bdacd7",
   "metadata": {},
   "source": [
    "math -> funciones matemáticas"
   ]
  },
  {
   "cell_type": "code",
   "execution_count": 13,
   "id": "9ec2a30e",
   "metadata": {},
   "outputs": [
    {
     "name": "stdout",
     "output_type": "stream",
     "text": [
      "3.141592653589793\n",
      "120\n"
     ]
    }
   ],
   "source": [
    "import math\n",
    "print(math.pi)\n",
    "print(math.factorial(5))"
   ]
  },
  {
   "cell_type": "markdown",
   "id": "40c3f758",
   "metadata": {},
   "source": [
    "random -> valores aleatorios"
   ]
  },
  {
   "cell_type": "code",
   "execution_count": 14,
   "id": "6d53bca7",
   "metadata": {},
   "outputs": [
    {
     "name": "stdout",
     "output_type": "stream",
     "text": [
      "0.36718426449721775\n",
      "azul\n"
     ]
    }
   ],
   "source": [
    "import random\n",
    "print(random.random())\n",
    "print(random.choice([\"rojo\", \"azul\", \"verde\"]))"
   ]
  },
  {
   "cell_type": "markdown",
   "id": "7315195e",
   "metadata": {},
   "source": [
    "datetime -> fechas y horas"
   ]
  },
  {
   "cell_type": "code",
   "execution_count": 15,
   "id": "d7093270",
   "metadata": {},
   "outputs": [
    {
     "name": "stdout",
     "output_type": "stream",
     "text": [
      "2025-08-30\n"
     ]
    }
   ],
   "source": [
    "import datetime\n",
    "hoy = datetime.date.today()\n",
    "print(hoy)"
   ]
  },
  {
   "cell_type": "markdown",
   "id": "0d064bcb",
   "metadata": {},
   "source": [
    "os -> operaciones del sistema"
   ]
  },
  {
   "cell_type": "code",
   "execution_count": 16,
   "id": "4ef61d6e",
   "metadata": {},
   "outputs": [
    {
     "name": "stdout",
     "output_type": "stream",
     "text": [
      "c:\\Users\\LENOVO\\Desktop\\YO\\python\\Curso\\1. Fundamentos en python y matematicas básicas\n"
     ]
    }
   ],
   "source": [
    "import os\n",
    "print(os.getcwd())"
   ]
  },
  {
   "cell_type": "markdown",
   "id": "daa6d8d5",
   "metadata": {},
   "source": [
    "sys -> interaccion con el intérprete"
   ]
  },
  {
   "cell_type": "code",
   "execution_count": 17,
   "id": "065e9ebc",
   "metadata": {},
   "outputs": [
    {
     "name": "stdout",
     "output_type": "stream",
     "text": [
      "3.12.7 | packaged by Anaconda, Inc. | (main, Oct  4 2024, 13:17:27) [MSC v.1929 64 bit (AMD64)]\n"
     ]
    }
   ],
   "source": [
    "import sys\n",
    "print(sys.version)"
   ]
  },
  {
   "cell_type": "code",
   "execution_count": null,
   "id": "5464beb6",
   "metadata": {},
   "outputs": [],
   "source": []
  },
  {
   "cell_type": "markdown",
   "id": "588d6964",
   "metadata": {},
   "source": [
    "## Tarea"
   ]
  },
  {
   "cell_type": "markdown",
   "id": "9d353500",
   "metadata": {},
   "source": []
  }
 ],
 "metadata": {
  "kernelspec": {
   "display_name": "base",
   "language": "python",
   "name": "python3"
  },
  "language_info": {
   "codemirror_mode": {
    "name": "ipython",
    "version": 3
   },
   "file_extension": ".py",
   "mimetype": "text/x-python",
   "name": "python",
   "nbconvert_exporter": "python",
   "pygments_lexer": "ipython3",
   "version": "3.12.7"
  }
 },
 "nbformat": 4,
 "nbformat_minor": 5
}
