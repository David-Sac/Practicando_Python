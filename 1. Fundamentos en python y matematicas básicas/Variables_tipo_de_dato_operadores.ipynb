{
 "cells": [
  {
   "cell_type": "markdown",
   "id": "5fd441bf",
   "metadata": {},
   "source": [
    "# Variables, Tipos de datos y Operadores."
   ]
  },
  {
   "cell_type": "markdown",
   "id": "69a7a5ca",
   "metadata": {},
   "source": [
    "Una variables es un espacio en memoria donde guardamos un valor, en python no es necesario declarar que tipo de variable es."
   ]
  },
  {
   "cell_type": "code",
   "execution_count": 3,
   "id": "001bd37a",
   "metadata": {},
   "outputs": [
    {
     "name": "stdout",
     "output_type": "stream",
     "text": [
      "<class 'str'>\n",
      "<class 'int'>\n",
      "<class 'bool'>\n",
      "<class 'float'>\n"
     ]
    }
   ],
   "source": [
    "# Tipos de datos\n",
    "\n",
    "nombre = \"David\" #String\n",
    "edad = 24 #Int\n",
    "Estudiante = True #Booleano\n",
    "Estatura = 175.5 #Float\n",
    "\n",
    "print(type(nombre))\n",
    "print(type(edad))\n",
    "print(type(Estudiante))\n",
    "print(type(Estatura))"
   ]
  },
  {
   "cell_type": "markdown",
   "id": "d5d824d2",
   "metadata": {},
   "source": [
    "Operadores Logicos en Python:<br>\n",
    "\"+\" Suma <br>\n",
    "\"-\" Resta<br>\n",
    "\"*\" Multiplicacion<br>\n",
    "\"/\" Division<br>\n",
    "\"%\" Modulo (Devuelve el sobrante de una division)<br>\n",
    "\"**\" Potencia<br>\n",
    "\"//\" Division (solo muestra el entero)<br>\n",
    "<br>\n",
    "Relacionales:<br>\n",
    "\"<\" menor que <br>\n",
    "\">\" mayor que<br>\n",
    "\"==\" igual a<br>\n",
    "\"<=\" menor o igual a<br>\n",
    "\">=\" mayor o igual a<br>\n",
    "\"!=\" diferente a<br>\n",
    "<br>\n",
    "Lógicos:<br>\n",
    "\"and\" y<br>\n",
    "\"or\" o<br>\n",
    "\"not\" no<br>"
   ]
  },
  {
   "cell_type": "code",
   "execution_count": 4,
   "id": "c5ef509f",
   "metadata": {},
   "outputs": [
    {
     "name": "stdout",
     "output_type": "stream",
     "text": [
      "1.5\n",
      "1\n"
     ]
    }
   ],
   "source": [
    "print(3/2)\n",
    "print(3//2)"
   ]
  },
  {
   "cell_type": "markdown",
   "id": "005dbaff",
   "metadata": {},
   "source": [
    "TAREA\n",
    "1. Crea un programa que:\n",
    "<ul>\n",
    "    <li>Pida por input() tu nombre, edad y peso.</li>\n",
    "    <li>Muestre un mensaje como:</li>\n",
    "\"Hola David, tienes 24 años y pesas 88.0 kg.\"\n",
    "</ul>\n",
    "\n",
    "2. Haz una mini-calculadora:\n",
    "<ul>\n",
    "    <li>Pide dos números.</li>\n",
    "    <li>Muestra su suma, resta, multiplicación, división y potencia.</li>\n",
    "</ul>"
   ]
  },
  {
   "cell_type": "code",
   "execution_count": null,
   "id": "65ab85e6",
   "metadata": {},
   "outputs": [
    {
     "name": "stdout",
     "output_type": "stream",
     "text": [
      "Hola David, tienes 24 y pesas 86.\n"
     ]
    }
   ],
   "source": [
    "# 1. Programa que pida input() \n",
    "\n",
    "nombre = input(\"Ingrese nombre: \")\n",
    "edad = int(input(\"Ingrese edad: \"))\n",
    "peso = float(input(\"Ingrese su peso:\"))\n",
    "\n",
    "print(f\"Hola {nombre}, tienes {edad} y pesas {peso}.\")"
   ]
  },
  {
   "cell_type": "code",
   "execution_count": 9,
   "id": "2fc3abb1",
   "metadata": {},
   "outputs": [
    {
     "name": "stdout",
     "output_type": "stream",
     "text": [
      "Suma:  1.0\n",
      "Resta:  1.0\n",
      "Multiplicacion:  0.0\n",
      "No se puede dividir entre 0\n",
      "Potencia:  1.0\n"
     ]
    }
   ],
   "source": [
    "# 2, Mini calculadora\n",
    "\n",
    "n1 = float(input(\"Ingresa el primer número: \"))\n",
    "n2 = float(input(\"Ingresa el segundo número: \"))\n",
    "\n",
    "print(\"Suma: \", n1+n2)\n",
    "print(\"Resta: \", n1-n2)\n",
    "print(\"Multiplicacion: \", n1*n2)\n",
    "if n2==0:\n",
    "    print(\"No se puede dividir entre 0\")\n",
    "else: \n",
    "    print(\"Division: \", n1/n2)\n",
    "print(\"Potencia: \", n1**n2)"
   ]
  },
  {
   "cell_type": "markdown",
   "id": "d6e55d68",
   "metadata": {},
   "source": [
    "AUTOEVALUACION\n",
    "\n",
    "¿Qué diferencia hay entre = y == en Python?\n",
    "\n",
    "\"=\" asigna el valor a una variable, y \"==\" evalua su igualdad de datos\n",
    "\n",
    "¿Qué tipo de dato devuelve siempre input()?\n",
    "\n",
    "String\n",
    "\n",
    "¿Qué hace el operador //?\n",
    "\n",
    "Divide los numeros y devuelve su entero\n",
    "\n",
    "¿Qué devuelve la expresión 10 % 3?\n",
    "\n",
    "1\n",
    "\n",
    "Si x = 5, ¿qué resultado da x ** 2?\n",
    "\n",
    "25"
   ]
  },
  {
   "cell_type": "markdown",
   "id": "3a98656b",
   "metadata": {},
   "source": []
  }
 ],
 "metadata": {
  "kernelspec": {
   "display_name": "base",
   "language": "python",
   "name": "python3"
  },
  "language_info": {
   "codemirror_mode": {
    "name": "ipython",
    "version": 3
   },
   "file_extension": ".py",
   "mimetype": "text/x-python",
   "name": "python",
   "nbconvert_exporter": "python",
   "pygments_lexer": "ipython3",
   "version": "3.12.7"
  }
 },
 "nbformat": 4,
 "nbformat_minor": 5
}
