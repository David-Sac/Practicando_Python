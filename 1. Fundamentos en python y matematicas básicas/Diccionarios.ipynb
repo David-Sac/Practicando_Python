{
 "cells": [
  {
   "cell_type": "markdown",
   "id": "3f7e0937",
   "metadata": {},
   "source": [
    "# Diccionarios\n",
    "\n",
    "Un diccionario en Python es una coleccion de pares clave - valor.\n",
    "- Las claves son únicas.\n",
    "- Los valores pueden repetirse y ser de cualquier tipo."
   ]
  },
  {
   "cell_type": "code",
   "execution_count": 3,
   "id": "767eb659",
   "metadata": {},
   "outputs": [
    {
     "name": "stdout",
     "output_type": "stream",
     "text": [
      "David\n",
      "24\n",
      "{'nombre': 'David', 'edad': 25, 'estudiante': True, 'ciudad': 'Iquitos'}\n"
     ]
    }
   ],
   "source": [
    "persona = {\n",
    "    \"nombre\": \"David\",\n",
    "    \"edad\": 24,\n",
    "    \"peso\": 86.0,\n",
    "    \"estudiante\": True    \n",
    "}\n",
    "\n",
    "print(persona[\"nombre\"]) # David\n",
    "print(persona.get(\"edad\")) #24\n",
    "\n",
    "# Modifica un valor \n",
    "persona[\"edad\"] = 25\n",
    "\n",
    "#Agregar o eliminar\n",
    "persona[\"ciudad\"] = \"Iquitos\"\n",
    "persona.pop(\"peso\")\n",
    "\n",
    "print(persona)"
   ]
  },
  {
   "cell_type": "markdown",
   "id": "78b27434",
   "metadata": {},
   "source": [
    "## Métodos más usados en diccionarios:\n",
    "\n",
    "- .keys() -> devuelve todas las claves.\n",
    "- .values() -> devuelve todos los valores.\n",
    "- .items() -> devuelve todos los pares (clave - valor).\n",
    "- .get(clave, defecto) -> devuelve valor o defecto si no existe.\n",
    "- .update({clave: valor}) -> agrega o modifica claves.\n",
    "- .pop(clave) -> elimina un par.\n",
    "- .clear() -> borra todo el diccionario.\n",
    "- .copy() -> copia superficial"
   ]
  },
  {
   "cell_type": "code",
   "execution_count": 4,
   "id": "0d61fe12",
   "metadata": {},
   "outputs": [],
   "source": [
    "# 1. Crea un diccionario con nombre, edad y ciudad\n",
    "dicc = {\n",
    "    \"nombre\" : \"David\",\n",
    "    \"edad\": 24,\n",
    "    \"ciudad\": \"Iquitos\"\n",
    "}"
   ]
  },
  {
   "cell_type": "code",
   "execution_count": 5,
   "id": "80c48c4e",
   "metadata": {},
   "outputs": [
    {
     "name": "stdout",
     "output_type": "stream",
     "text": [
      "{'nombre': 'David', 'edad': 24, 'ciudad': 'Iquitos', 'profesion': 'Estudiante'}\n"
     ]
    }
   ],
   "source": [
    "# 2. Agrega una clave \"profesion\" y luego moficala.\n",
    "dicc[\"profesion\"] = \"Estudiante\"\n",
    "print(dicc)\n"
   ]
  },
  {
   "cell_type": "code",
   "execution_count": 6,
   "id": "0794e977",
   "metadata": {},
   "outputs": [
    {
     "name": "stdout",
     "output_type": "stream",
     "text": [
      "{'nombre': 'David', 'edad': 24, 'profesion': 'Estudiante'}\n"
     ]
    }
   ],
   "source": [
    "# 3. Elimina la clave \"ciudad\"\n",
    "\n",
    "dicc.pop(\"ciudad\")\n",
    "print(dicc)"
   ]
  },
  {
   "cell_type": "code",
   "execution_count": 18,
   "id": "8531bc3b",
   "metadata": {},
   "outputs": [
    {
     "name": "stdout",
     "output_type": "stream",
     "text": [
      "nombre : David\n",
      "edad : 24\n",
      "profesion : Estudiante\n"
     ]
    }
   ],
   "source": [
    "# 4. Recorre tu diccionario mostrando clave y valor con un for\n",
    "\n",
    "for clave, valor in dicc.items():\n",
    "    print(clave, \":\", valor)"
   ]
  },
  {
   "cell_type": "code",
   "execution_count": 19,
   "id": "e18be5bb",
   "metadata": {},
   "outputs": [
    {
     "name": "stdout",
     "output_type": "stream",
     "text": [
      "\n",
      "Alumnos aprobados:\n",
      "david con nota  12.0\n",
      "ximena con nota  20.0\n"
     ]
    }
   ],
   "source": [
    "# 5. Guarda la nota de 3 alumnos, nombre y nota\n",
    "\n",
    "alumnos = {}\n",
    "\n",
    "for i in range(3):\n",
    "    nombre = input(f\"Ingresa el nombre del alumno {i+1}\")\n",
    "    nota = float(input(f\"Ingresa la nota de {nombre}\"))\n",
    "    alumnos[nombre] = nota\n",
    "    \n",
    "print(\"\\nAlumnos aprobados:\")\n",
    "for nombre, nota in alumnos.items():\n",
    "    if nota >= 11:\n",
    "        print(nombre, \"con nota \", nota)"
   ]
  },
  {
   "cell_type": "code",
   "execution_count": null,
   "id": "397f2503",
   "metadata": {},
   "outputs": [],
   "source": []
  }
 ],
 "metadata": {
  "kernelspec": {
   "display_name": "base",
   "language": "python",
   "name": "python3"
  },
  "language_info": {
   "codemirror_mode": {
    "name": "ipython",
    "version": 3
   },
   "file_extension": ".py",
   "mimetype": "text/x-python",
   "name": "python",
   "nbconvert_exporter": "python",
   "pygments_lexer": "ipython3",
   "version": "3.12.7"
  }
 },
 "nbformat": 4,
 "nbformat_minor": 5
}
