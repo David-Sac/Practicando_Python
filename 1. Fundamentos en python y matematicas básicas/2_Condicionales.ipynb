{
 "cells": [
  {
   "cell_type": "markdown",
   "id": "fbf546ab",
   "metadata": {},
   "source": [
    "# Condicionales"
   ]
  },
  {
   "cell_type": "markdown",
   "id": "baa3d10e",
   "metadata": {},
   "source": [
    "Los condicionales permiten al programa tomar decisiones dependiendo las condiciones logicas (True or False)"
   ]
  },
  {
   "cell_type": "code",
   "execution_count": 2,
   "id": "0115b3bc",
   "metadata": {},
   "outputs": [
    {
     "name": "stdout",
     "output_type": "stream",
     "text": [
      "Si la condicion es verdadera se mostrara este mensaje\n"
     ]
    }
   ],
   "source": [
    "# Sintaxis básica\n",
    "condicion = 2\n",
    "if condicion ==2:\n",
    "    print(\"Si la condicion es verdadera se mostrara este mensaje\")\n",
    "elif condicion != 0:\n",
    "    print(\"Si no se cumple la condicion anterior se cumple esta otra condicion\")\n",
    "else:\n",
    "    print(\"Si la condicion es falsa se mostrara este mensaje\")"
   ]
  },
  {
   "cell_type": "code",
   "execution_count": 1,
   "id": "b756f8d8",
   "metadata": {},
   "outputs": [
    {
     "name": "stdout",
     "output_type": "stream",
     "text": [
      "Es mayor de edad\n"
     ]
    }
   ],
   "source": [
    "# Ejemplo\n",
    "edad = 21 \n",
    "if edad<18:\n",
    "    print(\"Es menor de edad\")\n",
    "else:\n",
    "    print(\"Es mayor de edad\")"
   ]
  },
  {
   "cell_type": "markdown",
   "id": "f57cbbf2",
   "metadata": {},
   "source": [
    "## Operadores en condicionales\n",
    "- Comparacion: ==, !=, <, >, <=, >=\n",
    "- Lógicos: and, or, not"
   ]
  },
  {
   "cell_type": "code",
   "execution_count": 1,
   "id": "b342e135",
   "metadata": {},
   "outputs": [
    {
     "name": "stdout",
     "output_type": "stream",
     "text": [
      "Acceso permitido\n"
     ]
    }
   ],
   "source": [
    "usuario = \"admin\"\n",
    "clave = \"1234\"\n",
    "\n",
    "if usuario == \"admin\" and clave == \"1234\":\n",
    "    print(\"Acceso permitido\")\n",
    "else:\n",
    "    print(\"Acceso denegado\")\n"
   ]
  },
  {
   "cell_type": "code",
   "execution_count": 3,
   "id": "798271e9",
   "metadata": {},
   "outputs": [
    {
     "name": "stdout",
     "output_type": "stream",
     "text": [
      "Mayor de edad\n"
     ]
    }
   ],
   "source": [
    "\n",
    "# atajo con condicional en una linea\n",
    "\n",
    "edad = 20\n",
    "mensaje = \"Mayor de edad\" if edad >= 18 else \"Menor de edad\"\n",
    "print(mensaje)"
   ]
  },
  {
   "cell_type": "markdown",
   "id": "1a981ee0",
   "metadata": {},
   "source": [
    "## Tarea "
   ]
  },
  {
   "cell_type": "code",
   "execution_count": null,
   "id": "034029c1",
   "metadata": {},
   "outputs": [
    {
     "name": "stdout",
     "output_type": "stream",
     "text": [
      "La nota no esta en el rango permitido (0 - 20).\n",
      "Ingrese nuevamente.\n",
      "La nota no esta en el rango permitido (0 - 20).\n",
      "Ingrese nuevamente.\n",
      "La nota no esta en el rango permitido (0 - 20).\n",
      "Ingrese nuevamente.\n",
      "La nota no esta en el rango permitido (0 - 20).\n",
      "Ingrese nuevamente.\n",
      "Valor invalido\n",
      "Aprobado\n"
     ]
    }
   ],
   "source": [
    "# 1. Crea programa que reciba una nota\n",
    "while True:\n",
    "    try:\n",
    "        nota = float(input(\"Ingrese nota: \"))\n",
    "        if 0<=nota<=20:\n",
    "            if nota>=18:\n",
    "                print(\"Excelente\")\n",
    "            elif nota>=11:\n",
    "                print(\"Aprobado\")\n",
    "            else:\n",
    "                print(\"Desaprobado\")\n",
    "            break\n",
    "        else:\n",
    "            print(\"La nota no esta en el rango permitido (0 - 20).\")\n",
    "            print(\"Ingrese nuevamente.\")\n",
    "            continue\n",
    "    except ValueError:\n",
    "        print(\"Valor invalido\")\n",
    "        print(\"Ingrese nuevamente\")\n",
    "        continue"
   ]
  },
  {
   "cell_type": "code",
   "execution_count": 6,
   "id": "bcf96c1b",
   "metadata": {},
   "outputs": [
    {
     "name": "stdout",
     "output_type": "stream",
     "text": [
      "Ingrese un valor valido.\n",
      "Menor de edad\n"
     ]
    }
   ],
   "source": [
    "# 2. Crea un programa que pida la edad de una persona\n",
    "while True:\n",
    "    try:\n",
    "        edad = int(input(\"Ingrese su edad: \"))\n",
    "        if edad>0:\n",
    "            if edad<18:\n",
    "                print(\"Menor de edad\")\n",
    "            elif 18<=edad<=60:\n",
    "                print(\"Adulto\")\n",
    "            else:\n",
    "                print(\"Adulto mayor\")\n",
    "            break\n",
    "        else:\n",
    "            print(\"Ingrese un valor valido.\")\n",
    "            continue\n",
    "    except ValueError:\n",
    "        print(\"Valor invalido.\")\n",
    "        print(\"Ingrese nuevamente.\")\n",
    "        continue"
   ]
  },
  {
   "cell_type": "code",
   "execution_count": 7,
   "id": "bec9c865",
   "metadata": {},
   "outputs": [
    {
     "name": "stdout",
     "output_type": "stream",
     "text": [
      "==========  CAJERO ELECTRONICO  **********\n",
      "Su sueldo actual: 1000\n",
      "El valor debe ser valido.\n",
      "Intente nuevamente.\n",
      "==========  CAJERO ELECTRONICO  **********\n",
      "Su sueldo actual: 1000\n",
      "El valor de retiro es mayor al saldo actual\n",
      "Ingrese nuevamente\n",
      "==========  CAJERO ELECTRONICO  **********\n",
      "Su sueldo actual: 1000\n",
      "El valor de retiro es mayor al saldo actual\n",
      "Ingrese nuevamente\n",
      "==========  CAJERO ELECTRONICO  **********\n",
      "Su sueldo actual: 1000\n",
      "Saldo actual: 600.0\n"
     ]
    }
   ],
   "source": [
    "# 3. simyle un cajero pide un monto a retirar y valida si hay sufficiente saldo\n",
    "saldo = 1000\n",
    "while True:\n",
    "    print(\"=\"*10, \" CAJERO ELECTRONICO \", \"*\"*10)\n",
    "    print(f\"Su sueldo actual: {saldo}\")\n",
    "    try:\n",
    "        retiro = float(input(\"Ingrese el monto a retirar: \"))\n",
    "        if retiro>0:\n",
    "            if retiro<=saldo:\n",
    "                saldo-=retiro\n",
    "                print(f\"Saldo actual: {saldo}\")\n",
    "            else:\n",
    "                print(\"El valor de retiro es mayor al saldo actual\")\n",
    "                print(\"Ingrese nuevamente\")\n",
    "                continue\n",
    "        else:\n",
    "            print(\"El valor debe ser valido.\")\n",
    "            print(\"Intente nuevamente.\")\n",
    "            continue\n",
    "    except ValueError:\n",
    "        print(\"Valor inválido ingrese nuevamente.\")\n",
    "        continue\n",
    "    break"
   ]
  },
  {
   "cell_type": "code",
   "execution_count": 9,
   "id": "4842d2e8",
   "metadata": {},
   "outputs": [
    {
     "name": "stdout",
     "output_type": "stream",
     "text": [
      "Numero impar\n"
     ]
    }
   ],
   "source": [
    "while True:\n",
    "    try:\n",
    "        num = int(input(\"Ingrese numero: \"))\n",
    "        if num != 0:\n",
    "            if num%2 == 1 or num%2 == -1:\n",
    "                print(\"Numero impar\")\n",
    "            else:\n",
    "                print(\"Numero par\")\n",
    "        else:\n",
    "            print(\"No ingresar 0.\")\n",
    "            print(\"Intente nuevamente.\")\n",
    "            continue\n",
    "    except ValueError:\n",
    "        print(\"Error de valor .\")\n",
    "        print(\"Ingrese nuevamente.\")\n",
    "        continue\n",
    "\n",
    "    break"
   ]
  },
  {
   "cell_type": "code",
   "execution_count": null,
   "id": "c16fc141",
   "metadata": {},
   "outputs": [
    {
     "data": {
      "text/plain": [
       "'Desaprobado'"
      ]
     },
     "execution_count": 10,
     "metadata": {},
     "output_type": "execute_result"
    }
   ],
   "source": [
    "nota = 23\n",
    "print(\"Aprobado\") if 11<= nota else \"Desaprobado\""
   ]
  },
  {
   "cell_type": "code",
   "execution_count": null,
   "id": "fabbc41a",
   "metadata": {},
   "outputs": [],
   "source": []
  }
 ],
 "metadata": {
  "kernelspec": {
   "display_name": "base",
   "language": "python",
   "name": "python3"
  },
  "language_info": {
   "codemirror_mode": {
    "name": "ipython",
    "version": 3
   },
   "file_extension": ".py",
   "mimetype": "text/x-python",
   "name": "python",
   "nbconvert_exporter": "python",
   "pygments_lexer": "ipython3",
   "version": "3.12.7"
  }
 },
 "nbformat": 4,
 "nbformat_minor": 5
}
