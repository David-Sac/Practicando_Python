{
 "cells": [
  {
   "cell_type": "markdown",
   "id": "b9d3447b",
   "metadata": {},
   "source": [
    "# POO Avanzado\n",
    "\n",
    "## Herencia\n",
    "\n",
    "La herencia permite que una clase hija (subclase) use y extienda atributos y métodos de una clase padre (superclase)\n",
    "\n",
    "Ejemplo"
   ]
  },
  {
   "cell_type": "code",
   "execution_count": 6,
   "id": "6b3373ff",
   "metadata": {},
   "outputs": [
    {
     "name": "stdout",
     "output_type": "stream",
     "text": [
      "Firulais\n",
      "Guau\n"
     ]
    }
   ],
   "source": [
    "# Clase padre:\n",
    "\n",
    "class Animal:\n",
    "    def __init__(self, nombre):\n",
    "        self.nombre = nombre\n",
    "        \n",
    "    def hacer_sonido(self):\n",
    "        return \"Hace sonido\"\n",
    "    \n",
    "# Clase hija:\n",
    "class Perro(Animal):\n",
    "    def hacer_sonido(self):\n",
    "        return \"Guau\"\n",
    "    \n",
    "p = Perro(\"Firulais\")\n",
    "\n",
    "print(p.nombre)\n",
    "print(p.hacer_sonido())"
   ]
  },
  {
   "cell_type": "markdown",
   "id": "c1b30851",
   "metadata": {},
   "source": [
    "## Polimorfismo\n",
    "\n",
    "El polimorfismo significa que distintas clases pueden usar un mismo método pero con comportamientos diferentes"
   ]
  },
  {
   "cell_type": "code",
   "execution_count": 7,
   "id": "9a2c39f0",
   "metadata": {},
   "outputs": [
    {
     "name": "stdout",
     "output_type": "stream",
     "text": [
      "Firulais dice Guau\n",
      "Michi dice Miau\n"
     ]
    }
   ],
   "source": [
    "class Gato(Animal):\n",
    "    def hacer_sonido(self):\n",
    "        return \"Miau\"\n",
    "    \n",
    "animales = [Perro(\"Firulais\"), Gato(\"Michi\")]\n",
    "\n",
    "for animal in animales:\n",
    "    print(f\"{animal.nombre} dice {animal.hacer_sonido()}\")"
   ]
  },
  {
   "cell_type": "markdown",
   "id": "dcf66f5d",
   "metadata": {},
   "source": [
    " ## Encapsulamiento\n",
    "\n",
    " Controla el acceso a los atributos y métodos:\n",
    "- Públicos: se acceden libremente (self.nombre).\n",
    "- Protegidos: se marcan con _ (convencion, no bloquea).\n",
    "- Privados: se marcan con __ (Python hace name mangling)\n",
    "\n"
   ]
  },
  {
   "cell_type": "code",
   "execution_count": 12,
   "id": "08253135",
   "metadata": {},
   "outputs": [
    {
     "name": "stdout",
     "output_type": "stream",
     "text": [
      "Saldo de David: 500\n",
      "500\n"
     ]
    }
   ],
   "source": [
    "class Cuenta:\n",
    "    def __init__(self, titular, saldo):\n",
    "        self.titular = titular\n",
    "        self._saldo = saldo\n",
    "        self.__pin = 1234\n",
    "        \n",
    "    def mostrar_saldo(self):\n",
    "        return f\"Saldo de {self.titular}: {self._saldo}\"\n",
    "    \n",
    "c = Cuenta(\"David\", 500)\n",
    "print(c.mostrar_saldo())\n",
    "print(c._saldo)\n",
    "# print(c.__pin)"
   ]
  },
  {
   "cell_type": "code",
   "execution_count": 13,
   "id": "b08b6251",
   "metadata": {},
   "outputs": [
    {
     "name": "stdout",
     "output_type": "stream",
     "text": [
      "David, 24 años, estudia Ingenieria de Sistemas\n"
     ]
    }
   ],
   "source": [
    "# Ejercicio guiado\n",
    "\n",
    "class Persona:\n",
    "    def __init__(self, nombre, edad):\n",
    "        self.nombre = nombre\n",
    "        self.edad = edad\n",
    "\n",
    "    def info(self):\n",
    "        return f\"{self.nombre}, {self.edad} años\"\n",
    "    \n",
    "# Clase hija\n",
    "\n",
    "class Estudiante(Persona):\n",
    "    def __init__(self, nombre , edad, carrera):\n",
    "        super().__init__(nombre, edad)\n",
    "        self.carrera = carrera\n",
    "    \n",
    "    def info(self):\n",
    "        return f\"{self.nombre}, {self.edad} años, estudia {self.carrera}\"\n",
    "    \n",
    "e = Estudiante(\"David\", 24, \"Ingenieria de Sistemas\")\n",
    "\n",
    "print(e.info())"
   ]
  },
  {
   "cell_type": "markdown",
   "id": "37c70407",
   "metadata": {},
   "source": [
    "## Tarea"
   ]
  },
  {
   "cell_type": "code",
   "execution_count": 14,
   "id": "ba71aedb",
   "metadata": {},
   "outputs": [
    {
     "name": "stdout",
     "output_type": "stream",
     "text": [
      "David, salario: 1250, departamento: Reparación\n"
     ]
    }
   ],
   "source": [
    "# 1. crea una clase Empleado con atributos nombre y salario\n",
    "# Luego crea una clase Gerente que herede de Empleado y agregue departamento\n",
    "\n",
    "class Empleado:\n",
    "    def __init__(self, nombre, salario):\n",
    "        self.nombre = nombre\n",
    "        self.salario = salario\n",
    "    \n",
    "    def info(self):\n",
    "        return f\"{self.nombre}, salario: {self.salario}\"\n",
    "        \n",
    "class Gerente(Empleado):\n",
    "    def __init__(self, nombre, salario, departamento):\n",
    "        super().__init__(nombre, salario)\n",
    "        self.departamento = departamento\n",
    "        \n",
    "    def info(self):\n",
    "        return f\"{self.nombre}, salario: {self.salario}, departamento: {self.departamento}\"\n",
    "    \n",
    "a = Gerente(\"David\", 1250, \"Reparación\")\n",
    "print(a.info())\n",
    "        "
   ]
  },
  {
   "cell_type": "code",
   "execution_count": 16,
   "id": "f0d2f402",
   "metadata": {},
   "outputs": [
    {
     "name": "stdout",
     "output_type": "stream",
     "text": [
      "25\n",
      "50.26548245743669\n"
     ]
    }
   ],
   "source": [
    "# 2. Crea una clase Figura con un método area()\n",
    "# Luego crea clases Cuadrado y Circulo que sobreescriban ese método para calcular sus areas\n",
    "import math\n",
    "class Figura:\n",
    "    def area(self):\n",
    "        pass\n",
    "    \n",
    "class Cuadrado(Figura):\n",
    "    def __init__(self, lado):\n",
    "        self.lado = lado\n",
    "        \n",
    "    def area(self):\n",
    "        return self.lado**2\n",
    "\n",
    "class Circulo(Figura):\n",
    "    def __init__(self, radio):\n",
    "        self.radio = radio\n",
    "        \n",
    "    def area(self):\n",
    "        return math.pi*(self.radio**2)\n",
    "    \n",
    "mi_cuadrado = Cuadrado(5)\n",
    "mi_circulo = Circulo(4)\n",
    "\n",
    "print(mi_cuadrado.area())\n",
    "print(mi_circulo.area())"
   ]
  },
  {
   "cell_type": "code",
   "execution_count": 2,
   "id": "54895b37",
   "metadata": {},
   "outputs": [
    {
     "data": {
      "text/plain": [
       "'Su saldo actualmente: 273.0'"
      ]
     },
     "execution_count": 2,
     "metadata": {},
     "output_type": "execute_result"
    }
   ],
   "source": [
    "# 3. Crea una clase CuentaSegura con atributo privado __saldo.\n",
    "# Implementa métodos depositar() y consultar_saldo()\n",
    "# Verifica que el saldo no pueda ser accedido directamente desde fuera de la clase\n",
    "\n",
    "class CuentaSegura:\n",
    "    def __init__(self, nombre, saldo):\n",
    "        self.nombre = nombre\n",
    "        self.__saldo = saldo\n",
    "    \n",
    "    def depositar(self):\n",
    "        try:\n",
    "            n = float(input(\"Ingrese la cantidad a depositar: \"))\n",
    "\n",
    "            if n>=0:\n",
    "                self.__saldo += n\n",
    "                return f\"Su saldo actualmente: {self.__saldo}\"\n",
    "            else:\n",
    "                return \"La cantidad a depositar debe ser positiva\"\n",
    "        except ValueError:\n",
    "            return \"Intente Nuevamente\"\n",
    "            \n",
    "    def consultar_saldo(self):\n",
    "        return f\"Saldo actual: {self.__saldo}\"\n",
    "a = CuentaSegura(\"David\", 150)\n",
    "\n",
    "#a.depositar()\n",
    "a.consultar_saldo()\n",
    "a.depositar()\n",
    "\n",
    "#print(a.__saldo)"
   ]
  },
  {
   "cell_type": "code",
   "execution_count": 1,
   "id": "e2087477",
   "metadata": {},
   "outputs": [
    {
     "name": "stdout",
     "output_type": "stream",
     "text": [
      "Guau!\n",
      "Miau!\n"
     ]
    }
   ],
   "source": [
    "# Escribe una clase Animal con método hacer_sonido(), y dos clases Perro y Gato que lo sobrescriban con \"Guau!\" y \"Miaun!\" respectivamente\n",
    "\n",
    "class Animal:\n",
    "    def hacer_sonido(self):\n",
    "        return \"Hace sonido\"\n",
    "    \n",
    "    \n",
    "class Perro(Animal):\n",
    "    def hacer_sonido(self):\n",
    "        return \"Guau!\"\n",
    "class Gato(Animal):\n",
    "    def hacer_sonido(self):\n",
    "        return \"Miau!\"\n",
    "\n",
    "p = Perro()\n",
    "g = Gato()\n",
    "\n",
    "print(p.hacer_sonido())\n",
    "print(g.hacer_sonido())"
   ]
  },
  {
   "cell_type": "code",
   "execution_count": null,
   "id": "bb2a1746",
   "metadata": {},
   "outputs": [],
   "source": []
  }
 ],
 "metadata": {
  "kernelspec": {
   "display_name": "base",
   "language": "python",
   "name": "python3"
  },
  "language_info": {
   "codemirror_mode": {
    "name": "ipython",
    "version": 3
   },
   "file_extension": ".py",
   "mimetype": "text/x-python",
   "name": "python",
   "nbconvert_exporter": "python",
   "pygments_lexer": "ipython3",
   "version": "3.12.7"
  }
 },
 "nbformat": 4,
 "nbformat_minor": 5
}
