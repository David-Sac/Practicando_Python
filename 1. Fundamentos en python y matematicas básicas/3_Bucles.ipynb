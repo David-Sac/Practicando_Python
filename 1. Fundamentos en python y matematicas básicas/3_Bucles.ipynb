{
 "cells": [
  {
   "cell_type": "markdown",
   "id": "7211f060",
   "metadata": {},
   "source": [
    "# Bucles"
   ]
  },
  {
   "cell_type": "markdown",
   "id": "1376334c",
   "metadata": {},
   "source": [
    "Los bucles permiten repetir el codigo varias veces sin necesidad de escribirlo de nuevo"
   ]
  },
  {
   "cell_type": "code",
   "execution_count": 1,
   "id": "3154dd5b",
   "metadata": {},
   "outputs": [
    {
     "name": "stdout",
     "output_type": "stream",
     "text": [
      "Hello World\n",
      "Hello World\n",
      "Hello World\n",
      "Hello World\n",
      "Hello World\n"
     ]
    }
   ],
   "source": [
    "# BUCLE WHILE\n",
    "\n",
    "x = 1\n",
    "while x <= 5:\n",
    "    print(\"Hello World\")\n",
    "    x += 1\n"
   ]
  },
  {
   "cell_type": "code",
   "execution_count": 3,
   "id": "f5ff2000",
   "metadata": {},
   "outputs": [
    {
     "name": "stdout",
     "output_type": "stream",
     "text": [
      "1  es un numero impar\n",
      "3  es un numero impar\n",
      "5  es un numero impar\n",
      "7  es un numero impar\n",
      "9  es un numero impar\n",
      "11  es un numero impar\n",
      "13  es un numero impar\n",
      "15  es un numero impar\n",
      "17  es un numero impar\n",
      "19  es un numero impar\n"
     ]
    }
   ],
   "source": [
    "# BUCLE FOR\n",
    "\n",
    "for i in range (1, 20):\n",
    "    if i % 2 == 1:\n",
    "        print(i,\" es un numero impar\")\n",
    "    "
   ]
  },
  {
   "cell_type": "code",
   "execution_count": 7,
   "id": "2f2a855f",
   "metadata": {},
   "outputs": [
    {
     "name": "stdout",
     "output_type": "stream",
     "text": [
      "Me gusta la  Manzana\n",
      "Me gusta la  Pera\n"
     ]
    }
   ],
   "source": [
    "# Ejemplo\n",
    "\n",
    "frutas = [\"Manzana\", \"Pera\"]\n",
    "\n",
    "for fruta in frutas:\n",
    "    print(\"Me gusta la \", fruta)"
   ]
  },
  {
   "cell_type": "code",
   "execution_count": 10,
   "id": "aeb14d84",
   "metadata": {},
   "outputs": [
    {
     "name": "stdout",
     "output_type": "stream",
     "text": [
      "1\n",
      "2\n",
      "3\n",
      "4\n",
      "5\n",
      "6\n",
      "7\n",
      "8\n",
      "9\n",
      "10\n"
     ]
    }
   ],
   "source": [
    "# Muestra del 1 al 10 usando while\n",
    "\n",
    "x = 1\n",
    "while x <= 10:\n",
    "    print(x)\n",
    "    x += 1"
   ]
  },
  {
   "cell_type": "code",
   "execution_count": 14,
   "id": "fb8d67dc",
   "metadata": {},
   "outputs": [
    {
     "name": "stdout",
     "output_type": "stream",
     "text": [
      "2\n",
      "4\n",
      "6\n",
      "8\n",
      "10\n",
      "12\n",
      "14\n",
      "16\n",
      "18\n",
      "20\n"
     ]
    }
   ],
   "source": [
    "# Numeros pares del 2 al 20 \n",
    "x = 1 \n",
    "while x <= 20:\n",
    "    if x % 2 == 0:\n",
    "        print(x)\n",
    "    x += 1"
   ]
  },
  {
   "cell_type": "code",
   "execution_count": 23,
   "id": "2effdde9",
   "metadata": {},
   "outputs": [
    {
     "name": "stdout",
     "output_type": "stream",
     "text": [
      "5\n",
      "10\n",
      "15\n",
      "20\n",
      "25\n",
      "30\n",
      "35\n",
      "40\n",
      "45\n",
      "50\n"
     ]
    }
   ],
   "source": [
    "# Pedir al usuario el numero \n",
    "\n",
    "while True:\n",
    "    try:\n",
    "        n = int(input(\"Ingrese un numero: \"))\n",
    "        for i in range(1, 11):\n",
    "            print(n*i)\n",
    "        break\n",
    "    except ValueError:\n",
    "        print(\"El valor usado no es permitido, ingrese nuevamente:\")\n",
    "        "
   ]
  },
  {
   "cell_type": "code",
   "execution_count": 1,
   "id": "9bcd702f",
   "metadata": {},
   "outputs": [
    {
     "name": "stdout",
     "output_type": "stream",
     "text": [
      "          *\n",
      "         ***\n",
      "        *****\n",
      "       *******\n",
      "      *********\n",
      "     ***********\n",
      "    *************\n",
      "   ***************\n",
      "  *****************\n",
      " *******************\n"
     ]
    }
   ],
   "source": [
    "num = int(input(\"Ingrese un número: \"))\n",
    "for i in range(1, num+1):\n",
    "        print((\" \"*(num-i)), \"*\"*(2*i-1))"
   ]
  },
  {
   "cell_type": "code",
   "execution_count": 3,
   "id": "10f2cadf",
   "metadata": {},
   "outputs": [
    {
     "name": "stdout",
     "output_type": "stream",
     "text": [
      "    *\n",
      "   ***\n",
      "  *****\n",
      " *******\n"
     ]
    }
   ],
   "source": [
    "while True:    \n",
    "    try:\n",
    "        num = int(input(\"Ingresa un número: \"))\n",
    "        for i in range(1, num+1):\n",
    "            print((\" \"*(num-i)), \"*\"*(2*i-1))\n",
    "        resp = input(\"Desea volver a probar, (Si)(No): \")\n",
    "        if resp == \"No\" or \"no\":\n",
    "            break\n",
    "    except ValueError:\n",
    "        print(\"ERROR - Ingresa nuevamente\")"
   ]
  },
  {
   "cell_type": "code",
   "execution_count": 6,
   "id": "3b28b6e8",
   "metadata": {},
   "outputs": [
    {
     "name": "stdout",
     "output_type": "stream",
     "text": [
      "CONTRASEÑA INCORRECTA\n",
      "CONTRASEÑA INCORRECTA\n",
      "CONTRASEÑA INCORRECTA\n"
     ]
    }
   ],
   "source": [
    "# Contraseña\n",
    "intentos = 0\n",
    "contraseña = \"123\"\n",
    "\n",
    "while intentos<3:\n",
    "    clave = input(\"Ingrese la clave\")\n",
    "    if clave == contraseña:\n",
    "        print(\"Acceso permitido\")\n",
    "        break\n",
    "    else:\n",
    "        intentos+=1\n",
    "        print(\"CONTRASEÑA INCORRECTA\")"
   ]
  },
  {
   "cell_type": "markdown",
   "id": "884e036a",
   "metadata": {},
   "source": [
    "## Control de bucles: break y continue\n",
    "- break -> rompe el bucle y sale\n",
    "- continue -> salta a la siguiente iteracion"
   ]
  },
  {
   "cell_type": "code",
   "execution_count": 7,
   "id": "454b6304",
   "metadata": {},
   "outputs": [
    {
     "name": "stdout",
     "output_type": "stream",
     "text": [
      "1\n",
      "2\n",
      "4\n"
     ]
    }
   ],
   "source": [
    "for num in range(1, 6):\n",
    "    if num == 3:\n",
    "        continue # salta el 3\n",
    "    if num == 5:\n",
    "        break # se detiene en el 5\n",
    "    \n",
    "    print(num)"
   ]
  },
  {
   "cell_type": "code",
   "execution_count": 8,
   "id": "aea74f1f",
   "metadata": {},
   "outputs": [
    {
     "name": "stdout",
     "output_type": "stream",
     "text": [
      "\n",
      "=== CAJERO AUTOMÁTICO ===\n",
      "1. Consultar saldo\n",
      "2. Depositar dinero\n",
      "3. Retirar dinero\n",
      "4. Salir\n",
      "Su saldo actual es: 1000\n",
      "\n",
      "=== CAJERO AUTOMÁTICO ===\n",
      "1. Consultar saldo\n",
      "2. Depositar dinero\n",
      "3. Retirar dinero\n",
      "4. Salir\n",
      "Depósito exitoso. Saldo actual: 1123.0\n",
      "\n",
      "=== CAJERO AUTOMÁTICO ===\n",
      "1. Consultar saldo\n",
      "2. Depositar dinero\n",
      "3. Retirar dinero\n",
      "4. Salir\n",
      "Su saldo actual es: 1123.0\n",
      "\n",
      "=== CAJERO AUTOMÁTICO ===\n",
      "1. Consultar saldo\n",
      "2. Depositar dinero\n",
      "3. Retirar dinero\n",
      "4. Salir\n",
      "Retiro exitoso. Saldo actual: 1120.0\n",
      "\n",
      "=== CAJERO AUTOMÁTICO ===\n",
      "1. Consultar saldo\n",
      "2. Depositar dinero\n",
      "3. Retirar dinero\n",
      "4. Salir\n",
      "Opción inválida, intente nuevamente.\n",
      "\n",
      "=== CAJERO AUTOMÁTICO ===\n",
      "1. Consultar saldo\n",
      "2. Depositar dinero\n",
      "3. Retirar dinero\n",
      "4. Salir\n",
      "Retiro exitoso. Saldo actual: 1116.0\n",
      "\n",
      "=== CAJERO AUTOMÁTICO ===\n",
      "1. Consultar saldo\n",
      "2. Depositar dinero\n",
      "3. Retirar dinero\n",
      "4. Salir\n",
      "Gracias por usar el cajero.\n"
     ]
    }
   ],
   "source": [
    "saldo = 1000\n",
    "\n",
    "while True:\n",
    "    print(\"\\n=== CAJERO AUTOMÁTICO ===\")\n",
    "    print(\"1. Consultar saldo\")\n",
    "    print(\"2. Depositar dinero\")\n",
    "    print(\"3. Retirar dinero\")\n",
    "    print(\"4. Salir\")\n",
    "    \n",
    "    opcion = input(\"Seleccione una opción: \")\n",
    "    \n",
    "    if opcion == \"1\":\n",
    "        print(\"Su saldo actual es:\", saldo)\n",
    "    elif opcion == \"2\":\n",
    "        deposito = float(input(\"Ingrese monto a depositar: \"))\n",
    "        saldo += deposito\n",
    "        print(\"Depósito exitoso. Saldo actual:\", saldo)\n",
    "    elif opcion == \"3\":\n",
    "        retiro = float(input(\"Ingrese monto a retirar: \"))\n",
    "        if retiro <= saldo:\n",
    "            saldo -= retiro\n",
    "            print(\"Retiro exitoso. Saldo actual:\", saldo)\n",
    "        else:\n",
    "            print(\"Fondos insuficientes.\")\n",
    "    elif opcion == \"4\":\n",
    "        print(\"Gracias por usar el cajero.\")\n",
    "        break\n",
    "    else:\n",
    "        print(\"Opción inválida, intente nuevamente.\")\n"
   ]
  },
  {
   "cell_type": "code",
   "execution_count": 10,
   "id": "f755f8e5",
   "metadata": {},
   "outputs": [
    {
     "name": "stdout",
     "output_type": "stream",
     "text": [
      "1\n",
      "2\n",
      "3\n",
      "4\n",
      "5\n",
      "6\n",
      "7\n",
      "8\n",
      "9\n",
      "10\n",
      "11\n",
      "12\n",
      "13\n",
      "14\n",
      "15\n",
      "16\n",
      "17\n",
      "18\n",
      "19\n",
      "20\n"
     ]
    }
   ],
   "source": [
    "# 1. usa un for para mostrar los numeros del 1 al 20\n",
    "\n",
    "for i in range(1,21):\n",
    "    print(i)"
   ]
  },
  {
   "cell_type": "code",
   "execution_count": 11,
   "id": "8a409caf",
   "metadata": {},
   "outputs": [
    {
     "name": "stdout",
     "output_type": "stream",
     "text": [
      "Acceso invalido\n",
      "Acceso invalido\n",
      "Acceso invalido\n"
     ]
    }
   ],
   "source": [
    "# 2. usa un while para pedir contraseñas\n",
    "\n",
    "contraseña = \"python123\"\n",
    "intentos = 0\n",
    "\n",
    "while intentos<3:\n",
    "    clave = input(\"Ingrese contraseña\")\n",
    "    if contraseña == clave:\n",
    "        print(\"Acceso Valido\")\n",
    "    else:\n",
    "        print(\"Acceso invalido\")\n",
    "        intentos+=1"
   ]
  },
  {
   "cell_type": "code",
   "execution_count": 13,
   "id": "ecb66962",
   "metadata": {},
   "outputs": [
    {
     "name": "stdout",
     "output_type": "stream",
     "text": [
      "Total: 650\n"
     ]
    }
   ],
   "source": [
    "# 3. crea un prigrama que sume los numeros pares del 1 al 50 usando for\n",
    "total = 0\n",
    "for i in range(1,51):\n",
    "    if i%2==0:\n",
    "        total += i\n",
    "print(f\"Total: {total}\")"
   ]
  },
  {
   "cell_type": "code",
   "execution_count": null,
   "id": "958dfb9f",
   "metadata": {},
   "outputs": [
    {
     "name": "stdout",
     "output_type": "stream",
     "text": [
      "\n",
      "=== CAJERO AUTOMÁTICO ===\n",
      "1. Consultar saldo\n",
      "2. Depositar dinero\n",
      "3. Retirar dinero\n",
      "4. Ver historial de deposito transacciones\n",
      "5. Salir\n",
      "Depósito exitoso. Saldo actual: 1123.0\n",
      "\n",
      "=== CAJERO AUTOMÁTICO ===\n",
      "1. Consultar saldo\n",
      "2. Depositar dinero\n",
      "3. Retirar dinero\n",
      "4. Ver historial de deposito transacciones\n",
      "5. Salir\n",
      "123.0\n",
      "\n",
      "=== CAJERO AUTOMÁTICO ===\n",
      "1. Consultar saldo\n",
      "2. Depositar dinero\n",
      "3. Retirar dinero\n",
      "4. Ver historial de deposito transacciones\n",
      "5. Salir\n",
      "123.0\n",
      "\n",
      "=== CAJERO AUTOMÁTICO ===\n",
      "1. Consultar saldo\n",
      "2. Depositar dinero\n",
      "3. Retirar dinero\n",
      "4. Ver historial de deposito transacciones\n",
      "5. Salir\n",
      "Opción inválida, intente nuevamente.\n",
      "\n",
      "=== CAJERO AUTOMÁTICO ===\n",
      "1. Consultar saldo\n",
      "2. Depositar dinero\n",
      "3. Retirar dinero\n",
      "4. Ver historial de deposito transacciones\n",
      "5. Salir\n",
      "Opción inválida, intente nuevamente.\n",
      "\n",
      "=== CAJERO AUTOMÁTICO ===\n",
      "1. Consultar saldo\n",
      "2. Depositar dinero\n",
      "3. Retirar dinero\n",
      "4. Ver historial de deposito transacciones\n",
      "5. Salir\n",
      "Opción inválida, intente nuevamente.\n",
      "\n",
      "=== CAJERO AUTOMÁTICO ===\n",
      "1. Consultar saldo\n",
      "2. Depositar dinero\n",
      "3. Retirar dinero\n",
      "4. Ver historial de deposito transacciones\n",
      "5. Salir\n",
      "Opción inválida, intente nuevamente.\n",
      "\n",
      "=== CAJERO AUTOMÁTICO ===\n",
      "1. Consultar saldo\n",
      "2. Depositar dinero\n",
      "3. Retirar dinero\n",
      "4. Ver historial de deposito transacciones\n",
      "5. Salir\n"
     ]
    },
    {
     "ename": "KeyboardInterrupt",
     "evalue": "Interrupted by user",
     "output_type": "error",
     "traceback": [
      "\u001b[1;31m---------------------------------------------------------------------------\u001b[0m",
      "\u001b[1;31mKeyboardInterrupt\u001b[0m                         Traceback (most recent call last)",
      "Cell \u001b[1;32mIn[16], line 14\u001b[0m\n\u001b[0;32m     11\u001b[0m \u001b[38;5;28mprint\u001b[39m(\u001b[38;5;124m\"\u001b[39m\u001b[38;5;124m4. Ver historial de deposito transacciones\u001b[39m\u001b[38;5;124m\"\u001b[39m)\n\u001b[0;32m     12\u001b[0m \u001b[38;5;28mprint\u001b[39m(\u001b[38;5;124m\"\u001b[39m\u001b[38;5;124m5. Salir\u001b[39m\u001b[38;5;124m\"\u001b[39m)\n\u001b[1;32m---> 14\u001b[0m opcion \u001b[38;5;241m=\u001b[39m \u001b[38;5;28minput\u001b[39m(\u001b[38;5;124m\"\u001b[39m\u001b[38;5;124mSeleccione una opción: \u001b[39m\u001b[38;5;124m\"\u001b[39m)\n\u001b[0;32m     16\u001b[0m \u001b[38;5;28;01mif\u001b[39;00m opcion \u001b[38;5;241m==\u001b[39m \u001b[38;5;124m\"\u001b[39m\u001b[38;5;124m1\u001b[39m\u001b[38;5;124m\"\u001b[39m:\n\u001b[0;32m     17\u001b[0m     \u001b[38;5;28mprint\u001b[39m(\u001b[38;5;124m\"\u001b[39m\u001b[38;5;124mSu saldo actual es:\u001b[39m\u001b[38;5;124m\"\u001b[39m, saldo)\n",
      "File \u001b[1;32mc:\\Users\\LENOVO\\anaconda3\\Lib\\site-packages\\ipykernel\\kernelbase.py:1262\u001b[0m, in \u001b[0;36mKernel.raw_input\u001b[1;34m(self, prompt)\u001b[0m\n\u001b[0;32m   1260\u001b[0m     msg \u001b[38;5;241m=\u001b[39m \u001b[38;5;124m\"\u001b[39m\u001b[38;5;124mraw_input was called, but this frontend does not support input requests.\u001b[39m\u001b[38;5;124m\"\u001b[39m\n\u001b[0;32m   1261\u001b[0m     \u001b[38;5;28;01mraise\u001b[39;00m StdinNotImplementedError(msg)\n\u001b[1;32m-> 1262\u001b[0m \u001b[38;5;28;01mreturn\u001b[39;00m \u001b[38;5;28mself\u001b[39m\u001b[38;5;241m.\u001b[39m_input_request(\n\u001b[0;32m   1263\u001b[0m     \u001b[38;5;28mstr\u001b[39m(prompt),\n\u001b[0;32m   1264\u001b[0m     \u001b[38;5;28mself\u001b[39m\u001b[38;5;241m.\u001b[39m_parent_ident[\u001b[38;5;124m\"\u001b[39m\u001b[38;5;124mshell\u001b[39m\u001b[38;5;124m\"\u001b[39m],\n\u001b[0;32m   1265\u001b[0m     \u001b[38;5;28mself\u001b[39m\u001b[38;5;241m.\u001b[39mget_parent(\u001b[38;5;124m\"\u001b[39m\u001b[38;5;124mshell\u001b[39m\u001b[38;5;124m\"\u001b[39m),\n\u001b[0;32m   1266\u001b[0m     password\u001b[38;5;241m=\u001b[39m\u001b[38;5;28;01mFalse\u001b[39;00m,\n\u001b[0;32m   1267\u001b[0m )\n",
      "File \u001b[1;32mc:\\Users\\LENOVO\\anaconda3\\Lib\\site-packages\\ipykernel\\kernelbase.py:1305\u001b[0m, in \u001b[0;36mKernel._input_request\u001b[1;34m(self, prompt, ident, parent, password)\u001b[0m\n\u001b[0;32m   1302\u001b[0m \u001b[38;5;28;01mexcept\u001b[39;00m \u001b[38;5;167;01mKeyboardInterrupt\u001b[39;00m:\n\u001b[0;32m   1303\u001b[0m     \u001b[38;5;66;03m# re-raise KeyboardInterrupt, to truncate traceback\u001b[39;00m\n\u001b[0;32m   1304\u001b[0m     msg \u001b[38;5;241m=\u001b[39m \u001b[38;5;124m\"\u001b[39m\u001b[38;5;124mInterrupted by user\u001b[39m\u001b[38;5;124m\"\u001b[39m\n\u001b[1;32m-> 1305\u001b[0m     \u001b[38;5;28;01mraise\u001b[39;00m \u001b[38;5;167;01mKeyboardInterrupt\u001b[39;00m(msg) \u001b[38;5;28;01mfrom\u001b[39;00m \u001b[38;5;28;01mNone\u001b[39;00m\n\u001b[0;32m   1306\u001b[0m \u001b[38;5;28;01mexcept\u001b[39;00m \u001b[38;5;167;01mException\u001b[39;00m:\n\u001b[0;32m   1307\u001b[0m     \u001b[38;5;28mself\u001b[39m\u001b[38;5;241m.\u001b[39mlog\u001b[38;5;241m.\u001b[39mwarning(\u001b[38;5;124m\"\u001b[39m\u001b[38;5;124mInvalid Message:\u001b[39m\u001b[38;5;124m\"\u001b[39m, exc_info\u001b[38;5;241m=\u001b[39m\u001b[38;5;28;01mTrue\u001b[39;00m)\n",
      "\u001b[1;31mKeyboardInterrupt\u001b[0m: Interrupted by user"
     ]
    }
   ],
   "source": [
    "# 4. mejora el cajero automatico\n",
    "\n",
    "saldo = 1000\n",
    "depositos = []\n",
    "retiros = []\n",
    "while True:\n",
    "    print(\"\\n=== CAJERO AUTOMÁTICO ===\")\n",
    "    print(\"1. Consultar saldo\")\n",
    "    print(\"2. Depositar dinero\")\n",
    "    print(\"3. Retirar dinero\")\n",
    "    print(\"4. Ver historial de deposito transacciones\")\n",
    "    print(\"5. Salir\")\n",
    "    \n",
    "    opcion = input(\"Seleccione una opción: \")\n",
    "    \n",
    "    if opcion == \"1\":\n",
    "        print(\"Su saldo actual es:\", saldo)\n",
    "    elif opcion == \"2\":\n",
    "        deposito = float(input(\"Ingrese monto a depositar: \"))\n",
    "        \n",
    "        depositos.append(deposito)\n",
    "        saldo += deposito\n",
    "        \n",
    "        print(\"Depósito exitoso. Saldo actual:\", saldo)\n",
    "    elif opcion == \"3\":\n",
    "        retiro = float(input(\"Ingrese monto a retirar: \"))\n",
    "        if retiro <= saldo:\n",
    "            saldo -= retiro\n",
    "            print(\"Retiro exitoso. Saldo actual:\", saldo)\n",
    "        else:\n",
    "            print(\"Fondos insuficientes.\")\n",
    "    elif opcion == \"4\":\n",
    "        for i in depositos:\n",
    "            print(f\"Deposito de: {i}\")\n",
    "        for i in retiros:\n",
    "            print(f\"Deposito de: {i}\")\n",
    "        \n",
    "    elif opcion == \"5\":\n",
    "        print(\"Gracias por usar el cajero\")\n",
    "        break\n",
    "    else:\n",
    "        print(\"Opción inválida, intente nuevamente.\")\n"
   ]
  },
  {
   "cell_type": "code",
   "execution_count": 17,
   "id": "b3bad91f",
   "metadata": {},
   "outputs": [
    {
     "name": "stdout",
     "output_type": "stream",
     "text": [
      "p\n",
      "y\n",
      "t\n",
      "h\n",
      "o\n",
      "n\n"
     ]
    }
   ],
   "source": [
    "palabra = \"Python\"\n",
    "\n",
    "for letra in palabra:\n",
    "    print(letra.lower())"
   ]
  },
  {
   "cell_type": "code",
   "execution_count": 18,
   "id": "d5917d54",
   "metadata": {},
   "outputs": [
    {
     "name": "stdout",
     "output_type": "stream",
     "text": [
      "1\n",
      "2\n",
      "3\n"
     ]
    }
   ],
   "source": [
    "num = 1\n",
    "while num <6:\n",
    "    print(num)\n",
    "    if num == 3:\n",
    "        break\n",
    "    num +=1"
   ]
  },
  {
   "cell_type": "code",
   "execution_count": null,
   "id": "7a18835a",
   "metadata": {},
   "outputs": [],
   "source": []
  }
 ],
 "metadata": {
  "kernelspec": {
   "display_name": "base",
   "language": "python",
   "name": "python3"
  },
  "language_info": {
   "codemirror_mode": {
    "name": "ipython",
    "version": 3
   },
   "file_extension": ".py",
   "mimetype": "text/x-python",
   "name": "python",
   "nbconvert_exporter": "python",
   "pygments_lexer": "ipython3",
   "version": "3.12.7"
  }
 },
 "nbformat": 4,
 "nbformat_minor": 5
}
