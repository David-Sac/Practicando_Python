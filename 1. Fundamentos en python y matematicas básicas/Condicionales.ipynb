{
 "cells": [
  {
   "cell_type": "markdown",
   "id": "fbf546ab",
   "metadata": {},
   "source": [
    "# Condicionales"
   ]
  },
  {
   "cell_type": "markdown",
   "id": "baa3d10e",
   "metadata": {},
   "source": [
    "Los condicionales permiten al programa tomar decisiones dependiendo las condiciones logicas (True or False)"
   ]
  },
  {
   "cell_type": "code",
   "execution_count": 2,
   "id": "0115b3bc",
   "metadata": {},
   "outputs": [
    {
     "name": "stdout",
     "output_type": "stream",
     "text": [
      "Si la condicion es verdadera se mostrara este mensaje\n"
     ]
    }
   ],
   "source": [
    "# Sintaxis básica\n",
    "condicion = 2\n",
    "if condicion ==2:\n",
    "    print(\"Si la condicion es verdadera se mostrara este mensaje\")\n",
    "elif condicion != 0:\n",
    "    print(\"Si no se cumple la condicion anterior se cumple esta otra condicion\")\n",
    "else:\n",
    "    print(\"Si la condicion es falsa se mostrara este mensaje\")"
   ]
  },
  {
   "cell_type": "code",
   "execution_count": 1,
   "id": "b756f8d8",
   "metadata": {},
   "outputs": [
    {
     "name": "stdout",
     "output_type": "stream",
     "text": [
      "Es mayor de edad\n"
     ]
    }
   ],
   "source": [
    "# Ejemplo\n",
    "edad = 21 \n",
    "if edad<18:\n",
    "    print(\"Es menor de edad\")\n",
    "else:\n",
    "    print(\"Es mayor de edad\")"
   ]
  },
  {
   "cell_type": "code",
   "execution_count": null,
   "id": "b342e135",
   "metadata": {},
   "outputs": [],
   "source": []
  }
 ],
 "metadata": {
  "kernelspec": {
   "display_name": "base",
   "language": "python",
   "name": "python3"
  },
  "language_info": {
   "codemirror_mode": {
    "name": "ipython",
    "version": 3
   },
   "file_extension": ".py",
   "mimetype": "text/x-python",
   "name": "python",
   "nbconvert_exporter": "python",
   "pygments_lexer": "ipython3",
   "version": "3.12.7"
  }
 },
 "nbformat": 4,
 "nbformat_minor": 5
}
