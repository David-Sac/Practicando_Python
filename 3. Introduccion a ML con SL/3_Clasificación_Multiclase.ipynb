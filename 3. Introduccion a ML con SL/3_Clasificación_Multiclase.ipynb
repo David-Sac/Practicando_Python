{
 "cells": [
  {
   "cell_type": "markdown",
   "id": "f6047254",
   "metadata": {},
   "source": [
    "# Clasificación Multiclase\n",
    "\n",
    "Es cuando el modelo debe asignar una de tres o más clases.\n",
    "Ejemplos:\n",
    "- Calificación de un examen => *Desaprobado (0-10), Regular (11-15), Excelente (16-20)*.\n",
    "- Reconocimiento de imágenes => *gato, perro, pájaro*.\n",
    "- Diagnóstico médico => *sano, leve, grave*\n",
    "\n",
    "## Scikit-Learn multiclase\n",
    "Implementa la Regresión Logpistica Multiclase con dos enfoques principales:\n",
    "- OvR (One-vs-Rest/Uno contra el Resto)\n",
    "    - Para cada clase entrena un clasificador binario que distingue esa clase vs todas las demás.\n",
    "    - Ejemplo con 3 clases:\n",
    "        - Modelo 1: Clase A vs (B + C)\n",
    "        - Modelo 2: Clase B vs (A + C)\n",
    "        - Modelo 3: Clase C vs (A + B)\n",
    "    - Predicción: se toma la clase con mayor probabilidad\n",
    "- Multinominal (Softmax)\n",
    "    - Un solo modelo aprende todas las clases al mismo tiempo.\n",
    "    - Usa la función Softmax para producir probabilidades normalizadas para cada clase.\n",
    "    - Más recomendado cuando se espera que las clases estén balanceadas y se relacionen entre si\n",
    "## Ejemplo con notas de alumnos"
   ]
  },
  {
   "cell_type": "code",
   "execution_count": 3,
   "id": "8ca38bbb",
   "metadata": {},
   "outputs": [
    {
     "name": "stdout",
     "output_type": "stream",
     "text": [
      "    Horas  Notas  Categoria\n",
      "0       1      6          0\n",
      "1       2      8          0\n",
      "2       3     10          0\n",
      "3       4     12          1\n",
      "4       5     13          1\n",
      "5       6     14          1\n",
      "6       7     15          1\n",
      "7       8     16          2\n",
      "8       9     17          2\n",
      "9      10     18          2\n",
      "10     11     19          2\n",
      "11     12     20          2\n",
      "Matriz de confusion:\n",
      " [[1 0]\n",
      " [0 3]]\n",
      "Reporte de clasificación:\n",
      "               precision    recall  f1-score   support\n",
      "\n",
      "           0       1.00      1.00      1.00         1\n",
      "           2       1.00      1.00      1.00         3\n",
      "\n",
      "    accuracy                           1.00         4\n",
      "   macro avg       1.00      1.00      1.00         4\n",
      "weighted avg       1.00      1.00      1.00         4\n",
      "\n"
     ]
    },
    {
     "name": "stderr",
     "output_type": "stream",
     "text": [
      "c:\\Users\\LENOVO\\anaconda3\\Lib\\site-packages\\sklearn\\linear_model\\_logistic.py:1256: FutureWarning: 'multi_class' was deprecated in version 1.5 and will be removed in 1.7. Use OneVsRestClassifier(LogisticRegression(..)) instead. Leave it to its default value to avoid this warning.\n",
      "  warnings.warn(\n"
     ]
    }
   ],
   "source": [
    "import pandas as pd\n",
    "from sklearn.linear_model import LogisticRegression\n",
    "from sklearn.model_selection import train_test_split\n",
    "from sklearn.metrics import classification_report, confusion_matrix\n",
    "import matplotlib.pyplot as plt\n",
    "import seaborn as sns\n",
    "\n",
    "# Dataset \n",
    "data = {\n",
    "    \"Horas\": [1,2,3,4,5,6,7,8,9,10,11,12],\n",
    "    \"Notas\": [6,8,10,12,13,14,15,16,17,18,19,20]\n",
    "}\n",
    "\n",
    "df = pd.DataFrame(data)\n",
    "\n",
    "# Clasificacion en categorias\n",
    "def categorizar(nota):\n",
    "    if nota<=10:\n",
    "        return 0\n",
    "    elif nota <= 15:\n",
    "        return 1\n",
    "    else:\n",
    "        return 2\n",
    "    \n",
    "df[\"Categoria\"] = df[\"Notas\"].apply(categorizar)\n",
    "print(df)\n",
    "\n",
    "# Variables\n",
    "X = df[[\"Horas\"]]\n",
    "y = df[\"Categoria\"]\n",
    "\n",
    "# División train/test\n",
    "X_train, X_test, y_train, y_test = train_test_split(X,y, test_size=0.3, random_state=42)\n",
    "\n",
    "# Modelo\n",
    "modelo = LogisticRegression(multi_class=\"ovr\", solver=\"lbfgs\", max_iter=1000)\n",
    "modelo.fit(X_train, y_train)\n",
    "\n",
    "# Predicciones\n",
    "y_pred = modelo.predict(X_test)\n",
    "\n",
    "print(\"Matriz de confusion:\\n\", confusion_matrix(y_test, y_pred))\n",
    "print(\"Reporte de clasificación:\\n\", classification_report(y_test, y_pred))"
   ]
  },
  {
   "cell_type": "markdown",
   "id": "d25c50df",
   "metadata": {},
   "source": [
    "## Parámetro multi_class en LogisticRegression\n",
    "\n",
    "```python\n",
    "LogisticRegression(multi_class=\"ovr\")\n",
    "LogisticRegression(multi_class=\"multinomial\")\n",
    "LogisticRegression(multi_class=\"auto\")\n",
    "\n",
    "```\n",
    "- 'ovr': One-vs-Rest, más simple, funciona siempre.\n",
    "- 'multinomial': usa Softmax, requiere solvers que lo soporten (saga, lbfgs. newton-cg).\n",
    "- 'auto': selecicona automáticamente: si el solver soporta multinomial lo usa sino ovr\n",
    "\n",
    "## Parámetro solver\n",
    "El solver es el algoritmo de optimización que entrena la regresión logística. Opciones:\n",
    "- 'liblinear' rápido. pero solo soporta binario o OvR\n",
    "- 'lbfgs' recomendado para multiclase (soporta multinomial)\n",
    "- 'sag' y 'saga' buenos para datasets grandes, soportan multinomial.\n",
    "- 'newton-cg' soporta multinomial\n",
    " \n",
    "## Métricas en multiclase\n",
    "- Accuracy: porcentaje correcto (puede ser engañoso si hy desbalance)\n",
    "- Matriz de confusión: musetra errores por clase\n",
    "- Precisión, Recall, F1: se calculan para cada clase\n",
    "- Promedios (average):\n",
    "    - macro: promedio simple de todas las clases (no importa el tamaño de cada clase)\n",
    "    - weighted: promedio ponderado según número de ejemplos por clase\n",
    "    - micro: global, suma TP, FP,FN y calcula métricas"
   ]
  },
  {
   "cell_type": "markdown",
   "id": "58f37ed9",
   "metadata": {},
   "source": [
    "## Visualización de matriz de confusión"
   ]
  },
  {
   "cell_type": "code",
   "execution_count": 5,
   "id": "00691e51",
   "metadata": {},
   "outputs": [
    {
     "data": {
      "image/png": "[encoded data removed]",
      "text/plain": [
       "<Figure size 600x400 with 2 Axes>"
      ]
     },
     "metadata": {},
     "output_type": "display_data"
    }
   ],
   "source": [
    "cm = confusion_matrix(y_test, y_pred)\n",
    "plt.figure(figsize=(6,4))\n",
    "sns.heatmap(cm, annot=True, fmt=\"d\", cmap=\"Blues\",\n",
    "            xticklabels=[\"Desaprobado\", \"Regular\", \"Excelente\"],\n",
    "            yticklabels=[\"Desaprobado\", \"Regular\", \"Excelente\"])\n",
    "plt.xlabel(\"Predicción\")\n",
    "plt.ylabel(\"Real\")\n",
    "plt.title(\"Matriz de Confusión Multiclase\")\n",
    "plt.show()"
   ]
  },
  {
   "cell_type": "markdown",
   "id": "d8ffb9e4",
   "metadata": {},
   "source": [
    "## Ejemplo Guiado con Dataset Real (Iris)"
   ]
  },
  {
   "cell_type": "code",
   "execution_count": 3,
   "id": "ad6dda54",
   "metadata": {},
   "outputs": [
    {
     "name": "stdout",
     "output_type": "stream",
     "text": [
      "Matriz de confusión:\n",
      " [[19  0  0]\n",
      " [ 0 13  0]\n",
      " [ 0  0 13]]\n",
      "\n",
      "Reporte de clasificacion:\n",
      "               precision    recall  f1-score   support\n",
      "\n",
      "      setosa       1.00      1.00      1.00        19\n",
      "  versicolor       1.00      1.00      1.00        13\n",
      "   virginica       1.00      1.00      1.00        13\n",
      "\n",
      "    accuracy                           1.00        45\n",
      "   macro avg       1.00      1.00      1.00        45\n",
      "weighted avg       1.00      1.00      1.00        45\n",
      "\n"
     ]
    },
    {
     "name": "stderr",
     "output_type": "stream",
     "text": [
      "c:\\Users\\LENOVO\\anaconda3\\Lib\\site-packages\\sklearn\\linear_model\\_logistic.py:1247: FutureWarning: 'multi_class' was deprecated in version 1.5 and will be removed in 1.7. From then on, it will always use 'multinomial'. Leave it to its default value to avoid this warning.\n",
      "  warnings.warn(\n"
     ]
    }
   ],
   "source": [
    "from sklearn.datasets import load_iris\n",
    "from sklearn.linear_model import LogisticRegression\n",
    "from sklearn.model_selection import train_test_split\n",
    "from sklearn.metrics import classification_report, confusion_matrix\n",
    "\n",
    "# 1. Cargar dataset\n",
    "iris = load_iris()\n",
    "X = iris.data  # características: largo sépalo, ancho sépalo, largo pétalo, ancho pétalo\n",
    "y = iris.target # clases: 0=setosa, 1=versicolor, 2=virginica\n",
    "\n",
    "# 2. Dividir en train y test\n",
    "X_train, X_test, y_train, y_test = train_test_split(X,y, test_size=0.3, random_state=42)\n",
    "\n",
    "# 3. Entrenar modelo multiclase (Softmax)\n",
    "model = LogisticRegression(multi_class='multinomial', solver='lbfgs', max_iter=200)\n",
    "model.fit(X_train, y_train)\n",
    "\n",
    "# 4. Predicciones\n",
    "y_pred = model.predict(X_test)\n",
    "\n",
    "# 5. Reporte\n",
    "print(\"Matriz de confusión:\\n\" , confusion_matrix(y_test, y_pred))\n",
    "print(\"\\nReporte de clasificacion:\\n\", classification_report(y_test,y_pred, target_names=iris.target_names))"
   ]
  },
  {
   "cell_type": "markdown",
   "id": "101dda5e",
   "metadata": {},
   "source": [
    "- load_iris(): carga dataset Iris.\n",
    "- X = iris.data: 150 filas × 4 columnas de medidas de flores.\n",
    "-  = iris.target: etiquetas (0,1,2).\n",
    "- train_test_split: 70% entrenamiento, 30% prueba.\n",
    "- LogisticRegression(multi_class='multinomial', solver='lbfgs'):\n",
    "- multi_class='multinomial': activa Softmax.\n",
    "- solver='lbfgs': compatible con multinomial.\n",
    "- max_iter=200: más iteraciones para asegurar convergencia.\n",
    "- fit: entrena el modelo.\n",
    "- predict: genera predicciones.\n",
    "- confusion_matrix: errores por clase.\n",
    "- classification_report: accuracy, precision, recall y F1 por clase."
   ]
  },
  {
   "cell_type": "markdown",
   "id": "c0ca0746",
   "metadata": {},
   "source": [
    "## Tarea\n",
    "1. Cargar dataset Wine\n",
    "2. Dividir en train/test\n",
    "3. Entrenar un modelo con `multi_class='ovr'` y `solver='liblinear'`.\n",
    "4. Evaluar con matriz de confusión y reporte de clasificación\n",
    "5. Comparar resultados con `multi_class='multinomial'` y `solver='lbfgs'`\n"
   ]
  },
  {
   "cell_type": "code",
   "execution_count": 16,
   "id": "44feb92d",
   "metadata": {},
   "outputs": [
    {
     "name": "stdout",
     "output_type": "stream",
     "text": [
      "Matriz de confusión:\n",
      " [[19  0  0]\n",
      " [ 0 21  0]\n",
      " [ 0  0 14]]\n",
      "\n",
      "Reporte de Clasificación:\n",
      "               precision    recall  f1-score   support\n",
      "\n",
      "     class_0       1.00      1.00      1.00        19\n",
      "     class_1       1.00      1.00      1.00        21\n",
      "     class_2       1.00      1.00      1.00        14\n",
      "\n",
      "    accuracy                           1.00        54\n",
      "   macro avg       1.00      1.00      1.00        54\n",
      "weighted avg       1.00      1.00      1.00        54\n",
      "\n",
      "Matriz de confusión:\n",
      " [[18  1  0]\n",
      " [ 0 21  0]\n",
      " [ 0  0 14]]\n",
      "\n",
      "Reporte de Clasificación:\n",
      "               precision    recall  f1-score   support\n",
      "\n",
      "     class_0       1.00      0.95      0.97        19\n",
      "     class_1       0.95      1.00      0.98        21\n",
      "     class_2       1.00      1.00      1.00        14\n",
      "\n",
      "    accuracy                           0.98        54\n",
      "   macro avg       0.98      0.98      0.98        54\n",
      "weighted avg       0.98      0.98      0.98        54\n",
      "\n"
     ]
    },
    {
     "name": "stderr",
     "output_type": "stream",
     "text": [
      "c:\\Users\\LENOVO\\anaconda3\\Lib\\site-packages\\sklearn\\linear_model\\_logistic.py:1256: FutureWarning: 'multi_class' was deprecated in version 1.5 and will be removed in 1.7. Use OneVsRestClassifier(LogisticRegression(..)) instead. Leave it to its default value to avoid this warning.\n",
      "  warnings.warn(\n",
      "c:\\Users\\LENOVO\\anaconda3\\Lib\\site-packages\\sklearn\\linear_model\\_logistic.py:1247: FutureWarning: 'multi_class' was deprecated in version 1.5 and will be removed in 1.7. From then on, it will always use 'multinomial'. Leave it to its default value to avoid this warning.\n",
      "  warnings.warn(\n",
      "c:\\Users\\LENOVO\\anaconda3\\Lib\\site-packages\\sklearn\\linear_model\\_logistic.py:469: ConvergenceWarning: lbfgs failed to converge (status=1):\n",
      "STOP: TOTAL NO. of ITERATIONS REACHED LIMIT.\n",
      "\n",
      "Increase the number of iterations (max_iter) or scale the data as shown in:\n",
      "    https://scikit-learn.org/stable/modules/preprocessing.html\n",
      "Please also refer to the documentation for alternative solver options:\n",
      "    https://scikit-learn.org/stable/modules/linear_model.html#logistic-regression\n",
      "  n_iter_i = _check_optimize_result(\n"
     ]
    }
   ],
   "source": [
    "from sklearn.datasets import load_wine\n",
    "from sklearn.linear_model import LogisticRegression\n",
    "from sklearn.metrics import classification_report, confusion_matrix\n",
    "from sklearn.model_selection import train_test_split\n",
    "# 1.\n",
    "wine = load_wine()\n",
    "X = wine.data\n",
    "y = wine.target\n",
    "# 2.\n",
    "X_train, X_test, y_train, y_test = train_test_split(X,y, test_size=0.3, random_state=42)\n",
    "# 3.\n",
    "model = LogisticRegression(multi_class='ovr', solver='liblinear', max_iter=200)\n",
    "model.fit(X_train, y_train)\n",
    "\n",
    "y_pred = model.predict(X_test)\n",
    "\n",
    "# 4.\n",
    "print(\"Matriz de confusión:\\n\",confusion_matrix(y_test,y_pred))\n",
    "print(\"\\nReporte de Clasificación:\\n\", classification_report(y_test, y_pred, target_names=wine.target_names))\n",
    "\n",
    "\n",
    "# 5. \n",
    "X_train, X_test, y_train, y_test = train_test_split(X,y, test_size=0.3, random_state=42)\n",
    "model = LogisticRegression(multi_class='multinomial', solver='lbfgs', max_iter=200)\n",
    "model.fit(X_train, y_train)\n",
    "\n",
    "y_pred = model.predict(X_test)\n",
    "\n",
    "print(\"Matriz de confusión:\\n\",confusion_matrix(y_test,y_pred))\n",
    "print(\"\\nReporte de Clasificación:\\n\", classification_report(y_test, y_pred, target_names=wine.target_names))\n"
   ]
  },
  {
   "cell_type": "markdown",
   "id": "eea2846a",
   "metadata": {},
   "source": []
  }
 ],
 "metadata": {
  "kernelspec": {
   "display_name": "base",
   "language": "python",
   "name": "python3"
  },
  "language_info": {
   "codemirror_mode": {
    "name": "ipython",
    "version": 3
   },
   "file_extension": ".py",
   "mimetype": "text/x-python",
   "name": "python",
   "nbconvert_exporter": "python",
   "pygments_lexer": "ipython3",
   "version": "3.12.7"
  }
 },
 "nbformat": 4,
 "nbformat_minor": 5
}
