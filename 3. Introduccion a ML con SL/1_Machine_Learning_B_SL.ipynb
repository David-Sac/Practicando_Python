{
 "cells": [
  {
   "cell_type": "markdown",
   "id": "fb4b833d",
   "metadata": {},
   "source": [
    "# Machine Learning Básico con Scikit-Learn\n",
    "\n",
    "## Machine Learning\n",
    "Rama de la IA que crea modelos matemáticos para aprender de los datos y hacer predicciones.\n",
    "\n",
    "### Flujo típoco en ML\n",
    "1. Recolección de datos (CSV, BD, etc.).\n",
    "2. Preprocesamiento (limpieza, normalización, división en entrenamiento y prueba).\n",
    "3, Entrenamiento del modelo con fit().\n",
    "4. Predicción con predict().\n",
    "5. Evaluación del rendimiento.\n",
    "\n",
    "## Librería Scikit-Learn\n",
    "Es el estándar en Python para Machine Learning clásico.\n",
    "Incluye algoritmos para:\n",
    "- Regresión (valores continuos: precios, temperaturas).\n",
    "- Clasificación (etiquetas: aprobado/reprobado, spam/no spam).\n",
    "- Clustering, reduccion de dimensionalidad, etc.\n",
    "\n",
    "Se instala con:\n",
    "`pip install scikit-learn`"
   ]
  },
  {
   "cell_type": "markdown",
   "id": "8da7f264",
   "metadata": {},
   "source": [
    "## Ejemplo: Regresión lineal\n",
    "Predecir ventas a partir de publicidad invertida."
   ]
  },
  {
   "cell_type": "code",
   "execution_count": 1,
   "id": "8404cb84",
   "metadata": {},
   "outputs": [
    {
     "name": "stdout",
     "output_type": "stream",
     "text": [
      "Coeficiente: [1.5]\n",
      "Intercepto: -9.999999999999986\n",
      "MSE 7.499999999999991\n",
      "R2: -1.4999999999999942\n"
     ]
    }
   ],
   "source": [
    "import numpy as np\n",
    "import pandas as pd\n",
    "from sklearn.linear_model import LinearRegression\n",
    "from sklearn.model_selection import train_test_split\n",
    "from sklearn.metrics import mean_absolute_error, r2_score\n",
    "\n",
    "# Creamos un Dataset simple\n",
    "data = {\n",
    "    \"Publicidad\": [10,20,30,40,50,60],\n",
    "    \"Ventas\": [15,25,35,50,65,80]\n",
    "}\n",
    "\n",
    "df = pd.DataFrame(data)\n",
    "\n",
    "# Variables\n",
    "X = df[[\"Publicidad\"]] # Variable independiente (input)\n",
    "y = df[\"Ventas\"] # variable dependiente (output)\n",
    "\n",
    "# División train/test\n",
    "X_train, X_test, y_train, y_test = train_test_split(X,y, test_size=0.2, random_state=42)\n",
    "\n",
    "# Modelo\n",
    "modelo = LinearRegression()\n",
    "modelo.fit(X_train, y_train)\n",
    "\n",
    "# Predicción\n",
    "y_pred = modelo.predict(X_test)\n",
    "\n",
    "# Evaluación\n",
    "print(\"Coeficiente:\" , modelo.coef_)\n",
    "print(\"Intercepto:\", modelo.intercept_)\n",
    "print(\"MSE\", mean_absolute_error(y_test, y_pred))\n",
    "print(\"R2:\", r2_score(y_test, y_pred))"
   ]
  },
  {
   "cell_type": "markdown",
   "id": "dbb0981d",
   "metadata": {},
   "source": [
    "Interpretación:\n",
    "- coef_ = pendiente (cuánto aumentan las ventas si se invierte más en publicidad).\n",
    "- intercept_ = valor base.\n",
    "- R2 = qué tan bien explica el modelo los datos (1.0 = Perfecto)"
   ]
  },
  {
   "cell_type": "markdown",
   "id": "a522d541",
   "metadata": {},
   "source": [
    "## Ejemplo: Clasificación\n",
    "Predecir si un alumno aprueba (1) o desaprueba (0) según sus horas de estudio."
   ]
  },
  {
   "cell_type": "code",
   "execution_count": 3,
   "id": "874cc381",
   "metadata": {},
   "outputs": [
    {
     "name": "stdout",
     "output_type": "stream",
     "text": [
      "Predicción para 5 horas: [1]\n",
      "Probabilidades: [[0.49568373 0.50431627]]\n"
     ]
    },
    {
     "name": "stderr",
     "output_type": "stream",
     "text": [
      "c:\\Users\\LENOVO\\anaconda3\\Lib\\site-packages\\sklearn\\base.py:493: UserWarning: X does not have valid feature names, but LogisticRegression was fitted with feature names\n",
      "  warnings.warn(\n",
      "c:\\Users\\LENOVO\\anaconda3\\Lib\\site-packages\\sklearn\\base.py:493: UserWarning: X does not have valid feature names, but LogisticRegression was fitted with feature names\n",
      "  warnings.warn(\n"
     ]
    }
   ],
   "source": [
    "from sklearn.linear_model import LogisticRegression\n",
    "\n",
    "data = {\n",
    "    \"Horas\": [2,4,6,8,10],\n",
    "    \"Aprobado\": [0,0,1,1,1]\n",
    "}\n",
    "\n",
    "df = pd.DataFrame(data)\n",
    "\n",
    "X = df[[\"Horas\"]]\n",
    "y = df[\"Aprobado\"]\n",
    "\n",
    "modelo = LogisticRegression()\n",
    "modelo.fit(X, y)\n",
    "\n",
    "# Predicciones\n",
    "print(\"Predicción para 5 horas:\", modelo.predict([[5]]))\n",
    "print(\"Probabilidades:\", modelo.predict_proba([[5]]))"
   ]
  },
  {
   "cell_type": "markdown",
   "id": "c63ecb74",
   "metadata": {},
   "source": [
    "Interpretación:\n",
    "- predict() = da 0 o 1.\n",
    "- predict_proba() = da probabilidades a cada clase"
   ]
  },
  {
   "cell_type": "markdown",
   "id": "fbe1c605",
   "metadata": {},
   "source": [
    "## Mini proyecto\n",
    "Predicción de notas según horas de estudio"
   ]
  },
  {
   "cell_type": "code",
   "execution_count": 4,
   "id": "c566dfe5",
   "metadata": {},
   "outputs": [
    {
     "data": {
      "image/png": "[encoded data removed]",
      "text/plain": [
       "<Figure size 640x480 with 1 Axes>"
      ]
     },
     "metadata": {},
     "output_type": "display_data"
    }
   ],
   "source": [
    "import numpy as np\n",
    "import pandas as pd\n",
    "from sklearn.model_selection import train_test_split\n",
    "from sklearn.linear_model import LinearRegression\n",
    "import matplotlib.pyplot as plt\n",
    "\n",
    "# Dataset\n",
    "data = {\"Horas\": [1,2,3,4,5,6,7,8,9,10],\n",
    "        \"Nota\": [10,11,13,15,16,17,18,19,20,20]}\n",
    "df = pd.DataFrame(data)\n",
    "\n",
    "X = df[[\"Horas\"]]\n",
    "y = df[\"Nota\"]\n",
    "\n",
    "X_train, X_test, y_train, y_test = train_test_split(X,y,test_size=0.2, random_state=42)\n",
    "\n",
    "modelo = LinearRegression()\n",
    "modelo.fit(X_train, y_train)\n",
    "\n",
    "y_pred = modelo.predict(X_test)\n",
    "\n",
    "# Visualización\n",
    "plt.scatter(X,y, color=\"blue\", label=\"Datos reales\")\n",
    "plt.plot(X, modelo.predict(X), color=\"red\", label=\"Linea de regresion\")\n",
    "plt.legend()\n",
    "plt.show()"
   ]
  },
  {
   "cell_type": "markdown",
   "id": "9ee0631d",
   "metadata": {},
   "source": [
    "## Tarea\n",
    "1. Crea un dataset con horas de estudio y notas"
   ]
  },
  {
   "cell_type": "code",
   "execution_count": 6,
   "id": "b9200a8d",
   "metadata": {},
   "outputs": [],
   "source": [
    "# 1.\n",
    "\n",
    "import pandas as pd\n",
    "\n",
    "data = {\n",
    "    \"Horas\": [1, 10, 8, 5, 5, 11, 1, 9, 2, 1,\n",
    "              6, 12, 9, 9, 9, 10, 6, 1, 10, 5],\n",
    "    \"Notas\": [7.6, 14.6, 11.5, 11.3, 9.9,\n",
    "              12.1, 6.5, 10.3, 8.4, 5.7,\n",
    "              9.4, 13.2, 14.6, 11.9, 11.3,\n",
    "              12.3, 10.9, 6.5, 13.8, 9.9]\n",
    "}\n",
    "\n",
    "df = pd.DataFrame(data)"
   ]
  },
  {
   "cell_type": "markdown",
   "id": "de2147eb",
   "metadata": {},
   "source": [
    "2. Ajusta un modelo de regresion lineal para predecir la nota en función de las horas"
   ]
  },
  {
   "cell_type": "code",
   "execution_count": 7,
   "id": "41916de0",
   "metadata": {},
   "outputs": [],
   "source": [
    "# 2. \n",
    "import numpy as np\n",
    "from sklearn.linear_model import LinearRegression\n",
    "from sklearn.model_selection import train_test_split\n",
    "from sklearn.metrics import mean_absolute_error, r2_score\n",
    "\n",
    "X = df[[\"Horas\"]]\n",
    "y = df[\"Notas\"]\n",
    "\n",
    "X_train, X_test, y_train, y_test = train_test_split(X, y, test_size=0.2, random_state=42)\n",
    "\n",
    "modelo = LinearRegression()\n",
    "modelo.fit(X_train, y_train)\n",
    "\n",
    "y_pred = modelo.predict(X_test)\n",
    "\n"
   ]
  },
  {
   "cell_type": "markdown",
   "id": "e1c05c7a",
   "metadata": {},
   "source": [
    "3. Muestra el coeficiente, intercepto y R2 del modelo."
   ]
  },
  {
   "cell_type": "code",
   "execution_count": 8,
   "id": "a2114ea7",
   "metadata": {},
   "outputs": [
    {
     "name": "stdout",
     "output_type": "stream",
     "text": [
      "Coeficiente:  [0.61285311]\n",
      "Intercepto:  6.531991525423728\n",
      "R2:  0.8978841858737908\n"
     ]
    }
   ],
   "source": [
    "# 3. \n",
    "print(\"Coeficiente: \", modelo.coef_)\n",
    "print(\"Intercepto: \", modelo.intercept_)\n",
    "print(\"R2: \", r2_score(y_test, y_pred))"
   ]
  },
  {
   "cell_type": "markdown",
   "id": "dc8df59e",
   "metadata": {},
   "source": [
    "4. Haz una gráfica con la línea de regresión sobre los datos reales."
   ]
  },
  {
   "cell_type": "code",
   "execution_count": 10,
   "id": "549f8ff5",
   "metadata": {},
   "outputs": [
    {
     "data": {
      "image/png": "[encoded data removed]",
      "text/plain": [
       "<Figure size 640x480 with 1 Axes>"
      ]
     },
     "metadata": {},
     "output_type": "display_data"
    }
   ],
   "source": [
    "# 4. \n",
    "import matplotlib.pyplot as plt\n",
    "plt.scatter(X, y, color=\"blue\")\n",
    "plt.plot(X, modelo.predict(X), color=\"red\", label=\"Línea de Regresión\")\n",
    "plt.legend()\n",
    "plt.show()"
   ]
  },
  {
   "cell_type": "markdown",
   "id": "76529b5f",
   "metadata": {},
   "source": [
    "5. Predice la nota para alumnos que estudia 7.5 horas."
   ]
  },
  {
   "cell_type": "code",
   "execution_count": 11,
   "id": "24487c08",
   "metadata": {},
   "outputs": [
    {
     "name": "stdout",
     "output_type": "stream",
     "text": [
      "Predicción para 7.5 horas:  [11.12838983]\n"
     ]
    },
    {
     "name": "stderr",
     "output_type": "stream",
     "text": [
      "c:\\Users\\LENOVO\\anaconda3\\Lib\\site-packages\\sklearn\\base.py:493: UserWarning: X does not have valid feature names, but LinearRegression was fitted with feature names\n",
      "  warnings.warn(\n"
     ]
    }
   ],
   "source": [
    "# 5. \n",
    "print(\"Predicción para 7.5 horas: \", modelo.predict([[7.5]]))"
   ]
  },
  {
   "cell_type": "markdown",
   "id": "5c509f45",
   "metadata": {},
   "source": []
  }
 ],
 "metadata": {
  "kernelspec": {
   "display_name": "base",
   "language": "python",
   "name": "python3"
  },
  "language_info": {
   "codemirror_mode": {
    "name": "ipython",
    "version": 3
   },
   "file_extension": ".py",
   "mimetype": "text/x-python",
   "name": "python",
   "nbconvert_exporter": "python",
   "pygments_lexer": "ipython3",
   "version": "3.12.7"
  }
 },
 "nbformat": 4,
 "nbformat_minor": 5
}
