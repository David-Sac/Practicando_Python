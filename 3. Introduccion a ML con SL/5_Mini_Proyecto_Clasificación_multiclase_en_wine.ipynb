{
 "cells": [
  {
   "cell_type": "markdown",
   "id": "327c8c72",
   "metadata": {},
   "source": [
    "# Mini-proyecto: Clasificación multiclase en Wine"
   ]
  }
 ],
 "metadata": {
  "language_info": {
   "name": "python"
  }
 },
 "nbformat": 4,
 "nbformat_minor": 5
}
