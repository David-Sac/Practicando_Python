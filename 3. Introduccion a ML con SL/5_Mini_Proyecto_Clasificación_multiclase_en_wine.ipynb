{
 "cells": [
  {
   "cell_type": "markdown",
   "id": "327c8c72",
   "metadata": {},
   "source": [
    "# Mini-proyecto: Clasificación multiclase en Wine\n",
    "\n",
    "- Preparar datos (split estratificado, estandarización sin fuga)\n",
    "- Entrenar Regresión Logística Multinomial (Softmax) con `lbfgs`\n",
    "- Evaluar con classification_report, matriz de confusión, ROC/AUC macro y micro.\n",
    "- Hacer búsqueda de hiperparámetros (GridSearchCV) de forma segura.\n",
    "- Interpretar coeficientes del modelo y revisar errores"
   ]
  },
  {
   "cell_type": "markdown",
   "id": "9695d9f9",
   "metadata": {},
   "source": [
    "## 1. Instalación de librerias necesarias para ejecutar el código.\n",
    "\n",
    "- load_wine = llamamos al dataset que usaremos.\n",
    "- train_test_split = nos permite sepaparar el dataset para entrenamiento y testeo.\n",
    "- GridSearchCV = se ejecuta a través de los diferentes parámetros que se introducen en la cuadrícula de parámetros y extraer los mejores valores y combinaciones de parámetros.\n",
    "- StandardScaler = estandariza los datos eliminando la media y escalando los datos de forma que su varianza sea igual a 1.\n",
    "\n",
    "    ``` python\n",
    "        from sklearn.preprocessing import StandardScaler\n",
    "        data = [[0,0],[0,0],[1,1],[1,1]]\n",
    "        scaler = StandardScaler()\n",
    "        print(scaler.fit(data))\n",
    "        # StandardScaler()\n",
    "        print(scaler.mean_)\n",
    "        # [0.5 0.5]\n",
    "        print(scaler.transform(data))\n",
    "        # [[-1. -1.]\n",
    "        # [-1. -1.]\n",
    "        # [ 1.  1.]\n",
    "        # [ 1.  1.]]\n",
    "    ```\n",
    "\n",
    "- label_binarize = convierte las etiquetas de categorias en vectores binarios\n",
    "\n",
    "    ``` python\n",
    "        from sklearn.preprocessing import\n",
    "        a = label_binarize(['yes','no','no','yes'], classes=['no','yes'])\n",
    "        print(a)\n",
    "        # [[1]\n",
    "        # [0]\n",
    "        # [0]\n",
    "        # [1]]\n",
    "        a = label_binarize([1,6], classes=[1,6,4,2,])\n",
    "        print(a)\n",
    "        # [[1 0 0 0]\n",
    "        # [0 1 0 0]]\n",
    "    ```\n"
   ]
  },
  {
   "cell_type": "code",
   "execution_count": 9,
   "id": "5e177fd8",
   "metadata": {},
   "outputs": [
    {
     "name": "stdout",
     "output_type": "stream",
     "text": [
      "StandardScaler()\n",
      "[0.5 0.5]\n",
      "[[-1. -1.]\n",
      " [-1. -1.]\n",
      " [ 1.  1.]\n",
      " [ 1.  1.]]\n"
     ]
    }
   ],
   "source": [
    "from sklearn.datasets import load_wine \n",
    "from sklearn.model_selection import train_test_split, GridSearchCV\n",
    "from sklearn.preprocessing import StandardScaler, label_binarize\n",
    "from sklearn.pipeline import Pipeline\n",
    "from sklearn.linear_model import LogisticRegression\n",
    "from sklearn.metrics import (\n",
    "    classification_report, confusion_matrix, f1_score, roc_curve,auc, roc_auc_score\n",
    ")\n",
    "import numpy as np\n",
    "import matplotlib.pyplot as plt\n",
    "\n",
    "data = [[0,0],[0,0],[1,1],[1,1]]\n",
    "scaler = StandardScaler()\n",
    "print(scaler.fit(data))\n",
    "print(scaler.mean_)\n",
    "print(scaler.transform(data))"
   ]
  },
  {
   "cell_type": "markdown",
   "id": "a4e81728",
   "metadata": {},
   "source": []
  }
 ],
 "metadata": {
  "kernelspec": {
   "display_name": "base",
   "language": "python",
   "name": "python3"
  },
  "language_info": {
   "codemirror_mode": {
    "name": "ipython",
    "version": 3
   },
   "file_extension": ".py",
   "mimetype": "text/x-python",
   "name": "python",
   "nbconvert_exporter": "python",
   "pygments_lexer": "ipython3",
   "version": "3.12.7"
  }
 },
 "nbformat": 4,
 "nbformat_minor": 5
}
